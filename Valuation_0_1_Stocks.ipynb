{
  "nbformat": 4,
  "nbformat_minor": 0,
  "metadata": {
    "colab": {
      "name": "Valuation: 0-1: Stocks.ipynb",
      "provenance": [],
      "collapsed_sections": [],
      "toc_visible": true,
      "mount_file_id": "1_ZJuXbzS_iRbvSm7weL2CygRKVtPAael",
      "authorship_tag": "ABX9TyNUXEyMd42Y4PyKoHSSpxuV",
      "include_colab_link": true
    },
    "kernelspec": {
      "name": "python3",
      "display_name": "Python 3"
    },
    "language_info": {
      "name": "python"
    }
  },
  "cells": [
    {
      "cell_type": "markdown",
      "metadata": {
        "id": "view-in-github",
        "colab_type": "text"
      },
      "source": [
        "<a href=\"https://colab.research.google.com/github/Tanulshn/Zero-to-One-Valuation/blob/main/Valuation_0_1_Stocks.ipynb\" target=\"_parent\"><img src=\"https://colab.research.google.com/assets/colab-badge.svg\" alt=\"Open In Colab\"/></a>"
      ]
    },
    {
      "cell_type": "markdown",
      "metadata": {
        "id": "fMbUYTuAdw7x"
      },
      "source": [
        "#Objective \n",
        "To derive an alternative notation for the valuation (either PE or PB) of individual stocks to be compared with one another.\n",
        "\n"
      ]
    },
    {
      "cell_type": "markdown",
      "metadata": {
        "id": "sa5ytyryoBtG"
      },
      "source": [
        "# Package Imported\n",
        "\n",
        "For pandas, numpy and visualisation\n",
        "- import pandas as pd\n",
        "- import numpy as np\n",
        "- import seaborn as sns\n",
        "- import matplotlib.pyplot as plt\n",
        "- import pylab\n",
        "- %matplotlib inline\n",
        "- plt.style.use('seaborn-darkgrid')\n",
        "\n",
        "For Standardisation\n",
        "- from sklearn.preprocessing import StandardScaler\n"
      ]
    },
    {
      "cell_type": "code",
      "metadata": {
        "id": "PplSzRd5oq_C"
      },
      "source": [
        "import pandas as pd\n",
        "import numpy as np\n",
        "import seaborn as sns\n",
        "import matplotlib.pyplot as plt\n",
        "%matplotlib inline\n",
        "# For q-q plot\n",
        "import scipy.stats\n",
        "import pylab\n",
        "\n",
        "plt.style.use('seaborn-darkgrid')\n",
        "\n",
        "\n",
        "import warnings\n",
        "warnings.simplefilter(action='ignore')"
      ],
      "execution_count": 70,
      "outputs": []
    },
    {
      "cell_type": "code",
      "metadata": {
        "id": "IGdmGfoGdwqH",
        "colab": {
          "base_uri": "https://localhost:8080/",
          "height": 204
        },
        "outputId": "e903048d-f0aa-4444-b3a7-4d2e04d2aabd"
      },
      "source": [
        "raw_data = pd.read_csv('/content/drive/MyDrive/Colab Notebooks/Zero to One Valuation/Britannia data.csv')\n",
        "raw_data.head()"
      ],
      "execution_count": 22,
      "outputs": [
        {
          "output_type": "execute_result",
          "data": {
            "text/html": [
              "<div>\n",
              "<style scoped>\n",
              "    .dataframe tbody tr th:only-of-type {\n",
              "        vertical-align: middle;\n",
              "    }\n",
              "\n",
              "    .dataframe tbody tr th {\n",
              "        vertical-align: top;\n",
              "    }\n",
              "\n",
              "    .dataframe thead th {\n",
              "        text-align: right;\n",
              "    }\n",
              "</style>\n",
              "<table border=\"1\" class=\"dataframe\">\n",
              "  <thead>\n",
              "    <tr style=\"text-align: right;\">\n",
              "      <th></th>\n",
              "      <th>Date</th>\n",
              "      <th>Value</th>\n",
              "      <th>Mcap</th>\n",
              "    </tr>\n",
              "  </thead>\n",
              "  <tbody>\n",
              "    <tr>\n",
              "      <th>0</th>\n",
              "      <td>2/4/2007</td>\n",
              "      <td>27.61</td>\n",
              "      <td>29.03</td>\n",
              "    </tr>\n",
              "    <tr>\n",
              "      <th>1</th>\n",
              "      <td>3/4/2007</td>\n",
              "      <td>27.86</td>\n",
              "      <td>29.29</td>\n",
              "    </tr>\n",
              "    <tr>\n",
              "      <th>2</th>\n",
              "      <td>4/4/2007</td>\n",
              "      <td>27.73</td>\n",
              "      <td>29.15</td>\n",
              "    </tr>\n",
              "    <tr>\n",
              "      <th>3</th>\n",
              "      <td>5/4/2007</td>\n",
              "      <td>28.02</td>\n",
              "      <td>29.46</td>\n",
              "    </tr>\n",
              "    <tr>\n",
              "      <th>4</th>\n",
              "      <td>6/4/2007</td>\n",
              "      <td>No Data FOund</td>\n",
              "      <td>No Data FOund</td>\n",
              "    </tr>\n",
              "  </tbody>\n",
              "</table>\n",
              "</div>"
            ],
            "text/plain": [
              "       Date            Value           Mcap\n",
              "0  2/4/2007            27.61          29.03\n",
              "1  3/4/2007            27.86          29.29\n",
              "2  4/4/2007            27.73          29.15\n",
              "3  5/4/2007            28.02          29.46\n",
              "4  6/4/2007   No Data FOund   No Data FOund"
            ]
          },
          "metadata": {
            "tags": []
          },
          "execution_count": 22
        }
      ]
    },
    {
      "cell_type": "markdown",
      "metadata": {
        "id": "rqozIC--1sKz"
      },
      "source": [
        "### Data PreProcessing "
      ]
    },
    {
      "cell_type": "code",
      "metadata": {
        "colab": {
          "base_uri": "https://localhost:8080/"
        },
        "id": "OVQ1APrqdF76",
        "outputId": "10e9f4ed-6769-4484-8a3a-95db4b8ef808"
      },
      "source": [
        "# Check for info()\n",
        "raw_data.info()"
      ],
      "execution_count": 25,
      "outputs": [
        {
          "output_type": "stream",
          "text": [
            "<class 'pandas.core.frame.DataFrame'>\n",
            "RangeIndex: 5176 entries, 0 to 5175\n",
            "Data columns (total 3 columns):\n",
            " #   Column  Non-Null Count  Dtype \n",
            "---  ------  --------------  ----- \n",
            " 0   Date    5176 non-null   object\n",
            " 1   Value   5176 non-null   object\n",
            " 2   Mcap    5176 non-null   object\n",
            "dtypes: object(3)\n",
            "memory usage: 121.4+ KB\n"
          ],
          "name": "stdout"
        }
      ]
    },
    {
      "cell_type": "code",
      "metadata": {
        "id": "MKLFf4PAp1v5",
        "colab": {
          "base_uri": "https://localhost:8080/"
        },
        "outputId": "7bfaba42-15e3-42b0-b3c0-e01b32f5f034"
      },
      "source": [
        "# Change datatype to float and create another df with changed datatypes\n",
        "for i in ['Value','Mcap']:\n",
        "  df[i]= pd.to_numeric(raw_data[i], errors= 'coerce')\n",
        "\n",
        "print(raw_data.info(), '\\n\\n', df.info())"
      ],
      "execution_count": 27,
      "outputs": [
        {
          "output_type": "stream",
          "text": [
            "<class 'pandas.core.frame.DataFrame'>\n",
            "RangeIndex: 5176 entries, 0 to 5175\n",
            "Data columns (total 3 columns):\n",
            " #   Column  Non-Null Count  Dtype \n",
            "---  ------  --------------  ----- \n",
            " 0   Date    5176 non-null   object\n",
            " 1   Value   5176 non-null   object\n",
            " 2   Mcap    5176 non-null   object\n",
            "dtypes: object(3)\n",
            "memory usage: 121.4+ KB\n",
            "<class 'pandas.core.frame.DataFrame'>\n",
            "RangeIndex: 5176 entries, 0 to 5175\n",
            "Data columns (total 3 columns):\n",
            " #   Column  Non-Null Count  Dtype  \n",
            "---  ------  --------------  -----  \n",
            " 0   Date    5176 non-null   object \n",
            " 1   Value   3509 non-null   float64\n",
            " 2   Mcap    3509 non-null   float64\n",
            "dtypes: float64(2), object(1)\n",
            "memory usage: 121.4+ KB\n",
            "None \n",
            "\n",
            " None\n"
          ],
          "name": "stdout"
        }
      ]
    },
    {
      "cell_type": "code",
      "metadata": {
        "colab": {
          "base_uri": "https://localhost:8080/",
          "height": 235
        },
        "id": "L_IUnVHe2hWO",
        "outputId": "c29f632e-f269-464d-bbc9-1945a20a9904"
      },
      "source": [
        "# Set the Datetime() format for the Date column\n",
        "df['Date'] = pd.to_datetime(df['Date'], dayfirst=True)\n",
        "df.set_index('Date', inplace=True)\n",
        "df.head()"
      ],
      "execution_count": 28,
      "outputs": [
        {
          "output_type": "execute_result",
          "data": {
            "text/html": [
              "<div>\n",
              "<style scoped>\n",
              "    .dataframe tbody tr th:only-of-type {\n",
              "        vertical-align: middle;\n",
              "    }\n",
              "\n",
              "    .dataframe tbody tr th {\n",
              "        vertical-align: top;\n",
              "    }\n",
              "\n",
              "    .dataframe thead th {\n",
              "        text-align: right;\n",
              "    }\n",
              "</style>\n",
              "<table border=\"1\" class=\"dataframe\">\n",
              "  <thead>\n",
              "    <tr style=\"text-align: right;\">\n",
              "      <th></th>\n",
              "      <th>Value</th>\n",
              "      <th>Mcap</th>\n",
              "    </tr>\n",
              "    <tr>\n",
              "      <th>Date</th>\n",
              "      <th></th>\n",
              "      <th></th>\n",
              "    </tr>\n",
              "  </thead>\n",
              "  <tbody>\n",
              "    <tr>\n",
              "      <th>2007-04-02</th>\n",
              "      <td>27.61</td>\n",
              "      <td>29.03</td>\n",
              "    </tr>\n",
              "    <tr>\n",
              "      <th>2007-04-03</th>\n",
              "      <td>27.86</td>\n",
              "      <td>29.29</td>\n",
              "    </tr>\n",
              "    <tr>\n",
              "      <th>2007-04-04</th>\n",
              "      <td>27.73</td>\n",
              "      <td>29.15</td>\n",
              "    </tr>\n",
              "    <tr>\n",
              "      <th>2007-04-05</th>\n",
              "      <td>28.02</td>\n",
              "      <td>29.46</td>\n",
              "    </tr>\n",
              "    <tr>\n",
              "      <th>2007-04-06</th>\n",
              "      <td>NaN</td>\n",
              "      <td>NaN</td>\n",
              "    </tr>\n",
              "  </tbody>\n",
              "</table>\n",
              "</div>"
            ],
            "text/plain": [
              "            Value   Mcap\n",
              "Date                    \n",
              "2007-04-02  27.61  29.03\n",
              "2007-04-03  27.86  29.29\n",
              "2007-04-04  27.73  29.15\n",
              "2007-04-05  28.02  29.46\n",
              "2007-04-06    NaN    NaN"
            ]
          },
          "metadata": {
            "tags": []
          },
          "execution_count": 28
        }
      ]
    },
    {
      "cell_type": "code",
      "metadata": {
        "id": "q_LN23bL3QiE"
      },
      "source": [
        "# Create seperate dfs for frequncy based on 'm' and 'b'\n",
        "df_m = df.resample('m').last()\n",
        "df_b = df.resample('b').last()"
      ],
      "execution_count": 30,
      "outputs": []
    },
    {
      "cell_type": "code",
      "metadata": {
        "colab": {
          "base_uri": "https://localhost:8080/"
        },
        "id": "yO0BTraG5OH8",
        "outputId": "0ddf0273-6627-4cb1-bc7c-b55f365a530d"
      },
      "source": [
        "for i in ['Value','Mcap']:\n",
        "  df_b[i] = df_b[i].fillna(method='ffill')\n",
        "  df_m[i] = df_m[i].fillna(method='ffill')\n",
        "\n",
        "# Check for no of null\n",
        "print(df_m.isnull().sum(), '\\n',df_b.isnull().sum())\n",
        "print('\\n')\n",
        "# Check the size of the 2 new dfs\n",
        "print('No of months: ',len(df_m), 'and No of business days: ',len(df_b))"
      ],
      "execution_count": 48,
      "outputs": [
        {
          "output_type": "stream",
          "text": [
            "Value    0\n",
            "Mcap     0\n",
            "dtype: int64 \n",
            " Value    0\n",
            "Mcap     0\n",
            "dtype: int64\n",
            "\n",
            "\n",
            "No of months:  171 and No of business days:  3698\n"
          ],
          "name": "stdout"
        }
      ]
    },
    {
      "cell_type": "code",
      "metadata": {
        "colab": {
          "base_uri": "https://localhost:8080/"
        },
        "id": "Ijqkj1cs4LCF",
        "outputId": "69f618d6-af8e-4c8e-ef07-7bb24c636faa"
      },
      "source": [
        "# Check for null values\n"
      ],
      "execution_count": 42,
      "outputs": [
        {
          "output_type": "stream",
          "text": [
            "Value    0\n",
            "Mcap     0\n",
            "dtype: int64 \n",
            " Value    0\n",
            "Mcap     0\n",
            "dtype: int64\n"
          ],
          "name": "stdout"
        }
      ]
    },
    {
      "cell_type": "markdown",
      "metadata": {
        "id": "zH-uVHsX6a4I"
      },
      "source": [
        "The dataframes are ready to be used for further procesing\n",
        "# Variable transformation"
      ]
    },
    {
      "cell_type": "code",
      "metadata": {
        "id": "1t4zy9Ii412j"
      },
      "source": [
        "  # Import packages\n",
        "from sklearn.preprocessing import StandardScaler\n",
        "sc=StandardScaler()"
      ],
      "execution_count": 50,
      "outputs": []
    },
    {
      "cell_type": "code",
      "metadata": {
        "id": "V6PS0Mk43-j4"
      },
      "source": [
        "# Create a function for transformation\n",
        "def scale(series, monthly=False):\n",
        "  \"\"\" Returns a Standardised series based on the Standard scale\n",
        "  Monthly - Whether to perform on monthly data or daily data\n",
        "  \"\"\"\n",
        "\n",
        "  if monthly:\n",
        "    series_fit = sc.fit_transform(series)[-84:] # no of months in 7 years\n",
        "    scaled_values = sc.transform(series)\n",
        "\n",
        "  else:\n",
        "    series_fit = sc.fit_transform(series)[-1750:] # no of days in 7 years\n",
        "    scaled_values = sc.transform(series)\n",
        "  \n",
        "  return scaled_values\n"
      ],
      "execution_count": 63,
      "outputs": []
    },
    {
      "cell_type": "code",
      "metadata": {
        "colab": {
          "base_uri": "https://localhost:8080/",
          "height": 235
        },
        "id": "XlCTviDM4IbT",
        "outputId": "ae53c4cf-7d94-40f1-9e71-60a7a7820602"
      },
      "source": [
        "df_m['S_value'] = scale(df_m[['Value']],monthly = True)\n",
        "df_m.tail()"
      ],
      "execution_count": 66,
      "outputs": [
        {
          "output_type": "execute_result",
          "data": {
            "text/html": [
              "<div>\n",
              "<style scoped>\n",
              "    .dataframe tbody tr th:only-of-type {\n",
              "        vertical-align: middle;\n",
              "    }\n",
              "\n",
              "    .dataframe tbody tr th {\n",
              "        vertical-align: top;\n",
              "    }\n",
              "\n",
              "    .dataframe thead th {\n",
              "        text-align: right;\n",
              "    }\n",
              "</style>\n",
              "<table border=\"1\" class=\"dataframe\">\n",
              "  <thead>\n",
              "    <tr style=\"text-align: right;\">\n",
              "      <th></th>\n",
              "      <th>Value</th>\n",
              "      <th>Mcap</th>\n",
              "      <th>S_value</th>\n",
              "    </tr>\n",
              "    <tr>\n",
              "      <th>Date</th>\n",
              "      <th></th>\n",
              "      <th></th>\n",
              "      <th></th>\n",
              "    </tr>\n",
              "  </thead>\n",
              "  <tbody>\n",
              "    <tr>\n",
              "      <th>2021-02-28</th>\n",
              "      <td>43.23</td>\n",
              "      <td>810.18</td>\n",
              "      <td>0.145658</td>\n",
              "    </tr>\n",
              "    <tr>\n",
              "      <th>2021-03-31</th>\n",
              "      <td>46.89</td>\n",
              "      <td>873.89</td>\n",
              "      <td>0.409604</td>\n",
              "    </tr>\n",
              "    <tr>\n",
              "      <th>2021-04-30</th>\n",
              "      <td>44.57</td>\n",
              "      <td>830.71</td>\n",
              "      <td>0.242294</td>\n",
              "    </tr>\n",
              "    <tr>\n",
              "      <th>2021-05-31</th>\n",
              "      <td>44.55</td>\n",
              "      <td>830.44</td>\n",
              "      <td>0.240852</td>\n",
              "    </tr>\n",
              "    <tr>\n",
              "      <th>2021-06-30</th>\n",
              "      <td>44.90</td>\n",
              "      <td>836.97</td>\n",
              "      <td>0.266093</td>\n",
              "    </tr>\n",
              "  </tbody>\n",
              "</table>\n",
              "</div>"
            ],
            "text/plain": [
              "            Value    Mcap   S_value\n",
              "Date                               \n",
              "2021-02-28  43.23  810.18  0.145658\n",
              "2021-03-31  46.89  873.89  0.409604\n",
              "2021-04-30  44.57  830.71  0.242294\n",
              "2021-05-31  44.55  830.44  0.240852\n",
              "2021-06-30  44.90  836.97  0.266093"
            ]
          },
          "metadata": {
            "tags": []
          },
          "execution_count": 66
        }
      ]
    },
    {
      "cell_type": "code",
      "metadata": {
        "colab": {
          "base_uri": "https://localhost:8080/",
          "height": 235
        },
        "id": "P0w40w9m89d3",
        "outputId": "7479bf46-c78f-44b8-ce74-d5d9486ecb24"
      },
      "source": [
        "df_b['S_value'] = scale(df_b[['Value']])\n",
        "df_b.tail()"
      ],
      "execution_count": 67,
      "outputs": [
        {
          "output_type": "execute_result",
          "data": {
            "text/html": [
              "<div>\n",
              "<style scoped>\n",
              "    .dataframe tbody tr th:only-of-type {\n",
              "        vertical-align: middle;\n",
              "    }\n",
              "\n",
              "    .dataframe tbody tr th {\n",
              "        vertical-align: top;\n",
              "    }\n",
              "\n",
              "    .dataframe thead th {\n",
              "        text-align: right;\n",
              "    }\n",
              "</style>\n",
              "<table border=\"1\" class=\"dataframe\">\n",
              "  <thead>\n",
              "    <tr style=\"text-align: right;\">\n",
              "      <th></th>\n",
              "      <th>Value</th>\n",
              "      <th>Mcap</th>\n",
              "      <th>S_value</th>\n",
              "    </tr>\n",
              "    <tr>\n",
              "      <th>Date</th>\n",
              "      <th></th>\n",
              "      <th></th>\n",
              "      <th></th>\n",
              "    </tr>\n",
              "  </thead>\n",
              "  <tbody>\n",
              "    <tr>\n",
              "      <th>2021-05-27</th>\n",
              "      <td>44.16</td>\n",
              "      <td>823.11</td>\n",
              "      <td>0.224858</td>\n",
              "    </tr>\n",
              "    <tr>\n",
              "      <th>2021-05-28</th>\n",
              "      <td>44.22</td>\n",
              "      <td>824.14</td>\n",
              "      <td>0.229204</td>\n",
              "    </tr>\n",
              "    <tr>\n",
              "      <th>2021-05-31</th>\n",
              "      <td>44.55</td>\n",
              "      <td>830.44</td>\n",
              "      <td>0.253110</td>\n",
              "    </tr>\n",
              "    <tr>\n",
              "      <th>2021-06-01</th>\n",
              "      <td>44.56</td>\n",
              "      <td>830.65</td>\n",
              "      <td>0.253834</td>\n",
              "    </tr>\n",
              "    <tr>\n",
              "      <th>2021-06-02</th>\n",
              "      <td>44.90</td>\n",
              "      <td>836.97</td>\n",
              "      <td>0.278465</td>\n",
              "    </tr>\n",
              "  </tbody>\n",
              "</table>\n",
              "</div>"
            ],
            "text/plain": [
              "            Value    Mcap   S_value\n",
              "Date                               \n",
              "2021-05-27  44.16  823.11  0.224858\n",
              "2021-05-28  44.22  824.14  0.229204\n",
              "2021-05-31  44.55  830.44  0.253110\n",
              "2021-06-01  44.56  830.65  0.253834\n",
              "2021-06-02  44.90  836.97  0.278465"
            ]
          },
          "metadata": {
            "tags": []
          },
          "execution_count": 67
        }
      ]
    },
    {
      "cell_type": "code",
      "metadata": {
        "id": "q6GNgW6vAHHX"
      },
      "source": [
        "# Define a function to plot visualistion for the Scaled values\n",
        "\n",
        "def scale_plot(df):\n",
        "  print('The Valuation of The stock is:', df['Value'][-1],' and the scaled value is: ',df['S_value'][-1])\n",
        "\n",
        "  print('\\n')\n",
        "  plt.figure(figsize=(15,8))\n",
        "  plt.subplot(1,2,1)\n",
        "  sns.distplot(df['Value'], bins=50)\n",
        "  plt.axvline(x = df['Value'][-1], color='b')\n",
        "\n",
        "  plt.subplot(1,2,2)\n",
        "  sns.distplot(df['S_value'], bins=50)\n",
        "  plt.axvline(x = df['S_value'][-1], color='b')"
      ],
      "execution_count": 76,
      "outputs": []
    },
    {
      "cell_type": "code",
      "metadata": {
        "colab": {
          "base_uri": "https://localhost:8080/",
          "height": 443
        },
        "id": "mCjL0xZgApUZ",
        "outputId": "90d639b0-8927-4687-8c1f-9199ad0386c4"
      },
      "source": [
        "scale_plot(df_b)"
      ],
      "execution_count": 77,
      "outputs": [
        {
          "output_type": "stream",
          "text": [
            "The Valuation of The stock is: 44.9  and the scaled value is:  0.2784648086540666\n",
            "\n",
            "\n"
          ],
          "name": "stdout"
        },
        {
          "output_type": "display_data",
          "data": {
            "image/png": "[encoded data removed]",
            "text/plain": [
              "<Figure size 1080x576 with 2 Axes>"
            ]
          },
          "metadata": {
            "tags": []
          }
        }
      ]
    },
    {
      "cell_type": "code",
      "metadata": {
        "colab": {
          "base_uri": "https://localhost:8080/",
          "height": 444
        },
        "id": "FeJmM8DSF-0-",
        "outputId": "ad023314-b590-4f32-8bfa-e8658d62002c"
      },
      "source": [
        "scale_plot(df_m)"
      ],
      "execution_count": 78,
      "outputs": [
        {
          "output_type": "stream",
          "text": [
            "The Valuation of The stock is: 44.9  and the scaled value is:  0.2660925572808558\n",
            "\n",
            "\n"
          ],
          "name": "stdout"
        },
        {
          "output_type": "display_data",
          "data": {
            "image/png": "[encoded data removed]",
            "text/plain": [
              "<Figure size 1080x576 with 2 Axes>"
            ]
          },
          "metadata": {
            "tags": []
          }
        }
      ]
    },
    {
      "cell_type": "code",
      "metadata": {
        "id": "MZA_fVr5GC-T"
      },
      "source": [
        ""
      ],
      "execution_count": null,
      "outputs": []
    }
  ]
}