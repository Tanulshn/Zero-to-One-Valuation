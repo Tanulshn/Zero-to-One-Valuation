{
  "nbformat": 4,
  "nbformat_minor": 0,
  "metadata": {
    "colab": {
      "name": "Valuation: 0-1: Stocks.ipynb",
      "provenance": [],
      "collapsed_sections": [],
      "toc_visible": true,
      "history_visible": true,
      "mount_file_id": "1_ZJuXbzS_iRbvSm7weL2CygRKVtPAael",
      "authorship_tag": "ABX9TyMKFJuGC/AFjLJAiV3CTVaD",
      "include_colab_link": true
    },
    "kernelspec": {
      "name": "python3",
      "display_name": "Python 3"
    },
    "language_info": {
      "name": "python"
    }
  },
  "cells": [
    {
      "cell_type": "markdown",
      "metadata": {
        "id": "view-in-github",
        "colab_type": "text"
      },
      "source": [
        "<a href=\"https://colab.research.google.com/github/Tanulshn/Zero-to-One-Valuation/blob/main/Valuation_0_1_Stocks.ipynb\" target=\"_parent\"><img src=\"https://colab.research.google.com/assets/colab-badge.svg\" alt=\"Open In Colab\"/></a>"
      ]
    },
    {
      "cell_type": "markdown",
      "metadata": {
        "id": "fMbUYTuAdw7x"
      },
      "source": [
        "#Objective \n",
        "To derive an alternative notation for the valuation (either PE or PB) of individual stocks to be compared with one another.\n",
        "\n"
      ]
    },
    {
      "cell_type": "markdown",
      "metadata": {
        "id": "sa5ytyryoBtG"
      },
      "source": [
        "# Package Imported\n",
        "\n",
        "For pandas, numpy and visualisation\n",
        "- import pandas as pd\n",
        "- import numpy as np\n",
        "- import seaborn as sns\n",
        "- import matplotlib.pyplot as plt\n",
        "- import pylab\n",
        "- %matplotlib inline\n",
        "- plt.style.use('seaborn-darkgrid')\n",
        "\n",
        "For Standardisation\n",
        "- from sklearn.preprocessing import StandardScaler\n"
      ]
    },
    {
      "cell_type": "code",
      "metadata": {
        "id": "PplSzRd5oq_C"
      },
      "source": [
        "import pandas as pd\n",
        "import numpy as np\n",
        "import seaborn as sns\n",
        "import matplotlib.pyplot as plt\n",
        "%matplotlib inline\n",
        "# For q-q plot\n",
        "import scipy.stats\n",
        "import pylab\n",
        "\n",
        "plt.style.use('seaborn-darkgrid')\n",
        "\n",
        "\n",
        "import warnings\n",
        "warnings.simplefilter(action='ignore')"
      ],
      "execution_count": 1,
      "outputs": []
    },
    {
      "cell_type": "code",
      "metadata": {
        "id": "IGdmGfoGdwqH",
        "colab": {
          "base_uri": "https://localhost:8080/",
          "height": 204
        },
        "outputId": "a6f0e96b-9237-44db-e6b0-6aedf73d9e86"
      },
      "source": [
        "raw_data = pd.read_csv('/content/drive/MyDrive/Colab Notebooks/Zero to One Valuation/HDFC Bank.csv')\n",
        "raw_data.head()"
      ],
      "execution_count": 2,
      "outputs": [
        {
          "output_type": "execute_result",
          "data": {
            "text/html": [
              "<div>\n",
              "<style scoped>\n",
              "    .dataframe tbody tr th:only-of-type {\n",
              "        vertical-align: middle;\n",
              "    }\n",
              "\n",
              "    .dataframe tbody tr th {\n",
              "        vertical-align: top;\n",
              "    }\n",
              "\n",
              "    .dataframe thead th {\n",
              "        text-align: right;\n",
              "    }\n",
              "</style>\n",
              "<table border=\"1\" class=\"dataframe\">\n",
              "  <thead>\n",
              "    <tr style=\"text-align: right;\">\n",
              "      <th></th>\n",
              "      <th>Date</th>\n",
              "      <th>Value</th>\n",
              "      <th>Mcap</th>\n",
              "    </tr>\n",
              "  </thead>\n",
              "  <tbody>\n",
              "    <tr>\n",
              "      <th>0</th>\n",
              "      <td>01-04-2002</td>\n",
              "      <td>3.37</td>\n",
              "      <td>6547.59</td>\n",
              "    </tr>\n",
              "    <tr>\n",
              "      <th>1</th>\n",
              "      <td>02-04-2002</td>\n",
              "      <td>3.39</td>\n",
              "      <td>6581.35</td>\n",
              "    </tr>\n",
              "    <tr>\n",
              "      <th>2</th>\n",
              "      <td>03-04-2002</td>\n",
              "      <td>3.31</td>\n",
              "      <td>6428</td>\n",
              "    </tr>\n",
              "    <tr>\n",
              "      <th>3</th>\n",
              "      <td>04-04-2002</td>\n",
              "      <td>3.25</td>\n",
              "      <td>6318.27</td>\n",
              "    </tr>\n",
              "    <tr>\n",
              "      <th>4</th>\n",
              "      <td>05-04-2002</td>\n",
              "      <td>3.26</td>\n",
              "      <td>6328.12</td>\n",
              "    </tr>\n",
              "  </tbody>\n",
              "</table>\n",
              "</div>"
            ],
            "text/plain": [
              "         Date Value     Mcap\n",
              "0  01-04-2002  3.37  6547.59\n",
              "1  02-04-2002  3.39  6581.35\n",
              "2  03-04-2002  3.31     6428\n",
              "3  04-04-2002  3.25  6318.27\n",
              "4  05-04-2002  3.26  6328.12"
            ]
          },
          "metadata": {
            "tags": []
          },
          "execution_count": 2
        }
      ]
    },
    {
      "cell_type": "markdown",
      "metadata": {
        "id": "rqozIC--1sKz"
      },
      "source": [
        "### Data PreProcessing "
      ]
    },
    {
      "cell_type": "code",
      "metadata": {
        "colab": {
          "base_uri": "https://localhost:8080/"
        },
        "id": "OVQ1APrqdF76",
        "outputId": "b7032a80-b5d4-41c5-dfd2-0f36fa9804b1"
      },
      "source": [
        "# Check for info()\n",
        "df = raw_data.copy()\n",
        "df.info()"
      ],
      "execution_count": 3,
      "outputs": [
        {
          "output_type": "stream",
          "text": [
            "<class 'pandas.core.frame.DataFrame'>\n",
            "RangeIndex: 7003 entries, 0 to 7002\n",
            "Data columns (total 3 columns):\n",
            " #   Column  Non-Null Count  Dtype \n",
            "---  ------  --------------  ----- \n",
            " 0   Date    7003 non-null   object\n",
            " 1   Value   7003 non-null   object\n",
            " 2   Mcap    7003 non-null   object\n",
            "dtypes: object(3)\n",
            "memory usage: 164.3+ KB\n"
          ],
          "name": "stdout"
        }
      ]
    },
    {
      "cell_type": "code",
      "metadata": {
        "id": "MKLFf4PAp1v5",
        "colab": {
          "base_uri": "https://localhost:8080/"
        },
        "outputId": "2ba8e8e3-3a7a-45a1-c399-53cdd1cb140a"
      },
      "source": [
        "# Change datatype to float and create another df with changed datatypes\n",
        "for i in ['Value','Mcap']:\n",
        "  df[i]= pd.to_numeric(raw_data[i], errors= 'coerce')\n",
        "\n",
        "print(raw_data.info(), '\\n\\n', df.info())"
      ],
      "execution_count": 4,
      "outputs": [
        {
          "output_type": "stream",
          "text": [
            "<class 'pandas.core.frame.DataFrame'>\n",
            "RangeIndex: 7003 entries, 0 to 7002\n",
            "Data columns (total 3 columns):\n",
            " #   Column  Non-Null Count  Dtype \n",
            "---  ------  --------------  ----- \n",
            " 0   Date    7003 non-null   object\n",
            " 1   Value   7003 non-null   object\n",
            " 2   Mcap    7003 non-null   object\n",
            "dtypes: object(3)\n",
            "memory usage: 164.3+ KB\n",
            "<class 'pandas.core.frame.DataFrame'>\n",
            "RangeIndex: 7003 entries, 0 to 7002\n",
            "Data columns (total 3 columns):\n",
            " #   Column  Non-Null Count  Dtype  \n",
            "---  ------  --------------  -----  \n",
            " 0   Date    7003 non-null   object \n",
            " 1   Value   4768 non-null   float64\n",
            " 2   Mcap    4768 non-null   float64\n",
            "dtypes: float64(2), object(1)\n",
            "memory usage: 164.3+ KB\n",
            "None \n",
            "\n",
            " None\n"
          ],
          "name": "stdout"
        }
      ]
    },
    {
      "cell_type": "code",
      "metadata": {
        "colab": {
          "base_uri": "https://localhost:8080/",
          "height": 235
        },
        "id": "L_IUnVHe2hWO",
        "outputId": "16324769-056e-4327-e2b4-0fef7ec4c60a"
      },
      "source": [
        "# Set the Datetime() format for the Date column\n",
        "df['Date'] = pd.to_datetime(df['Date'], dayfirst=True)\n",
        "df.set_index('Date', inplace=True)\n",
        "df.head()"
      ],
      "execution_count": 5,
      "outputs": [
        {
          "output_type": "execute_result",
          "data": {
            "text/html": [
              "<div>\n",
              "<style scoped>\n",
              "    .dataframe tbody tr th:only-of-type {\n",
              "        vertical-align: middle;\n",
              "    }\n",
              "\n",
              "    .dataframe tbody tr th {\n",
              "        vertical-align: top;\n",
              "    }\n",
              "\n",
              "    .dataframe thead th {\n",
              "        text-align: right;\n",
              "    }\n",
              "</style>\n",
              "<table border=\"1\" class=\"dataframe\">\n",
              "  <thead>\n",
              "    <tr style=\"text-align: right;\">\n",
              "      <th></th>\n",
              "      <th>Value</th>\n",
              "      <th>Mcap</th>\n",
              "    </tr>\n",
              "    <tr>\n",
              "      <th>Date</th>\n",
              "      <th></th>\n",
              "      <th></th>\n",
              "    </tr>\n",
              "  </thead>\n",
              "  <tbody>\n",
              "    <tr>\n",
              "      <th>2002-04-01</th>\n",
              "      <td>3.37</td>\n",
              "      <td>6547.59</td>\n",
              "    </tr>\n",
              "    <tr>\n",
              "      <th>2002-04-02</th>\n",
              "      <td>3.39</td>\n",
              "      <td>6581.35</td>\n",
              "    </tr>\n",
              "    <tr>\n",
              "      <th>2002-04-03</th>\n",
              "      <td>3.31</td>\n",
              "      <td>6428.00</td>\n",
              "    </tr>\n",
              "    <tr>\n",
              "      <th>2002-04-04</th>\n",
              "      <td>3.25</td>\n",
              "      <td>6318.27</td>\n",
              "    </tr>\n",
              "    <tr>\n",
              "      <th>2002-04-05</th>\n",
              "      <td>3.26</td>\n",
              "      <td>6328.12</td>\n",
              "    </tr>\n",
              "  </tbody>\n",
              "</table>\n",
              "</div>"
            ],
            "text/plain": [
              "            Value     Mcap\n",
              "Date                      \n",
              "2002-04-01   3.37  6547.59\n",
              "2002-04-02   3.39  6581.35\n",
              "2002-04-03   3.31  6428.00\n",
              "2002-04-04   3.25  6318.27\n",
              "2002-04-05   3.26  6328.12"
            ]
          },
          "metadata": {
            "tags": []
          },
          "execution_count": 5
        }
      ]
    },
    {
      "cell_type": "code",
      "metadata": {
        "id": "q_LN23bL3QiE"
      },
      "source": [
        "# Create seperate dfs for frequncy based on 'm' and 'b'\n",
        "df_m = df.resample('m').last()\n",
        "df_b = df.resample('b').last()"
      ],
      "execution_count": 6,
      "outputs": []
    },
    {
      "cell_type": "code",
      "metadata": {
        "colab": {
          "base_uri": "https://localhost:8080/"
        },
        "id": "yO0BTraG5OH8",
        "outputId": "a9868297-eccf-46e4-87b9-da5cfdd7b249"
      },
      "source": [
        "for i in ['Value','Mcap']:\n",
        "  df_b[i] = df_b[i].fillna(method='ffill')\n",
        "  df_m[i] = df_m[i].fillna(method='ffill')\n",
        "\n",
        "# Check for no of null\n",
        "print(df_m.isnull().sum(), '\\n',df_b.isnull().sum())\n",
        "print('\\n')\n",
        "# Check the size of the 2 new dfs\n",
        "print('No of months: ',len(df_m), 'and No of business days: ',len(df_b))"
      ],
      "execution_count": 7,
      "outputs": [
        {
          "output_type": "stream",
          "text": [
            "Value    0\n",
            "Mcap     0\n",
            "dtype: int64 \n",
            " Value    0\n",
            "Mcap     0\n",
            "dtype: int64\n",
            "\n",
            "\n",
            "No of months:  231 and No of business days:  5003\n"
          ],
          "name": "stdout"
        }
      ]
    },
    {
      "cell_type": "code",
      "metadata": {
        "id": "Ijqkj1cs4LCF"
      },
      "source": [
        "# Check for null values\n"
      ],
      "execution_count": 8,
      "outputs": []
    },
    {
      "cell_type": "markdown",
      "metadata": {
        "id": "zH-uVHsX6a4I"
      },
      "source": [
        "The dataframes are ready to be used for further procesing\n",
        "# Variable transformation"
      ]
    },
    {
      "cell_type": "markdown",
      "metadata": {
        "id": "At_IdjD3HVhk"
      },
      "source": [
        "###As of today"
      ]
    },
    {
      "cell_type": "code",
      "metadata": {
        "id": "1t4zy9Ii412j"
      },
      "source": [
        "  # Import packages\n",
        "from sklearn.preprocessing import StandardScaler\n",
        "sc=StandardScaler()"
      ],
      "execution_count": 9,
      "outputs": []
    },
    {
      "cell_type": "code",
      "metadata": {
        "id": "V6PS0Mk43-j4"
      },
      "source": [
        "# Create a function for transformation\n",
        "def scale(series, monthly=False):\n",
        "  \"\"\" Returns a Standardised series based on the Standard scale\n",
        "  Monthly - Whether to perform on monthly data or daily data\n",
        "  \"\"\"\n",
        "\n",
        "  if monthly:\n",
        "    if len(series)>84:\n",
        "      print('No of months available is {}. Hence, the scale function can be applied.'.format(len(series)))\n",
        "      sc.fit_transform(series[-84:])\n",
        "      scaled_values = sc.transform(series)\n",
        "    else:\n",
        "      print('No of months available is {}. The scale function can not be applied.'.format(len(series)))\n",
        "\n",
        "    series_fit = sc.fit_transform(series)[-84:] # no of months in 7 years\n",
        "    scaled_values = sc.transform(series)\n",
        " \n",
        "  else:\n",
        "    if len(series)>1750:\n",
        "        print('No of days available is {}. Hence, the scale function can be applied.'.format(len(series)))\n",
        "        sc.fit_transform(series[-84:])\n",
        "        scaled_values = sc.transform(series)\n",
        "    else:\n",
        "      print('No of days available is {}. The scale function can not be applied.'.format(len(series)))\n",
        "\n",
        "    series_fit = sc.fit_transform(series)[-1750:] # no of days in 7 years\n",
        "    scaled_values = sc.transform(series)\n",
        "  \n",
        "  return scaled_values\n"
      ],
      "execution_count": 10,
      "outputs": []
    },
    {
      "cell_type": "code",
      "metadata": {
        "colab": {
          "base_uri": "https://localhost:8080/",
          "height": 252
        },
        "id": "XlCTviDM4IbT",
        "outputId": "cb9d3d49-a499-4fa7-e099-e160d07d1046"
      },
      "source": [
        "df_m['S_value'] = scale(df_m[['Value']],monthly = True).round(3)\n",
        "df_m.tail()"
      ],
      "execution_count": 11,
      "outputs": [
        {
          "output_type": "stream",
          "text": [
            "No of months available is 231. Hence, the scale function can be applied.\n"
          ],
          "name": "stdout"
        },
        {
          "output_type": "execute_result",
          "data": {
            "text/html": [
              "<div>\n",
              "<style scoped>\n",
              "    .dataframe tbody tr th:only-of-type {\n",
              "        vertical-align: middle;\n",
              "    }\n",
              "\n",
              "    .dataframe tbody tr th {\n",
              "        vertical-align: top;\n",
              "    }\n",
              "\n",
              "    .dataframe thead th {\n",
              "        text-align: right;\n",
              "    }\n",
              "</style>\n",
              "<table border=\"1\" class=\"dataframe\">\n",
              "  <thead>\n",
              "    <tr style=\"text-align: right;\">\n",
              "      <th></th>\n",
              "      <th>Value</th>\n",
              "      <th>Mcap</th>\n",
              "      <th>S_value</th>\n",
              "    </tr>\n",
              "    <tr>\n",
              "      <th>Date</th>\n",
              "      <th></th>\n",
              "      <th></th>\n",
              "      <th></th>\n",
              "    </tr>\n",
              "  </thead>\n",
              "  <tbody>\n",
              "    <tr>\n",
              "      <th>2021-02-28</th>\n",
              "      <td>4.33</td>\n",
              "      <td>845552.53</td>\n",
              "      <td>0.121</td>\n",
              "    </tr>\n",
              "    <tr>\n",
              "      <th>2021-03-31</th>\n",
              "      <td>4.04</td>\n",
              "      <td>823360.73</td>\n",
              "      <td>-0.212</td>\n",
              "    </tr>\n",
              "    <tr>\n",
              "      <th>2021-04-30</th>\n",
              "      <td>3.82</td>\n",
              "      <td>778850.97</td>\n",
              "      <td>-0.464</td>\n",
              "    </tr>\n",
              "    <tr>\n",
              "      <th>2021-05-31</th>\n",
              "      <td>4.11</td>\n",
              "      <td>836756.26</td>\n",
              "      <td>-0.131</td>\n",
              "    </tr>\n",
              "    <tr>\n",
              "      <th>2021-06-30</th>\n",
              "      <td>4.07</td>\n",
              "      <td>829969.07</td>\n",
              "      <td>-0.177</td>\n",
              "    </tr>\n",
              "  </tbody>\n",
              "</table>\n",
              "</div>"
            ],
            "text/plain": [
              "            Value       Mcap  S_value\n",
              "Date                                 \n",
              "2021-02-28   4.33  845552.53    0.121\n",
              "2021-03-31   4.04  823360.73   -0.212\n",
              "2021-04-30   3.82  778850.97   -0.464\n",
              "2021-05-31   4.11  836756.26   -0.131\n",
              "2021-06-30   4.07  829969.07   -0.177"
            ]
          },
          "metadata": {
            "tags": []
          },
          "execution_count": 11
        }
      ]
    },
    {
      "cell_type": "code",
      "metadata": {
        "colab": {
          "base_uri": "https://localhost:8080/",
          "height": 252
        },
        "id": "P0w40w9m89d3",
        "outputId": "6ff89d1d-5319-43ab-cb1a-ed238c15b0aa"
      },
      "source": [
        "df_b['S_value'] = scale(df_b[['Value']]).round(3)\n",
        "df_b.tail()"
      ],
      "execution_count": 12,
      "outputs": [
        {
          "output_type": "stream",
          "text": [
            "No of days available is 5003. Hence, the scale function can be applied.\n"
          ],
          "name": "stdout"
        },
        {
          "output_type": "execute_result",
          "data": {
            "text/html": [
              "<div>\n",
              "<style scoped>\n",
              "    .dataframe tbody tr th:only-of-type {\n",
              "        vertical-align: middle;\n",
              "    }\n",
              "\n",
              "    .dataframe tbody tr th {\n",
              "        vertical-align: top;\n",
              "    }\n",
              "\n",
              "    .dataframe thead th {\n",
              "        text-align: right;\n",
              "    }\n",
              "</style>\n",
              "<table border=\"1\" class=\"dataframe\">\n",
              "  <thead>\n",
              "    <tr style=\"text-align: right;\">\n",
              "      <th></th>\n",
              "      <th>Value</th>\n",
              "      <th>Mcap</th>\n",
              "      <th>S_value</th>\n",
              "    </tr>\n",
              "    <tr>\n",
              "      <th>Date</th>\n",
              "      <th></th>\n",
              "      <th></th>\n",
              "      <th></th>\n",
              "    </tr>\n",
              "  </thead>\n",
              "  <tbody>\n",
              "    <tr>\n",
              "      <th>2021-05-27</th>\n",
              "      <td>4.01</td>\n",
              "      <td>816339.50</td>\n",
              "      <td>-0.260</td>\n",
              "    </tr>\n",
              "    <tr>\n",
              "      <th>2021-05-28</th>\n",
              "      <td>4.07</td>\n",
              "      <td>828341.24</td>\n",
              "      <td>-0.189</td>\n",
              "    </tr>\n",
              "    <tr>\n",
              "      <th>2021-05-31</th>\n",
              "      <td>4.11</td>\n",
              "      <td>836756.26</td>\n",
              "      <td>-0.142</td>\n",
              "    </tr>\n",
              "    <tr>\n",
              "      <th>2021-06-01</th>\n",
              "      <td>4.09</td>\n",
              "      <td>834024.83</td>\n",
              "      <td>-0.165</td>\n",
              "    </tr>\n",
              "    <tr>\n",
              "      <th>2021-06-02</th>\n",
              "      <td>4.07</td>\n",
              "      <td>829969.07</td>\n",
              "      <td>-0.189</td>\n",
              "    </tr>\n",
              "  </tbody>\n",
              "</table>\n",
              "</div>"
            ],
            "text/plain": [
              "            Value       Mcap  S_value\n",
              "Date                                 \n",
              "2021-05-27   4.01  816339.50   -0.260\n",
              "2021-05-28   4.07  828341.24   -0.189\n",
              "2021-05-31   4.11  836756.26   -0.142\n",
              "2021-06-01   4.09  834024.83   -0.165\n",
              "2021-06-02   4.07  829969.07   -0.189"
            ]
          },
          "metadata": {
            "tags": []
          },
          "execution_count": 12
        }
      ]
    },
    {
      "cell_type": "code",
      "metadata": {
        "id": "q6GNgW6vAHHX"
      },
      "source": [
        "# Define a function to plot visualistion for the Scaled values\n",
        "\n",
        "def scale_plot(df):\n",
        "  print('The Valuation of The stock is:', df['Value'][-1],' and the scaled value is: ',df['S_value'][-1])\n",
        "\n",
        "  print('\\n')\n",
        "  plt.figure(figsize=(15,8))\n",
        "  plt.subplot(1,2,1)\n",
        "  sns.distplot(df['Value'], bins=50)\n",
        "  plt.axvline(x = df['Value'][-1], color='b')\n",
        "  print('The normalised distribution of the Values')\n",
        "\n",
        "  plt.subplot(1,2,2)\n",
        "  sns.distplot(df['S_value'], bins=50)\n",
        "  plt.axvline(x = df['S_value'][-1], color='b')\n",
        "  print('The normalised distribution of the Scaled Values')"
      ],
      "execution_count": 13,
      "outputs": []
    },
    {
      "cell_type": "code",
      "metadata": {
        "colab": {
          "base_uri": "https://localhost:8080/",
          "height": 541
        },
        "id": "mCjL0xZgApUZ",
        "outputId": "fdcdc10c-20fd-490d-de21-7802ceaa997e"
      },
      "source": [
        "scale_plot(df_b)"
      ],
      "execution_count": 14,
      "outputs": [
        {
          "output_type": "stream",
          "text": [
            "The Valuation of The stock is: 4.07  and the scaled value is:  -0.189\n",
            "\n",
            "\n",
            "The normalised distribution of the Values\n",
            "The normalised distribution of the Scaled Values\n"
          ],
          "name": "stdout"
        },
        {
          "output_type": "display_data",
          "data": {
            "image/png": "[encoded data removed]",
            "text/plain": [
              "<Figure size 1080x576 with 2 Axes>"
            ]
          },
          "metadata": {
            "tags": [],
            "needs_background": "light"
          }
        }
      ]
    },
    {
      "cell_type": "code",
      "metadata": {
        "colab": {
          "base_uri": "https://localhost:8080/",
          "height": 541
        },
        "id": "FeJmM8DSF-0-",
        "outputId": "e7a1e880-5071-43bc-dbc3-f360e24bdd55"
      },
      "source": [
        "scale_plot(df_m)"
      ],
      "execution_count": 15,
      "outputs": [
        {
          "output_type": "stream",
          "text": [
            "The Valuation of The stock is: 4.07  and the scaled value is:  -0.177\n",
            "\n",
            "\n",
            "The normalised distribution of the Values\n",
            "The normalised distribution of the Scaled Values\n"
          ],
          "name": "stdout"
        },
        {
          "output_type": "display_data",
          "data": {
            "image/png": "[encoded data removed]",
            "text/plain": [
              "<Figure size 1080x576 with 2 Axes>"
            ]
          },
          "metadata": {
            "tags": [],
            "needs_background": "light"
          }
        }
      ]
    },
    {
      "cell_type": "code",
      "metadata": {
        "id": "sY43NCvSNf_4"
      },
      "source": [
        ""
      ],
      "execution_count": 15,
      "outputs": []
    },
    {
      "cell_type": "markdown",
      "metadata": {
        "id": "BdDjqHgwLWSP"
      },
      "source": [
        "### As per custom month\n",
        "Custom Selection for deriving Valuation equivalence at a certain point.\n",
        "\n",
        "- Pass a snippet of the main series as arguement. (Starting from the beginning and ending at a dersired month/date)\n",
        "- pass scale to determine if the past 7 years data can be figured out or not\n",
        "- Save the output as a seperate dataframe. and join it with the original df with timestamp as reference.\n",
        " "
      ]
    },
    {
      "cell_type": "code",
      "metadata": {
        "id": "kubor1cUNfuZ"
      },
      "source": [
        "# # Create a function for transformation\n",
        "# def scale_d(series, monthly=False):\n",
        "#   \"\"\" Returns a Standardised series based on the Standard scale\n",
        "#   Monthly - Whether to perform on monthly data or daily data\n",
        "#   \"\"\"\n",
        "\n",
        "#   if monthly:\n",
        "#     if len(a)>84:\n",
        "#       print('No of months available is {}. Hence, the dynamic valuation can be applied'.format(len(a)))\n",
        "#       sc.fit_transform(a[-84:])\n",
        "#       scaled_values = sc.transform(a)\n",
        "#     else:\n",
        "#       print('No of months available is {}. The dynamic valuation can not be applied'.format(len(a)))\n",
        "\n",
        "#     series_fit = sc.fit_transform(series)[-84:] # no of months in 7 years\n",
        "#     scaled_values = sc.transform(series)\n",
        " \n",
        "#   else:\n",
        "#     if len(a)>1750:\n",
        "#         print('No of days available is {}. Hence, the dynamic valuation can be applied'.format(len(a)))\n",
        "#         sc.fit_transform(a[-84:])\n",
        "#         scaled_values = sc.transform(a)\n",
        "#     else:\n",
        "#       print('No of days available is {}. The dynamic valuation can not be applied'.format(len(a)))\n",
        "\n",
        "#     series_fit = sc.fit_transform(series)[-1750:] # no of days in 7 years\n",
        "#     scaled_values = sc.transform(series)\n",
        "  \n",
        "#   return scaled_values"
      ],
      "execution_count": 16,
      "outputs": []
    },
    {
      "cell_type": "code",
      "metadata": {
        "id": "p7nVDt9wLeDS"
      },
      "source": [
        "# # Create if un for determining if the data is more than past 7 years\n",
        "\n",
        "# def dynamic_scale(a):\n",
        "#   if len(a)>84:\n",
        "#     print('No of months available is {}. Hence, the dynamic valuation can be applied'.format(len(a)))\n",
        "#     sc.fit_transform(a[-84:])\n",
        "#     scaled_values = sc.transform(a)\n",
        "#   else:\n",
        "#     print('No of months available is {}. The dynamic valuation can not be applied'.format(len(a)))\n",
        "#   return scaled_values\n",
        "\n"
      ],
      "execution_count": 17,
      "outputs": []
    },
    {
      "cell_type": "markdown",
      "metadata": {
        "id": "IWz2tVbFC3rD"
      },
      "source": [
        "Although I am creating these functions for manual operation, we will have to consider automating the same in the future."
      ]
    },
    {
      "cell_type": "code",
      "metadata": {
        "colab": {
          "base_uri": "https://localhost:8080/",
          "height": 252
        },
        "id": "JqIkoW9wq52j",
        "outputId": "827132b6-52a5-4c10-ecc1-8d1fd7b118ce"
      },
      "source": [
        "# Pass the end date for reference (format yyyy-mm)\n",
        "V_2018 = scale(df_m[['Value']][:'2018-12'], monthly=True).round(3)\n",
        "V_2018 = pd.DataFrame(V_2018, index = df_m[['Value']][:'2018-12'].index , columns= ['Scaled_2018'])\n",
        "V_2018.tail()\n"
      ],
      "execution_count": 18,
      "outputs": [
        {
          "output_type": "stream",
          "text": [
            "No of months available is 201. Hence, the scale function can be applied.\n"
          ],
          "name": "stdout"
        },
        {
          "output_type": "execute_result",
          "data": {
            "text/html": [
              "<div>\n",
              "<style scoped>\n",
              "    .dataframe tbody tr th:only-of-type {\n",
              "        vertical-align: middle;\n",
              "    }\n",
              "\n",
              "    .dataframe tbody tr th {\n",
              "        vertical-align: top;\n",
              "    }\n",
              "\n",
              "    .dataframe thead th {\n",
              "        text-align: right;\n",
              "    }\n",
              "</style>\n",
              "<table border=\"1\" class=\"dataframe\">\n",
              "  <thead>\n",
              "    <tr style=\"text-align: right;\">\n",
              "      <th></th>\n",
              "      <th>Scaled_2018</th>\n",
              "    </tr>\n",
              "    <tr>\n",
              "      <th>Date</th>\n",
              "      <th></th>\n",
              "    </tr>\n",
              "  </thead>\n",
              "  <tbody>\n",
              "    <tr>\n",
              "      <th>2018-08-31</th>\n",
              "      <td>0.240</td>\n",
              "    </tr>\n",
              "    <tr>\n",
              "      <th>2018-09-30</th>\n",
              "      <td>0.107</td>\n",
              "    </tr>\n",
              "    <tr>\n",
              "      <th>2018-10-31</th>\n",
              "      <td>-0.775</td>\n",
              "    </tr>\n",
              "    <tr>\n",
              "      <th>2018-11-30</th>\n",
              "      <td>-0.356</td>\n",
              "    </tr>\n",
              "    <tr>\n",
              "      <th>2018-12-31</th>\n",
              "      <td>-0.257</td>\n",
              "    </tr>\n",
              "  </tbody>\n",
              "</table>\n",
              "</div>"
            ],
            "text/plain": [
              "            Scaled_2018\n",
              "Date                   \n",
              "2018-08-31        0.240\n",
              "2018-09-30        0.107\n",
              "2018-10-31       -0.775\n",
              "2018-11-30       -0.356\n",
              "2018-12-31       -0.257"
            ]
          },
          "metadata": {
            "tags": []
          },
          "execution_count": 18
        }
      ]
    },
    {
      "cell_type": "code",
      "metadata": {
        "colab": {
          "base_uri": "https://localhost:8080/",
          "height": 252
        },
        "id": "V6C0QHx0DJHE",
        "outputId": "fe149550-2fbc-45b0-cd7d-2bdbc1e567ed"
      },
      "source": [
        "V_2019 = scale(df_m[['Value']][:'2019-12'], monthly=True).round(3)\n",
        "V_2019 = pd.DataFrame(V_2019, index = df_m[['Value']][:'2019-12'].index , columns= ['Scaled_2019'])\n",
        "V_2019.tail()"
      ],
      "execution_count": 19,
      "outputs": [
        {
          "output_type": "stream",
          "text": [
            "No of months available is 213. Hence, the scale function can be applied.\n"
          ],
          "name": "stdout"
        },
        {
          "output_type": "execute_result",
          "data": {
            "text/html": [
              "<div>\n",
              "<style scoped>\n",
              "    .dataframe tbody tr th:only-of-type {\n",
              "        vertical-align: middle;\n",
              "    }\n",
              "\n",
              "    .dataframe tbody tr th {\n",
              "        vertical-align: top;\n",
              "    }\n",
              "\n",
              "    .dataframe thead th {\n",
              "        text-align: right;\n",
              "    }\n",
              "</style>\n",
              "<table border=\"1\" class=\"dataframe\">\n",
              "  <thead>\n",
              "    <tr style=\"text-align: right;\">\n",
              "      <th></th>\n",
              "      <th>Scaled_2019</th>\n",
              "    </tr>\n",
              "    <tr>\n",
              "      <th>Date</th>\n",
              "      <th></th>\n",
              "    </tr>\n",
              "  </thead>\n",
              "  <tbody>\n",
              "    <tr>\n",
              "      <th>2019-08-31</th>\n",
              "      <td>-0.397</td>\n",
              "    </tr>\n",
              "    <tr>\n",
              "      <th>2019-09-30</th>\n",
              "      <td>0.045</td>\n",
              "    </tr>\n",
              "    <tr>\n",
              "      <th>2019-10-31</th>\n",
              "      <td>0.057</td>\n",
              "    </tr>\n",
              "    <tr>\n",
              "      <th>2019-11-30</th>\n",
              "      <td>0.238</td>\n",
              "    </tr>\n",
              "    <tr>\n",
              "      <th>2019-12-31</th>\n",
              "      <td>-0.011</td>\n",
              "    </tr>\n",
              "  </tbody>\n",
              "</table>\n",
              "</div>"
            ],
            "text/plain": [
              "            Scaled_2019\n",
              "Date                   \n",
              "2019-08-31       -0.397\n",
              "2019-09-30        0.045\n",
              "2019-10-31        0.057\n",
              "2019-11-30        0.238\n",
              "2019-12-31       -0.011"
            ]
          },
          "metadata": {
            "tags": []
          },
          "execution_count": 19
        }
      ]
    },
    {
      "cell_type": "code",
      "metadata": {
        "colab": {
          "base_uri": "https://localhost:8080/",
          "height": 252
        },
        "id": "AXOYXjkmyiXy",
        "outputId": "81594e7c-a47e-43e4-abce-15ea84401f3f"
      },
      "source": [
        "V_2020 = scale(df_m[['Value']][:'2020-12'], monthly=True).round(3)\n",
        "V_2020 = pd.DataFrame(V_2020, index = df_m[['Value']][:'2020-12'].index , columns= ['Scaled_2020'])\n",
        "V_2020.tail()"
      ],
      "execution_count": 20,
      "outputs": [
        {
          "output_type": "stream",
          "text": [
            "No of months available is 225. Hence, the scale function can be applied.\n"
          ],
          "name": "stdout"
        },
        {
          "output_type": "execute_result",
          "data": {
            "text/html": [
              "<div>\n",
              "<style scoped>\n",
              "    .dataframe tbody tr th:only-of-type {\n",
              "        vertical-align: middle;\n",
              "    }\n",
              "\n",
              "    .dataframe tbody tr th {\n",
              "        vertical-align: top;\n",
              "    }\n",
              "\n",
              "    .dataframe thead th {\n",
              "        text-align: right;\n",
              "    }\n",
              "</style>\n",
              "<table border=\"1\" class=\"dataframe\">\n",
              "  <thead>\n",
              "    <tr style=\"text-align: right;\">\n",
              "      <th></th>\n",
              "      <th>Scaled_2020</th>\n",
              "    </tr>\n",
              "    <tr>\n",
              "      <th>Date</th>\n",
              "      <th></th>\n",
              "    </tr>\n",
              "  </thead>\n",
              "  <tbody>\n",
              "    <tr>\n",
              "      <th>2020-08-31</th>\n",
              "      <td>-0.883</td>\n",
              "    </tr>\n",
              "    <tr>\n",
              "      <th>2020-09-30</th>\n",
              "      <td>-1.178</td>\n",
              "    </tr>\n",
              "    <tr>\n",
              "      <th>2020-10-31</th>\n",
              "      <td>-0.827</td>\n",
              "    </tr>\n",
              "    <tr>\n",
              "      <th>2020-11-30</th>\n",
              "      <td>0.035</td>\n",
              "    </tr>\n",
              "    <tr>\n",
              "      <th>2020-12-31</th>\n",
              "      <td>-0.192</td>\n",
              "    </tr>\n",
              "  </tbody>\n",
              "</table>\n",
              "</div>"
            ],
            "text/plain": [
              "            Scaled_2020\n",
              "Date                   \n",
              "2020-08-31       -0.883\n",
              "2020-09-30       -1.178\n",
              "2020-10-31       -0.827\n",
              "2020-11-30        0.035\n",
              "2020-12-31       -0.192"
            ]
          },
          "metadata": {
            "tags": []
          },
          "execution_count": 20
        }
      ]
    },
    {
      "cell_type": "code",
      "metadata": {
        "colab": {
          "base_uri": "https://localhost:8080/",
          "height": 252
        },
        "id": "ucfl9-KcDleW",
        "outputId": "14381561-c4e8-4461-e7d2-16264960a6a7"
      },
      "source": [
        "V_2014 = scale(df_m[['Value']][:'2014-12'], monthly=True).round(3)\n",
        "V_2014 = pd.DataFrame(V_2014, index = df_m[['Value']][:'2014-12'].index , columns= ['Scaled_2014'])\n",
        "V_2014.tail()"
      ],
      "execution_count": 21,
      "outputs": [
        {
          "output_type": "stream",
          "text": [
            "No of months available is 153. Hence, the scale function can be applied.\n"
          ],
          "name": "stdout"
        },
        {
          "output_type": "execute_result",
          "data": {
            "text/html": [
              "<div>\n",
              "<style scoped>\n",
              "    .dataframe tbody tr th:only-of-type {\n",
              "        vertical-align: middle;\n",
              "    }\n",
              "\n",
              "    .dataframe tbody tr th {\n",
              "        vertical-align: top;\n",
              "    }\n",
              "\n",
              "    .dataframe thead th {\n",
              "        text-align: right;\n",
              "    }\n",
              "</style>\n",
              "<table border=\"1\" class=\"dataframe\">\n",
              "  <thead>\n",
              "    <tr style=\"text-align: right;\">\n",
              "      <th></th>\n",
              "      <th>Scaled_2014</th>\n",
              "    </tr>\n",
              "    <tr>\n",
              "      <th>Date</th>\n",
              "      <th></th>\n",
              "    </tr>\n",
              "  </thead>\n",
              "  <tbody>\n",
              "    <tr>\n",
              "      <th>2014-08-31</th>\n",
              "      <td>0.166</td>\n",
              "    </tr>\n",
              "    <tr>\n",
              "      <th>2014-09-30</th>\n",
              "      <td>0.067</td>\n",
              "    </tr>\n",
              "    <tr>\n",
              "      <th>2014-10-31</th>\n",
              "      <td>0.266</td>\n",
              "    </tr>\n",
              "    <tr>\n",
              "      <th>2014-11-30</th>\n",
              "      <td>0.496</td>\n",
              "    </tr>\n",
              "    <tr>\n",
              "      <th>2014-12-31</th>\n",
              "      <td>0.196</td>\n",
              "    </tr>\n",
              "  </tbody>\n",
              "</table>\n",
              "</div>"
            ],
            "text/plain": [
              "            Scaled_2014\n",
              "Date                   \n",
              "2014-08-31        0.166\n",
              "2014-09-30        0.067\n",
              "2014-10-31        0.266\n",
              "2014-11-30        0.496\n",
              "2014-12-31        0.196"
            ]
          },
          "metadata": {
            "tags": []
          },
          "execution_count": 21
        }
      ]
    },
    {
      "cell_type": "code",
      "metadata": {
        "colab": {
          "base_uri": "https://localhost:8080/",
          "height": 252
        },
        "id": "E3jk8y9zDtj7",
        "outputId": "e4bb8cda-cad7-4380-9970-dda69f457493"
      },
      "source": [
        "V_2010 = scale(df_m[['Value']][:'2010-12'], monthly=True).round(3)\n",
        "V_2010 = pd.DataFrame(V_2010, index = df_m[['Value']][:'2010-12'].index , columns= ['Scaled_2010'])\n",
        "V_2010.tail()"
      ],
      "execution_count": 22,
      "outputs": [
        {
          "output_type": "stream",
          "text": [
            "No of months available is 105. Hence, the scale function can be applied.\n"
          ],
          "name": "stdout"
        },
        {
          "output_type": "execute_result",
          "data": {
            "text/html": [
              "<div>\n",
              "<style scoped>\n",
              "    .dataframe tbody tr th:only-of-type {\n",
              "        vertical-align: middle;\n",
              "    }\n",
              "\n",
              "    .dataframe tbody tr th {\n",
              "        vertical-align: top;\n",
              "    }\n",
              "\n",
              "    .dataframe thead th {\n",
              "        text-align: right;\n",
              "    }\n",
              "</style>\n",
              "<table border=\"1\" class=\"dataframe\">\n",
              "  <thead>\n",
              "    <tr style=\"text-align: right;\">\n",
              "      <th></th>\n",
              "      <th>Scaled_2010</th>\n",
              "    </tr>\n",
              "    <tr>\n",
              "      <th>Date</th>\n",
              "      <th></th>\n",
              "    </tr>\n",
              "  </thead>\n",
              "  <tbody>\n",
              "    <tr>\n",
              "      <th>2010-08-31</th>\n",
              "      <td>0.095</td>\n",
              "    </tr>\n",
              "    <tr>\n",
              "      <th>2010-09-30</th>\n",
              "      <td>0.458</td>\n",
              "    </tr>\n",
              "    <tr>\n",
              "      <th>2010-10-31</th>\n",
              "      <td>0.129</td>\n",
              "    </tr>\n",
              "    <tr>\n",
              "      <th>2010-11-30</th>\n",
              "      <td>0.154</td>\n",
              "    </tr>\n",
              "    <tr>\n",
              "      <th>2010-12-31</th>\n",
              "      <td>0.053</td>\n",
              "    </tr>\n",
              "  </tbody>\n",
              "</table>\n",
              "</div>"
            ],
            "text/plain": [
              "            Scaled_2010\n",
              "Date                   \n",
              "2010-08-31        0.095\n",
              "2010-09-30        0.458\n",
              "2010-10-31        0.129\n",
              "2010-11-30        0.154\n",
              "2010-12-31        0.053"
            ]
          },
          "metadata": {
            "tags": []
          },
          "execution_count": 22
        }
      ]
    },
    {
      "cell_type": "code",
      "metadata": {
        "colab": {
          "base_uri": "https://localhost:8080/",
          "height": 252
        },
        "id": "7kKwc187E0CA",
        "outputId": "8e3a5ae5-78ba-493f-8700-c9f55a429b48"
      },
      "source": [
        "V_2017 = scale(df_m[['Value']][:'2017-12'], monthly=True).round(3)\n",
        "V_2017 = pd.DataFrame(V_2017, index = df_m[['Value']][:'2017-12'].index , columns= ['Scaled_2017'])\n",
        "V_2017.tail()"
      ],
      "execution_count": 23,
      "outputs": [
        {
          "output_type": "stream",
          "text": [
            "No of months available is 189. Hence, the scale function can be applied.\n"
          ],
          "name": "stdout"
        },
        {
          "output_type": "execute_result",
          "data": {
            "text/html": [
              "<div>\n",
              "<style scoped>\n",
              "    .dataframe tbody tr th:only-of-type {\n",
              "        vertical-align: middle;\n",
              "    }\n",
              "\n",
              "    .dataframe tbody tr th {\n",
              "        vertical-align: top;\n",
              "    }\n",
              "\n",
              "    .dataframe thead th {\n",
              "        text-align: right;\n",
              "    }\n",
              "</style>\n",
              "<table border=\"1\" class=\"dataframe\">\n",
              "  <thead>\n",
              "    <tr style=\"text-align: right;\">\n",
              "      <th></th>\n",
              "      <th>Scaled_2017</th>\n",
              "    </tr>\n",
              "    <tr>\n",
              "      <th>Date</th>\n",
              "      <th></th>\n",
              "    </tr>\n",
              "  </thead>\n",
              "  <tbody>\n",
              "    <tr>\n",
              "      <th>2017-08-31</th>\n",
              "      <td>0.658</td>\n",
              "    </tr>\n",
              "    <tr>\n",
              "      <th>2017-09-30</th>\n",
              "      <td>0.745</td>\n",
              "    </tr>\n",
              "    <tr>\n",
              "      <th>2017-10-31</th>\n",
              "      <td>0.680</td>\n",
              "    </tr>\n",
              "    <tr>\n",
              "      <th>2017-11-30</th>\n",
              "      <td>0.810</td>\n",
              "    </tr>\n",
              "    <tr>\n",
              "      <th>2017-12-31</th>\n",
              "      <td>0.875</td>\n",
              "    </tr>\n",
              "  </tbody>\n",
              "</table>\n",
              "</div>"
            ],
            "text/plain": [
              "            Scaled_2017\n",
              "Date                   \n",
              "2017-08-31        0.658\n",
              "2017-09-30        0.745\n",
              "2017-10-31        0.680\n",
              "2017-11-30        0.810\n",
              "2017-12-31        0.875"
            ]
          },
          "metadata": {
            "tags": []
          },
          "execution_count": 23
        }
      ]
    },
    {
      "cell_type": "code",
      "metadata": {
        "id": "mjM0k2FHyiVW"
      },
      "source": [
        "df_M_combined = df_m.join(V_2010, how= 'outer').join(V_2014, how= 'outer').join(V_2017, how= 'outer').join(V_2018, how= 'outer').join(V_2019, how= 'outer').join(V_2020, how= 'outer')"
      ],
      "execution_count": 24,
      "outputs": []
    },
    {
      "cell_type": "code",
      "metadata": {
        "colab": {
          "base_uri": "https://localhost:8080/",
          "height": 1000
        },
        "id": "f5axMJApEZ5H",
        "outputId": "2545c18c-6c79-4ed8-f584-06a7f58d5909"
      },
      "source": [
        "df_M_combined.tail(50)"
      ],
      "execution_count": 25,
      "outputs": [
        {
          "output_type": "execute_result",
          "data": {
            "text/html": [
              "<div>\n",
              "<style scoped>\n",
              "    .dataframe tbody tr th:only-of-type {\n",
              "        vertical-align: middle;\n",
              "    }\n",
              "\n",
              "    .dataframe tbody tr th {\n",
              "        vertical-align: top;\n",
              "    }\n",
              "\n",
              "    .dataframe thead th {\n",
              "        text-align: right;\n",
              "    }\n",
              "</style>\n",
              "<table border=\"1\" class=\"dataframe\">\n",
              "  <thead>\n",
              "    <tr style=\"text-align: right;\">\n",
              "      <th></th>\n",
              "      <th>Value</th>\n",
              "      <th>Mcap</th>\n",
              "      <th>S_value</th>\n",
              "      <th>Scaled_2010</th>\n",
              "      <th>Scaled_2014</th>\n",
              "      <th>Scaled_2017</th>\n",
              "      <th>Scaled_2018</th>\n",
              "      <th>Scaled_2019</th>\n",
              "      <th>Scaled_2020</th>\n",
              "    </tr>\n",
              "    <tr>\n",
              "      <th>Date</th>\n",
              "      <th></th>\n",
              "      <th></th>\n",
              "      <th></th>\n",
              "      <th></th>\n",
              "      <th></th>\n",
              "      <th></th>\n",
              "      <th></th>\n",
              "      <th></th>\n",
              "      <th></th>\n",
              "    </tr>\n",
              "  </thead>\n",
              "  <tbody>\n",
              "    <tr>\n",
              "      <th>2017-05-31</th>\n",
              "      <td>4.69</td>\n",
              "      <td>419577.94</td>\n",
              "      <td>0.534</td>\n",
              "      <td>NaN</td>\n",
              "      <td>NaN</td>\n",
              "      <td>0.474</td>\n",
              "      <td>0.460</td>\n",
              "      <td>0.476</td>\n",
              "      <td>0.523</td>\n",
              "    </tr>\n",
              "    <tr>\n",
              "      <th>2017-06-30</th>\n",
              "      <td>4.51</td>\n",
              "      <td>425269.87</td>\n",
              "      <td>0.328</td>\n",
              "      <td>NaN</td>\n",
              "      <td>NaN</td>\n",
              "      <td>0.279</td>\n",
              "      <td>0.262</td>\n",
              "      <td>0.272</td>\n",
              "      <td>0.319</td>\n",
              "    </tr>\n",
              "    <tr>\n",
              "      <th>2017-07-31</th>\n",
              "      <td>4.87</td>\n",
              "      <td>459238.11</td>\n",
              "      <td>0.741</td>\n",
              "      <td>NaN</td>\n",
              "      <td>NaN</td>\n",
              "      <td>0.669</td>\n",
              "      <td>0.659</td>\n",
              "      <td>0.680</td>\n",
              "      <td>0.727</td>\n",
              "    </tr>\n",
              "    <tr>\n",
              "      <th>2017-08-31</th>\n",
              "      <td>4.86</td>\n",
              "      <td>458197.24</td>\n",
              "      <td>0.730</td>\n",
              "      <td>NaN</td>\n",
              "      <td>NaN</td>\n",
              "      <td>0.658</td>\n",
              "      <td>0.648</td>\n",
              "      <td>0.669</td>\n",
              "      <td>0.715</td>\n",
              "    </tr>\n",
              "    <tr>\n",
              "      <th>2017-09-30</th>\n",
              "      <td>4.94</td>\n",
              "      <td>465907.51</td>\n",
              "      <td>0.821</td>\n",
              "      <td>NaN</td>\n",
              "      <td>NaN</td>\n",
              "      <td>0.745</td>\n",
              "      <td>0.736</td>\n",
              "      <td>0.759</td>\n",
              "      <td>0.806</td>\n",
              "    </tr>\n",
              "    <tr>\n",
              "      <th>2017-10-31</th>\n",
              "      <td>4.88</td>\n",
              "      <td>467765.27</td>\n",
              "      <td>0.753</td>\n",
              "      <td>NaN</td>\n",
              "      <td>NaN</td>\n",
              "      <td>0.680</td>\n",
              "      <td>0.670</td>\n",
              "      <td>0.691</td>\n",
              "      <td>0.738</td>\n",
              "    </tr>\n",
              "    <tr>\n",
              "      <th>2017-11-30</th>\n",
              "      <td>5.00</td>\n",
              "      <td>479322.41</td>\n",
              "      <td>0.890</td>\n",
              "      <td>NaN</td>\n",
              "      <td>NaN</td>\n",
              "      <td>0.810</td>\n",
              "      <td>0.802</td>\n",
              "      <td>0.827</td>\n",
              "      <td>0.874</td>\n",
              "    </tr>\n",
              "    <tr>\n",
              "      <th>2017-12-31</th>\n",
              "      <td>5.06</td>\n",
              "      <td>485272.61</td>\n",
              "      <td>0.959</td>\n",
              "      <td>NaN</td>\n",
              "      <td>NaN</td>\n",
              "      <td>0.875</td>\n",
              "      <td>0.868</td>\n",
              "      <td>0.895</td>\n",
              "      <td>0.942</td>\n",
              "    </tr>\n",
              "    <tr>\n",
              "      <th>2018-01-31</th>\n",
              "      <td>5.15</td>\n",
              "      <td>520059.00</td>\n",
              "      <td>1.062</td>\n",
              "      <td>NaN</td>\n",
              "      <td>NaN</td>\n",
              "      <td>NaN</td>\n",
              "      <td>0.968</td>\n",
              "      <td>0.998</td>\n",
              "      <td>1.044</td>\n",
              "    </tr>\n",
              "    <tr>\n",
              "      <th>2018-02-28</th>\n",
              "      <td>4.83</td>\n",
              "      <td>488612.66</td>\n",
              "      <td>0.695</td>\n",
              "      <td>NaN</td>\n",
              "      <td>NaN</td>\n",
              "      <td>NaN</td>\n",
              "      <td>0.615</td>\n",
              "      <td>0.635</td>\n",
              "      <td>0.681</td>\n",
              "    </tr>\n",
              "    <tr>\n",
              "      <th>2018-03-31</th>\n",
              "      <td>4.86</td>\n",
              "      <td>490848.35</td>\n",
              "      <td>0.730</td>\n",
              "      <td>NaN</td>\n",
              "      <td>NaN</td>\n",
              "      <td>NaN</td>\n",
              "      <td>0.648</td>\n",
              "      <td>0.669</td>\n",
              "      <td>0.715</td>\n",
              "    </tr>\n",
              "    <tr>\n",
              "      <th>2018-04-30</th>\n",
              "      <td>4.75</td>\n",
              "      <td>505007.89</td>\n",
              "      <td>0.603</td>\n",
              "      <td>NaN</td>\n",
              "      <td>NaN</td>\n",
              "      <td>NaN</td>\n",
              "      <td>0.527</td>\n",
              "      <td>0.544</td>\n",
              "      <td>0.591</td>\n",
              "    </tr>\n",
              "    <tr>\n",
              "      <th>2018-05-31</th>\n",
              "      <td>5.23</td>\n",
              "      <td>556103.86</td>\n",
              "      <td>1.154</td>\n",
              "      <td>NaN</td>\n",
              "      <td>NaN</td>\n",
              "      <td>NaN</td>\n",
              "      <td>1.056</td>\n",
              "      <td>1.088</td>\n",
              "      <td>1.135</td>\n",
              "    </tr>\n",
              "    <tr>\n",
              "      <th>2018-06-30</th>\n",
              "      <td>5.16</td>\n",
              "      <td>548969.50</td>\n",
              "      <td>1.074</td>\n",
              "      <td>NaN</td>\n",
              "      <td>NaN</td>\n",
              "      <td>NaN</td>\n",
              "      <td>0.979</td>\n",
              "      <td>1.009</td>\n",
              "      <td>1.056</td>\n",
              "    </tr>\n",
              "    <tr>\n",
              "      <th>2018-07-31</th>\n",
              "      <td>4.62</td>\n",
              "      <td>576507.06</td>\n",
              "      <td>0.454</td>\n",
              "      <td>NaN</td>\n",
              "      <td>NaN</td>\n",
              "      <td>NaN</td>\n",
              "      <td>0.383</td>\n",
              "      <td>0.397</td>\n",
              "      <td>0.443</td>\n",
              "    </tr>\n",
              "    <tr>\n",
              "      <th>2018-08-31</th>\n",
              "      <td>4.49</td>\n",
              "      <td>559888.20</td>\n",
              "      <td>0.305</td>\n",
              "      <td>NaN</td>\n",
              "      <td>NaN</td>\n",
              "      <td>NaN</td>\n",
              "      <td>0.240</td>\n",
              "      <td>0.249</td>\n",
              "      <td>0.296</td>\n",
              "    </tr>\n",
              "    <tr>\n",
              "      <th>2018-09-30</th>\n",
              "      <td>4.37</td>\n",
              "      <td>544970.44</td>\n",
              "      <td>0.167</td>\n",
              "      <td>NaN</td>\n",
              "      <td>NaN</td>\n",
              "      <td>NaN</td>\n",
              "      <td>0.107</td>\n",
              "      <td>0.113</td>\n",
              "      <td>0.160</td>\n",
              "    </tr>\n",
              "    <tr>\n",
              "      <th>2018-10-31</th>\n",
              "      <td>3.57</td>\n",
              "      <td>519596.79</td>\n",
              "      <td>-0.751</td>\n",
              "      <td>NaN</td>\n",
              "      <td>NaN</td>\n",
              "      <td>NaN</td>\n",
              "      <td>-0.775</td>\n",
              "      <td>-0.794</td>\n",
              "      <td>-0.747</td>\n",
              "    </tr>\n",
              "    <tr>\n",
              "      <th>2018-11-30</th>\n",
              "      <td>3.95</td>\n",
              "      <td>575545.73</td>\n",
              "      <td>-0.315</td>\n",
              "      <td>NaN</td>\n",
              "      <td>NaN</td>\n",
              "      <td>NaN</td>\n",
              "      <td>-0.356</td>\n",
              "      <td>-0.363</td>\n",
              "      <td>-0.316</td>\n",
              "    </tr>\n",
              "    <tr>\n",
              "      <th>2018-12-31</th>\n",
              "      <td>4.04</td>\n",
              "      <td>577200.57</td>\n",
              "      <td>-0.212</td>\n",
              "      <td>NaN</td>\n",
              "      <td>NaN</td>\n",
              "      <td>NaN</td>\n",
              "      <td>-0.257</td>\n",
              "      <td>-0.261</td>\n",
              "      <td>-0.214</td>\n",
              "    </tr>\n",
              "    <tr>\n",
              "      <th>2019-01-31</th>\n",
              "      <td>3.96</td>\n",
              "      <td>566172.56</td>\n",
              "      <td>-0.303</td>\n",
              "      <td>NaN</td>\n",
              "      <td>NaN</td>\n",
              "      <td>NaN</td>\n",
              "      <td>NaN</td>\n",
              "      <td>-0.351</td>\n",
              "      <td>-0.305</td>\n",
              "    </tr>\n",
              "    <tr>\n",
              "      <th>2019-02-28</th>\n",
              "      <td>3.96</td>\n",
              "      <td>566750.36</td>\n",
              "      <td>-0.303</td>\n",
              "      <td>NaN</td>\n",
              "      <td>NaN</td>\n",
              "      <td>NaN</td>\n",
              "      <td>NaN</td>\n",
              "      <td>-0.351</td>\n",
              "      <td>-0.305</td>\n",
              "    </tr>\n",
              "    <tr>\n",
              "      <th>2019-03-31</th>\n",
              "      <td>4.41</td>\n",
              "      <td>630853.98</td>\n",
              "      <td>0.213</td>\n",
              "      <td>NaN</td>\n",
              "      <td>NaN</td>\n",
              "      <td>NaN</td>\n",
              "      <td>NaN</td>\n",
              "      <td>0.159</td>\n",
              "      <td>0.205</td>\n",
              "    </tr>\n",
              "    <tr>\n",
              "      <th>2019-04-30</th>\n",
              "      <td>4.23</td>\n",
              "      <td>630983.97</td>\n",
              "      <td>0.006</td>\n",
              "      <td>NaN</td>\n",
              "      <td>NaN</td>\n",
              "      <td>NaN</td>\n",
              "      <td>NaN</td>\n",
              "      <td>-0.045</td>\n",
              "      <td>0.001</td>\n",
              "    </tr>\n",
              "    <tr>\n",
              "      <th>2019-05-31</th>\n",
              "      <td>4.43</td>\n",
              "      <td>661703.54</td>\n",
              "      <td>0.236</td>\n",
              "      <td>NaN</td>\n",
              "      <td>NaN</td>\n",
              "      <td>NaN</td>\n",
              "      <td>NaN</td>\n",
              "      <td>0.181</td>\n",
              "      <td>0.228</td>\n",
              "    </tr>\n",
              "    <tr>\n",
              "      <th>2019-06-30</th>\n",
              "      <td>4.48</td>\n",
              "      <td>668555.19</td>\n",
              "      <td>0.293</td>\n",
              "      <td>NaN</td>\n",
              "      <td>NaN</td>\n",
              "      <td>NaN</td>\n",
              "      <td>NaN</td>\n",
              "      <td>0.238</td>\n",
              "      <td>0.285</td>\n",
              "    </tr>\n",
              "    <tr>\n",
              "      <th>2019-07-31</th>\n",
              "      <td>3.96</td>\n",
              "      <td>615702.94</td>\n",
              "      <td>-0.303</td>\n",
              "      <td>NaN</td>\n",
              "      <td>NaN</td>\n",
              "      <td>NaN</td>\n",
              "      <td>NaN</td>\n",
              "      <td>-0.351</td>\n",
              "      <td>-0.305</td>\n",
              "    </tr>\n",
              "    <tr>\n",
              "      <th>2019-08-31</th>\n",
              "      <td>3.92</td>\n",
              "      <td>609689.28</td>\n",
              "      <td>-0.349</td>\n",
              "      <td>NaN</td>\n",
              "      <td>NaN</td>\n",
              "      <td>NaN</td>\n",
              "      <td>NaN</td>\n",
              "      <td>-0.397</td>\n",
              "      <td>-0.350</td>\n",
              "    </tr>\n",
              "    <tr>\n",
              "      <th>2019-09-30</th>\n",
              "      <td>4.31</td>\n",
              "      <td>671454.21</td>\n",
              "      <td>0.098</td>\n",
              "      <td>NaN</td>\n",
              "      <td>NaN</td>\n",
              "      <td>NaN</td>\n",
              "      <td>NaN</td>\n",
              "      <td>0.045</td>\n",
              "      <td>0.092</td>\n",
              "    </tr>\n",
              "    <tr>\n",
              "      <th>2019-10-31</th>\n",
              "      <td>4.32</td>\n",
              "      <td>673239.52</td>\n",
              "      <td>0.110</td>\n",
              "      <td>NaN</td>\n",
              "      <td>NaN</td>\n",
              "      <td>NaN</td>\n",
              "      <td>NaN</td>\n",
              "      <td>0.057</td>\n",
              "      <td>0.103</td>\n",
              "    </tr>\n",
              "    <tr>\n",
              "      <th>2019-11-30</th>\n",
              "      <td>4.48</td>\n",
              "      <td>697726.75</td>\n",
              "      <td>0.293</td>\n",
              "      <td>NaN</td>\n",
              "      <td>NaN</td>\n",
              "      <td>NaN</td>\n",
              "      <td>NaN</td>\n",
              "      <td>0.238</td>\n",
              "      <td>0.285</td>\n",
              "    </tr>\n",
              "    <tr>\n",
              "      <th>2019-12-31</th>\n",
              "      <td>4.26</td>\n",
              "      <td>696568.30</td>\n",
              "      <td>0.041</td>\n",
              "      <td>NaN</td>\n",
              "      <td>NaN</td>\n",
              "      <td>NaN</td>\n",
              "      <td>NaN</td>\n",
              "      <td>-0.011</td>\n",
              "      <td>0.035</td>\n",
              "    </tr>\n",
              "    <tr>\n",
              "      <th>2020-01-31</th>\n",
              "      <td>4.10</td>\n",
              "      <td>671516.46</td>\n",
              "      <td>-0.143</td>\n",
              "      <td>NaN</td>\n",
              "      <td>NaN</td>\n",
              "      <td>NaN</td>\n",
              "      <td>NaN</td>\n",
              "      <td>NaN</td>\n",
              "      <td>-0.146</td>\n",
              "    </tr>\n",
              "    <tr>\n",
              "      <th>2020-02-29</th>\n",
              "      <td>3.95</td>\n",
              "      <td>645544.93</td>\n",
              "      <td>-0.315</td>\n",
              "      <td>NaN</td>\n",
              "      <td>NaN</td>\n",
              "      <td>NaN</td>\n",
              "      <td>NaN</td>\n",
              "      <td>NaN</td>\n",
              "      <td>-0.316</td>\n",
              "    </tr>\n",
              "    <tr>\n",
              "      <th>2020-03-31</th>\n",
              "      <td>2.76</td>\n",
              "      <td>472659.29</td>\n",
              "      <td>-1.681</td>\n",
              "      <td>NaN</td>\n",
              "      <td>NaN</td>\n",
              "      <td>NaN</td>\n",
              "      <td>NaN</td>\n",
              "      <td>NaN</td>\n",
              "      <td>-1.666</td>\n",
              "    </tr>\n",
              "    <tr>\n",
              "      <th>2020-04-30</th>\n",
              "      <td>3.21</td>\n",
              "      <td>549354.06</td>\n",
              "      <td>-1.164</td>\n",
              "      <td>NaN</td>\n",
              "      <td>NaN</td>\n",
              "      <td>NaN</td>\n",
              "      <td>NaN</td>\n",
              "      <td>NaN</td>\n",
              "      <td>-1.155</td>\n",
              "    </tr>\n",
              "    <tr>\n",
              "      <th>2020-05-31</th>\n",
              "      <td>3.05</td>\n",
              "      <td>521886.31</td>\n",
              "      <td>-1.348</td>\n",
              "      <td>NaN</td>\n",
              "      <td>NaN</td>\n",
              "      <td>NaN</td>\n",
              "      <td>NaN</td>\n",
              "      <td>NaN</td>\n",
              "      <td>-1.337</td>\n",
              "    </tr>\n",
              "    <tr>\n",
              "      <th>2020-06-30</th>\n",
              "      <td>3.29</td>\n",
              "      <td>585098.99</td>\n",
              "      <td>-1.072</td>\n",
              "      <td>NaN</td>\n",
              "      <td>NaN</td>\n",
              "      <td>NaN</td>\n",
              "      <td>NaN</td>\n",
              "      <td>NaN</td>\n",
              "      <td>-1.065</td>\n",
              "    </tr>\n",
              "    <tr>\n",
              "      <th>2020-07-31</th>\n",
              "      <td>3.19</td>\n",
              "      <td>567877.74</td>\n",
              "      <td>-1.187</td>\n",
              "      <td>NaN</td>\n",
              "      <td>NaN</td>\n",
              "      <td>NaN</td>\n",
              "      <td>NaN</td>\n",
              "      <td>NaN</td>\n",
              "      <td>-1.178</td>\n",
              "    </tr>\n",
              "    <tr>\n",
              "      <th>2020-08-31</th>\n",
              "      <td>3.45</td>\n",
              "      <td>613708.73</td>\n",
              "      <td>-0.889</td>\n",
              "      <td>NaN</td>\n",
              "      <td>NaN</td>\n",
              "      <td>NaN</td>\n",
              "      <td>NaN</td>\n",
              "      <td>NaN</td>\n",
              "      <td>-0.883</td>\n",
              "    </tr>\n",
              "    <tr>\n",
              "      <th>2020-09-30</th>\n",
              "      <td>3.19</td>\n",
              "      <td>593959.75</td>\n",
              "      <td>-1.187</td>\n",
              "      <td>NaN</td>\n",
              "      <td>NaN</td>\n",
              "      <td>NaN</td>\n",
              "      <td>NaN</td>\n",
              "      <td>NaN</td>\n",
              "      <td>-1.178</td>\n",
              "    </tr>\n",
              "    <tr>\n",
              "      <th>2020-10-31</th>\n",
              "      <td>3.50</td>\n",
              "      <td>651518.11</td>\n",
              "      <td>-0.831</td>\n",
              "      <td>NaN</td>\n",
              "      <td>NaN</td>\n",
              "      <td>NaN</td>\n",
              "      <td>NaN</td>\n",
              "      <td>NaN</td>\n",
              "      <td>-0.827</td>\n",
              "    </tr>\n",
              "    <tr>\n",
              "      <th>2020-11-30</th>\n",
              "      <td>4.26</td>\n",
              "      <td>793336.55</td>\n",
              "      <td>0.041</td>\n",
              "      <td>NaN</td>\n",
              "      <td>NaN</td>\n",
              "      <td>NaN</td>\n",
              "      <td>NaN</td>\n",
              "      <td>NaN</td>\n",
              "      <td>0.035</td>\n",
              "    </tr>\n",
              "    <tr>\n",
              "      <th>2020-12-31</th>\n",
              "      <td>4.06</td>\n",
              "      <td>791312.61</td>\n",
              "      <td>-0.189</td>\n",
              "      <td>NaN</td>\n",
              "      <td>NaN</td>\n",
              "      <td>NaN</td>\n",
              "      <td>NaN</td>\n",
              "      <td>NaN</td>\n",
              "      <td>-0.192</td>\n",
              "    </tr>\n",
              "    <tr>\n",
              "      <th>2021-01-31</th>\n",
              "      <td>3.93</td>\n",
              "      <td>766218.59</td>\n",
              "      <td>-0.338</td>\n",
              "      <td>NaN</td>\n",
              "      <td>NaN</td>\n",
              "      <td>NaN</td>\n",
              "      <td>NaN</td>\n",
              "      <td>NaN</td>\n",
              "      <td>NaN</td>\n",
              "    </tr>\n",
              "    <tr>\n",
              "      <th>2021-02-28</th>\n",
              "      <td>4.33</td>\n",
              "      <td>845552.53</td>\n",
              "      <td>0.121</td>\n",
              "      <td>NaN</td>\n",
              "      <td>NaN</td>\n",
              "      <td>NaN</td>\n",
              "      <td>NaN</td>\n",
              "      <td>NaN</td>\n",
              "      <td>NaN</td>\n",
              "    </tr>\n",
              "    <tr>\n",
              "      <th>2021-03-31</th>\n",
              "      <td>4.04</td>\n",
              "      <td>823360.73</td>\n",
              "      <td>-0.212</td>\n",
              "      <td>NaN</td>\n",
              "      <td>NaN</td>\n",
              "      <td>NaN</td>\n",
              "      <td>NaN</td>\n",
              "      <td>NaN</td>\n",
              "      <td>NaN</td>\n",
              "    </tr>\n",
              "    <tr>\n",
              "      <th>2021-04-30</th>\n",
              "      <td>3.82</td>\n",
              "      <td>778850.97</td>\n",
              "      <td>-0.464</td>\n",
              "      <td>NaN</td>\n",
              "      <td>NaN</td>\n",
              "      <td>NaN</td>\n",
              "      <td>NaN</td>\n",
              "      <td>NaN</td>\n",
              "      <td>NaN</td>\n",
              "    </tr>\n",
              "    <tr>\n",
              "      <th>2021-05-31</th>\n",
              "      <td>4.11</td>\n",
              "      <td>836756.26</td>\n",
              "      <td>-0.131</td>\n",
              "      <td>NaN</td>\n",
              "      <td>NaN</td>\n",
              "      <td>NaN</td>\n",
              "      <td>NaN</td>\n",
              "      <td>NaN</td>\n",
              "      <td>NaN</td>\n",
              "    </tr>\n",
              "    <tr>\n",
              "      <th>2021-06-30</th>\n",
              "      <td>4.07</td>\n",
              "      <td>829969.07</td>\n",
              "      <td>-0.177</td>\n",
              "      <td>NaN</td>\n",
              "      <td>NaN</td>\n",
              "      <td>NaN</td>\n",
              "      <td>NaN</td>\n",
              "      <td>NaN</td>\n",
              "      <td>NaN</td>\n",
              "    </tr>\n",
              "  </tbody>\n",
              "</table>\n",
              "</div>"
            ],
            "text/plain": [
              "            Value       Mcap  S_value  ...  Scaled_2018  Scaled_2019  Scaled_2020\n",
              "Date                                   ...                                       \n",
              "2017-05-31   4.69  419577.94    0.534  ...        0.460        0.476        0.523\n",
              "2017-06-30   4.51  425269.87    0.328  ...        0.262        0.272        0.319\n",
              "2017-07-31   4.87  459238.11    0.741  ...        0.659        0.680        0.727\n",
              "2017-08-31   4.86  458197.24    0.730  ...        0.648        0.669        0.715\n",
              "2017-09-30   4.94  465907.51    0.821  ...        0.736        0.759        0.806\n",
              "2017-10-31   4.88  467765.27    0.753  ...        0.670        0.691        0.738\n",
              "2017-11-30   5.00  479322.41    0.890  ...        0.802        0.827        0.874\n",
              "2017-12-31   5.06  485272.61    0.959  ...        0.868        0.895        0.942\n",
              "2018-01-31   5.15  520059.00    1.062  ...        0.968        0.998        1.044\n",
              "2018-02-28   4.83  488612.66    0.695  ...        0.615        0.635        0.681\n",
              "2018-03-31   4.86  490848.35    0.730  ...        0.648        0.669        0.715\n",
              "2018-04-30   4.75  505007.89    0.603  ...        0.527        0.544        0.591\n",
              "2018-05-31   5.23  556103.86    1.154  ...        1.056        1.088        1.135\n",
              "2018-06-30   5.16  548969.50    1.074  ...        0.979        1.009        1.056\n",
              "2018-07-31   4.62  576507.06    0.454  ...        0.383        0.397        0.443\n",
              "2018-08-31   4.49  559888.20    0.305  ...        0.240        0.249        0.296\n",
              "2018-09-30   4.37  544970.44    0.167  ...        0.107        0.113        0.160\n",
              "2018-10-31   3.57  519596.79   -0.751  ...       -0.775       -0.794       -0.747\n",
              "2018-11-30   3.95  575545.73   -0.315  ...       -0.356       -0.363       -0.316\n",
              "2018-12-31   4.04  577200.57   -0.212  ...       -0.257       -0.261       -0.214\n",
              "2019-01-31   3.96  566172.56   -0.303  ...          NaN       -0.351       -0.305\n",
              "2019-02-28   3.96  566750.36   -0.303  ...          NaN       -0.351       -0.305\n",
              "2019-03-31   4.41  630853.98    0.213  ...          NaN        0.159        0.205\n",
              "2019-04-30   4.23  630983.97    0.006  ...          NaN       -0.045        0.001\n",
              "2019-05-31   4.43  661703.54    0.236  ...          NaN        0.181        0.228\n",
              "2019-06-30   4.48  668555.19    0.293  ...          NaN        0.238        0.285\n",
              "2019-07-31   3.96  615702.94   -0.303  ...          NaN       -0.351       -0.305\n",
              "2019-08-31   3.92  609689.28   -0.349  ...          NaN       -0.397       -0.350\n",
              "2019-09-30   4.31  671454.21    0.098  ...          NaN        0.045        0.092\n",
              "2019-10-31   4.32  673239.52    0.110  ...          NaN        0.057        0.103\n",
              "2019-11-30   4.48  697726.75    0.293  ...          NaN        0.238        0.285\n",
              "2019-12-31   4.26  696568.30    0.041  ...          NaN       -0.011        0.035\n",
              "2020-01-31   4.10  671516.46   -0.143  ...          NaN          NaN       -0.146\n",
              "2020-02-29   3.95  645544.93   -0.315  ...          NaN          NaN       -0.316\n",
              "2020-03-31   2.76  472659.29   -1.681  ...          NaN          NaN       -1.666\n",
              "2020-04-30   3.21  549354.06   -1.164  ...          NaN          NaN       -1.155\n",
              "2020-05-31   3.05  521886.31   -1.348  ...          NaN          NaN       -1.337\n",
              "2020-06-30   3.29  585098.99   -1.072  ...          NaN          NaN       -1.065\n",
              "2020-07-31   3.19  567877.74   -1.187  ...          NaN          NaN       -1.178\n",
              "2020-08-31   3.45  613708.73   -0.889  ...          NaN          NaN       -0.883\n",
              "2020-09-30   3.19  593959.75   -1.187  ...          NaN          NaN       -1.178\n",
              "2020-10-31   3.50  651518.11   -0.831  ...          NaN          NaN       -0.827\n",
              "2020-11-30   4.26  793336.55    0.041  ...          NaN          NaN        0.035\n",
              "2020-12-31   4.06  791312.61   -0.189  ...          NaN          NaN       -0.192\n",
              "2021-01-31   3.93  766218.59   -0.338  ...          NaN          NaN          NaN\n",
              "2021-02-28   4.33  845552.53    0.121  ...          NaN          NaN          NaN\n",
              "2021-03-31   4.04  823360.73   -0.212  ...          NaN          NaN          NaN\n",
              "2021-04-30   3.82  778850.97   -0.464  ...          NaN          NaN          NaN\n",
              "2021-05-31   4.11  836756.26   -0.131  ...          NaN          NaN          NaN\n",
              "2021-06-30   4.07  829969.07   -0.177  ...          NaN          NaN          NaN\n",
              "\n",
              "[50 rows x 9 columns]"
            ]
          },
          "metadata": {
            "tags": []
          },
          "execution_count": 25
        }
      ]
    },
    {
      "cell_type": "code",
      "metadata": {
        "colab": {
          "base_uri": "https://localhost:8080/",
          "height": 460
        },
        "id": "YHe9JpsvyiS-",
        "outputId": "2f1478ac-941a-4199-f9d3-07ed62c17acb"
      },
      "source": [
        "plt.figure(figsize=(15,8))\n",
        "df_M_combined['S_value'].plot()\n",
        "df_M_combined['Scaled_2010'].plot()\n",
        "df_M_combined['Scaled_2014'].plot()\n",
        "df_M_combined['Scaled_2017'].plot()\n",
        "df_M_combined['Scaled_2018'].plot()\n",
        "df_M_combined['Scaled_2019'].plot()\n",
        "df_M_combined['Scaled_2020'].plot()\n",
        "\n",
        "plt.legend()\n",
        "plt.show()\n"
      ],
      "execution_count": 26,
      "outputs": [
        {
          "output_type": "display_data",
          "data": {
            "image/png": "[encoded data removed]",
            "text/plain": [
              "<Figure size 1080x576 with 1 Axes>"
            ]
          },
          "metadata": {
            "tags": [],
            "needs_background": "light"
          }
        }
      ]
    },
    {
      "cell_type": "code",
      "metadata": {
        "id": "7JnQcGQdUp2L"
      },
      "source": [
        ""
      ],
      "execution_count": null,
      "outputs": []
    }
  ]
}