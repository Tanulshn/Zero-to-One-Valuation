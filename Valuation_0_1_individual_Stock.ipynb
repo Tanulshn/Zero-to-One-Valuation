{
  "nbformat": 4,
  "nbformat_minor": 0,
  "metadata": {
    "colab": {
      "name": "Valuation: 0-1: individual Stock.ipynb",
      "provenance": [],
      "collapsed_sections": [],
      "mount_file_id": "18x9YkJ8jSnnBvJlCFLKByMmwoCNIPeWO",
      "authorship_tag": "ABX9TyO6QoXEKTMo7BwyKK9WXuou",
      "include_colab_link": true
    },
    "kernelspec": {
      "name": "python3",
      "display_name": "Python 3"
    },
    "language_info": {
      "name": "python"
    }
  },
  "cells": [
    {
      "cell_type": "markdown",
      "metadata": {
        "id": "view-in-github",
        "colab_type": "text"
      },
      "source": [
        "<a href=\"https://colab.research.google.com/github/Tanulshn/Zero-to-One-Valuation/blob/main/Valuation_0_1_individual_Stock.ipynb\" target=\"_parent\"><img src=\"https://colab.research.google.com/assets/colab-badge.svg\" alt=\"Open In Colab\"/></a>"
      ]
    },
    {
      "cell_type": "markdown",
      "metadata": {
        "id": "fMbUYTuAdw7x"
      },
      "source": [
        "#Objective \n",
        "To derive an alternative notation for the valuation (either PE or PB) of individual stocks to be compared with one another.\n",
        "\n"
      ]
    },
    {
      "cell_type": "markdown",
      "metadata": {
        "id": "sa5ytyryoBtG"
      },
      "source": [
        "# Package Imported\n",
        "\n",
        "For pandas, numpy and visualisation\n",
        "- import pandas as pd\n",
        "- import numpy as np\n",
        "- import seaborn as sns\n",
        "- import matplotlib.pyplot as plt\n",
        "- import pylab\n",
        "- %matplotlib inline\n",
        "- plt.style.use('seaborn-darkgrid')\n",
        "\n",
        "For Standardisation\n",
        "- from sklearn.preprocessing import StandardScaler\n"
      ]
    },
    {
      "cell_type": "code",
      "metadata": {
        "id": "PplSzRd5oq_C"
      },
      "source": [
        "import pandas as pd\n",
        "import numpy as np\n",
        "import seaborn as sns\n",
        "import matplotlib.pyplot as plt\n",
        "%matplotlib inline\n",
        "# For q-q plot\n",
        "import scipy.stats\n",
        "import pylab\n",
        "\n",
        "plt.style.use('seaborn-darkgrid')\n",
        "\n",
        "import glob\n",
        "\n",
        "import warnings\n",
        "warnings.simplefilter(action='ignore')"
      ],
      "execution_count": 17,
      "outputs": []
    },
    {
      "cell_type": "code",
      "metadata": {
        "id": "IGdmGfoGdwqH",
        "colab": {
          "base_uri": "https://localhost:8080/",
          "height": 696
        },
        "outputId": "8d5d9411-6917-4576-c15a-b6f24088b3c3"
      },
      "source": [
        "#data_std= pd.DataFrame()\n",
        "\n",
        "df = pd.read_csv('/content/drive/MyDrive/Colab Notebooks/0-1: Valuation/CSV Files/KRBL.csv')\n",
        "#Convert the datatype from object to float\n",
        "for i in ['Std','Mcap']:\n",
        "  df[i] = pd.to_numeric(df[i], errors= 'coerce').round(2)\n",
        "\n",
        "df = df[['Date','Std','Mcap']]\n",
        "df['Date'] = pd.to_datetime(df['Date'], dayfirst=False) # Use dayfirst function carefully\n",
        "df.set_index('Date', inplace=True) # Set the Date Column to Index\n",
        "df = df.resample('m').last() # Set the frequency to Business days\n",
        "#df.fillna(method='ffill') # Fill the nan values\n",
        "\n",
        "df.head(20)\n",
        "\n"
      ],
      "execution_count": 18,
      "outputs": [
        {
          "output_type": "execute_result",
          "data": {
            "text/html": [
              "<div>\n",
              "<style scoped>\n",
              "    .dataframe tbody tr th:only-of-type {\n",
              "        vertical-align: middle;\n",
              "    }\n",
              "\n",
              "    .dataframe tbody tr th {\n",
              "        vertical-align: top;\n",
              "    }\n",
              "\n",
              "    .dataframe thead th {\n",
              "        text-align: right;\n",
              "    }\n",
              "</style>\n",
              "<table border=\"1\" class=\"dataframe\">\n",
              "  <thead>\n",
              "    <tr style=\"text-align: right;\">\n",
              "      <th></th>\n",
              "      <th>Std</th>\n",
              "      <th>Mcap</th>\n",
              "    </tr>\n",
              "    <tr>\n",
              "      <th>Date</th>\n",
              "      <th></th>\n",
              "      <th></th>\n",
              "    </tr>\n",
              "  </thead>\n",
              "  <tbody>\n",
              "    <tr>\n",
              "      <th>2010-02-28</th>\n",
              "      <td>7.32</td>\n",
              "      <td>619.0</td>\n",
              "    </tr>\n",
              "    <tr>\n",
              "      <th>2010-03-31</th>\n",
              "      <td>5.40</td>\n",
              "      <td>580.0</td>\n",
              "    </tr>\n",
              "    <tr>\n",
              "      <th>2010-04-30</th>\n",
              "      <td>6.34</td>\n",
              "      <td>679.0</td>\n",
              "    </tr>\n",
              "    <tr>\n",
              "      <th>2010-05-31</th>\n",
              "      <td>5.40</td>\n",
              "      <td>581.0</td>\n",
              "    </tr>\n",
              "    <tr>\n",
              "      <th>2010-06-30</th>\n",
              "      <td>5.69</td>\n",
              "      <td>569.0</td>\n",
              "    </tr>\n",
              "    <tr>\n",
              "      <th>2010-07-31</th>\n",
              "      <td>5.74</td>\n",
              "      <td>571.0</td>\n",
              "    </tr>\n",
              "    <tr>\n",
              "      <th>2010-08-31</th>\n",
              "      <td>5.70</td>\n",
              "      <td>569.0</td>\n",
              "    </tr>\n",
              "    <tr>\n",
              "      <th>2010-09-30</th>\n",
              "      <td>8.12</td>\n",
              "      <td>874.0</td>\n",
              "    </tr>\n",
              "    <tr>\n",
              "      <th>2010-10-31</th>\n",
              "      <td>11.11</td>\n",
              "      <td>1200.0</td>\n",
              "    </tr>\n",
              "    <tr>\n",
              "      <th>2010-11-30</th>\n",
              "      <td>8.36</td>\n",
              "      <td>904.0</td>\n",
              "    </tr>\n",
              "    <tr>\n",
              "      <th>2010-12-31</th>\n",
              "      <td>8.90</td>\n",
              "      <td>934.0</td>\n",
              "    </tr>\n",
              "    <tr>\n",
              "      <th>2011-01-31</th>\n",
              "      <td>7.46</td>\n",
              "      <td>783.0</td>\n",
              "    </tr>\n",
              "    <tr>\n",
              "      <th>2011-02-28</th>\n",
              "      <td>4.93</td>\n",
              "      <td>517.0</td>\n",
              "    </tr>\n",
              "    <tr>\n",
              "      <th>2011-03-31</th>\n",
              "      <td>5.64</td>\n",
              "      <td>649.0</td>\n",
              "    </tr>\n",
              "    <tr>\n",
              "      <th>2011-04-30</th>\n",
              "      <td>6.59</td>\n",
              "      <td>757.0</td>\n",
              "    </tr>\n",
              "    <tr>\n",
              "      <th>2011-05-31</th>\n",
              "      <td>5.83</td>\n",
              "      <td>672.0</td>\n",
              "    </tr>\n",
              "    <tr>\n",
              "      <th>2011-06-30</th>\n",
              "      <td>5.99</td>\n",
              "      <td>690.0</td>\n",
              "    </tr>\n",
              "    <tr>\n",
              "      <th>2011-07-31</th>\n",
              "      <td>5.81</td>\n",
              "      <td>670.0</td>\n",
              "    </tr>\n",
              "    <tr>\n",
              "      <th>2011-08-31</th>\n",
              "      <td>5.38</td>\n",
              "      <td>624.0</td>\n",
              "    </tr>\n",
              "    <tr>\n",
              "      <th>2011-09-30</th>\n",
              "      <td>11.30</td>\n",
              "      <td>593.0</td>\n",
              "    </tr>\n",
              "  </tbody>\n",
              "</table>\n",
              "</div>"
            ],
            "text/plain": [
              "              Std    Mcap\n",
              "Date                     \n",
              "2010-02-28   7.32   619.0\n",
              "2010-03-31   5.40   580.0\n",
              "2010-04-30   6.34   679.0\n",
              "2010-05-31   5.40   581.0\n",
              "2010-06-30   5.69   569.0\n",
              "2010-07-31   5.74   571.0\n",
              "2010-08-31   5.70   569.0\n",
              "2010-09-30   8.12   874.0\n",
              "2010-10-31  11.11  1200.0\n",
              "2010-11-30   8.36   904.0\n",
              "2010-12-31   8.90   934.0\n",
              "2011-01-31   7.46   783.0\n",
              "2011-02-28   4.93   517.0\n",
              "2011-03-31   5.64   649.0\n",
              "2011-04-30   6.59   757.0\n",
              "2011-05-31   5.83   672.0\n",
              "2011-06-30   5.99   690.0\n",
              "2011-07-31   5.81   670.0\n",
              "2011-08-31   5.38   624.0\n",
              "2011-09-30  11.30   593.0"
            ]
          },
          "metadata": {
            "tags": []
          },
          "execution_count": 18
        }
      ]
    },
    {
      "cell_type": "code",
      "metadata": {
        "colab": {
          "base_uri": "https://localhost:8080/",
          "height": 696
        },
        "id": "zUtBXIxIWvaH",
        "outputId": "7ed80b10-4a40-4281-97b9-9024dbf7627c"
      },
      "source": [
        "df.tail(20)"
      ],
      "execution_count": 19,
      "outputs": [
        {
          "output_type": "execute_result",
          "data": {
            "text/html": [
              "<div>\n",
              "<style scoped>\n",
              "    .dataframe tbody tr th:only-of-type {\n",
              "        vertical-align: middle;\n",
              "    }\n",
              "\n",
              "    .dataframe tbody tr th {\n",
              "        vertical-align: top;\n",
              "    }\n",
              "\n",
              "    .dataframe thead th {\n",
              "        text-align: right;\n",
              "    }\n",
              "</style>\n",
              "<table border=\"1\" class=\"dataframe\">\n",
              "  <thead>\n",
              "    <tr style=\"text-align: right;\">\n",
              "      <th></th>\n",
              "      <th>Std</th>\n",
              "      <th>Mcap</th>\n",
              "    </tr>\n",
              "    <tr>\n",
              "      <th>Date</th>\n",
              "      <th></th>\n",
              "      <th></th>\n",
              "    </tr>\n",
              "  </thead>\n",
              "  <tbody>\n",
              "    <tr>\n",
              "      <th>2019-12-31</th>\n",
              "      <td>12.30</td>\n",
              "      <td>6714.0</td>\n",
              "    </tr>\n",
              "    <tr>\n",
              "      <th>2020-01-31</th>\n",
              "      <td>11.41</td>\n",
              "      <td>6219.0</td>\n",
              "    </tr>\n",
              "    <tr>\n",
              "      <th>2020-02-29</th>\n",
              "      <td>10.77</td>\n",
              "      <td>5901.0</td>\n",
              "    </tr>\n",
              "    <tr>\n",
              "      <th>2020-03-31</th>\n",
              "      <td>5.67</td>\n",
              "      <td>3208.0</td>\n",
              "    </tr>\n",
              "    <tr>\n",
              "      <th>2020-04-30</th>\n",
              "      <td>8.07</td>\n",
              "      <td>4510.0</td>\n",
              "    </tr>\n",
              "    <tr>\n",
              "      <th>2020-05-31</th>\n",
              "      <td>7.88</td>\n",
              "      <td>4410.0</td>\n",
              "    </tr>\n",
              "    <tr>\n",
              "      <th>2020-06-30</th>\n",
              "      <td>10.55</td>\n",
              "      <td>5779.0</td>\n",
              "    </tr>\n",
              "    <tr>\n",
              "      <th>2020-07-31</th>\n",
              "      <td>11.60</td>\n",
              "      <td>6368.0</td>\n",
              "    </tr>\n",
              "    <tr>\n",
              "      <th>2020-08-31</th>\n",
              "      <td>11.23</td>\n",
              "      <td>6172.0</td>\n",
              "    </tr>\n",
              "    <tr>\n",
              "      <th>2020-09-30</th>\n",
              "      <td>11.66</td>\n",
              "      <td>6824.0</td>\n",
              "    </tr>\n",
              "    <tr>\n",
              "      <th>2020-10-31</th>\n",
              "      <td>10.29</td>\n",
              "      <td>6030.0</td>\n",
              "    </tr>\n",
              "    <tr>\n",
              "      <th>2020-11-30</th>\n",
              "      <td>10.37</td>\n",
              "      <td>6066.0</td>\n",
              "    </tr>\n",
              "    <tr>\n",
              "      <th>2020-12-31</th>\n",
              "      <td>10.08</td>\n",
              "      <td>5766.0</td>\n",
              "    </tr>\n",
              "    <tr>\n",
              "      <th>2021-01-31</th>\n",
              "      <td>9.76</td>\n",
              "      <td>5586.0</td>\n",
              "    </tr>\n",
              "    <tr>\n",
              "      <th>2021-02-28</th>\n",
              "      <td>8.10</td>\n",
              "      <td>4635.0</td>\n",
              "    </tr>\n",
              "    <tr>\n",
              "      <th>2021-03-31</th>\n",
              "      <td>7.54</td>\n",
              "      <td>4222.0</td>\n",
              "    </tr>\n",
              "    <tr>\n",
              "      <th>2021-04-30</th>\n",
              "      <td>7.76</td>\n",
              "      <td>4352.0</td>\n",
              "    </tr>\n",
              "    <tr>\n",
              "      <th>2021-05-31</th>\n",
              "      <td>8.83</td>\n",
              "      <td>4949.0</td>\n",
              "    </tr>\n",
              "    <tr>\n",
              "      <th>2021-06-30</th>\n",
              "      <td>9.89</td>\n",
              "      <td>5546.0</td>\n",
              "    </tr>\n",
              "    <tr>\n",
              "      <th>2021-07-31</th>\n",
              "      <td>11.62</td>\n",
              "      <td>6512.0</td>\n",
              "    </tr>\n",
              "  </tbody>\n",
              "</table>\n",
              "</div>"
            ],
            "text/plain": [
              "              Std    Mcap\n",
              "Date                     \n",
              "2019-12-31  12.30  6714.0\n",
              "2020-01-31  11.41  6219.0\n",
              "2020-02-29  10.77  5901.0\n",
              "2020-03-31   5.67  3208.0\n",
              "2020-04-30   8.07  4510.0\n",
              "2020-05-31   7.88  4410.0\n",
              "2020-06-30  10.55  5779.0\n",
              "2020-07-31  11.60  6368.0\n",
              "2020-08-31  11.23  6172.0\n",
              "2020-09-30  11.66  6824.0\n",
              "2020-10-31  10.29  6030.0\n",
              "2020-11-30  10.37  6066.0\n",
              "2020-12-31  10.08  5766.0\n",
              "2021-01-31   9.76  5586.0\n",
              "2021-02-28   8.10  4635.0\n",
              "2021-03-31   7.54  4222.0\n",
              "2021-04-30   7.76  4352.0\n",
              "2021-05-31   8.83  4949.0\n",
              "2021-06-30   9.89  5546.0\n",
              "2021-07-31  11.62  6512.0"
            ]
          },
          "metadata": {
            "tags": []
          },
          "execution_count": 19
        }
      ]
    },
    {
      "cell_type": "markdown",
      "metadata": {
        "id": "rqozIC--1sKz"
      },
      "source": [
        "### Data PreProcessing "
      ]
    },
    {
      "cell_type": "code",
      "metadata": {
        "colab": {
          "base_uri": "https://localhost:8080/"
        },
        "id": "U7XbigmnYBu1",
        "outputId": "12b92ed5-4470-4c14-feec-4c1f3f073d7e"
      },
      "source": [
        "# #df_std = df[:-1] \n",
        "# # Since the data is till 21 June only, Lets remove the last month and keep it til May 2021\n",
        "# df_std.shape"
      ],
      "execution_count": 20,
      "outputs": [
        {
          "output_type": "execute_result",
          "data": {
            "text/plain": [
              "(137, 2)"
            ]
          },
          "metadata": {
            "tags": []
          },
          "execution_count": 20
        }
      ]
    },
    {
      "cell_type": "code",
      "metadata": {
        "colab": {
          "base_uri": "https://localhost:8080/"
        },
        "id": "9XGYII07YaQC",
        "outputId": "4639f12a-7d11-45c5-de83-266dde937906"
      },
      "source": [
        "df.shape"
      ],
      "execution_count": 30,
      "outputs": [
        {
          "output_type": "execute_result",
          "data": {
            "text/plain": [
              "(138, 2)"
            ]
          },
          "metadata": {
            "tags": []
          },
          "execution_count": 30
        }
      ]
    },
    {
      "cell_type": "code",
      "metadata": {
        "colab": {
          "base_uri": "https://localhost:8080/",
          "height": 234
        },
        "id": "TJ1c2XrTXcv_",
        "outputId": "1edcd9f2-783a-4fba-d14d-bd40ec2ff3be"
      },
      "source": [
        "df.tail()"
      ],
      "execution_count": 21,
      "outputs": [
        {
          "output_type": "execute_result",
          "data": {
            "text/html": [
              "<div>\n",
              "<style scoped>\n",
              "    .dataframe tbody tr th:only-of-type {\n",
              "        vertical-align: middle;\n",
              "    }\n",
              "\n",
              "    .dataframe tbody tr th {\n",
              "        vertical-align: top;\n",
              "    }\n",
              "\n",
              "    .dataframe thead th {\n",
              "        text-align: right;\n",
              "    }\n",
              "</style>\n",
              "<table border=\"1\" class=\"dataframe\">\n",
              "  <thead>\n",
              "    <tr style=\"text-align: right;\">\n",
              "      <th></th>\n",
              "      <th>Std</th>\n",
              "      <th>Mcap</th>\n",
              "    </tr>\n",
              "    <tr>\n",
              "      <th>Date</th>\n",
              "      <th></th>\n",
              "      <th></th>\n",
              "    </tr>\n",
              "  </thead>\n",
              "  <tbody>\n",
              "    <tr>\n",
              "      <th>2021-03-31</th>\n",
              "      <td>7.54</td>\n",
              "      <td>4222.0</td>\n",
              "    </tr>\n",
              "    <tr>\n",
              "      <th>2021-04-30</th>\n",
              "      <td>7.76</td>\n",
              "      <td>4352.0</td>\n",
              "    </tr>\n",
              "    <tr>\n",
              "      <th>2021-05-31</th>\n",
              "      <td>8.83</td>\n",
              "      <td>4949.0</td>\n",
              "    </tr>\n",
              "    <tr>\n",
              "      <th>2021-06-30</th>\n",
              "      <td>9.89</td>\n",
              "      <td>5546.0</td>\n",
              "    </tr>\n",
              "    <tr>\n",
              "      <th>2021-07-31</th>\n",
              "      <td>11.62</td>\n",
              "      <td>6512.0</td>\n",
              "    </tr>\n",
              "  </tbody>\n",
              "</table>\n",
              "</div>"
            ],
            "text/plain": [
              "              Std    Mcap\n",
              "Date                     \n",
              "2021-03-31   7.54  4222.0\n",
              "2021-04-30   7.76  4352.0\n",
              "2021-05-31   8.83  4949.0\n",
              "2021-06-30   9.89  5546.0\n",
              "2021-07-31  11.62  6512.0"
            ]
          },
          "metadata": {
            "tags": []
          },
          "execution_count": 21
        }
      ]
    },
    {
      "cell_type": "code",
      "metadata": {
        "id": "Ijqkj1cs4LCF",
        "colab": {
          "base_uri": "https://localhost:8080/"
        },
        "outputId": "03d43416-82e0-4639-a9e7-b6df5d48c9d7"
      },
      "source": [
        "# Check for null values\n",
        "df.isnull().sum()"
      ],
      "execution_count": 29,
      "outputs": [
        {
          "output_type": "execute_result",
          "data": {
            "text/plain": [
              "Std     0\n",
              "Mcap    0\n",
              "dtype: int64"
            ]
          },
          "metadata": {
            "tags": []
          },
          "execution_count": 29
        }
      ]
    },
    {
      "cell_type": "markdown",
      "metadata": {
        "id": "zH-uVHsX6a4I"
      },
      "source": [
        "The dataframes are ready to be used for further procesing\n",
        "# Variable transformation"
      ]
    },
    {
      "cell_type": "markdown",
      "metadata": {
        "id": "_DBwiGC1cE1d"
      },
      "source": [
        "## For Standalone variables"
      ]
    },
    {
      "cell_type": "code",
      "metadata": {
        "id": "1t4zy9Ii412j"
      },
      "source": [
        "  # Import packages\n",
        "from sklearn.preprocessing import StandardScaler\n",
        "sc=StandardScaler()"
      ],
      "execution_count": 23,
      "outputs": []
    },
    {
      "cell_type": "code",
      "metadata": {
        "id": "V6PS0Mk43-j4"
      },
      "source": [
        "# Create a function for transformation\n",
        "def scale(series, monthly=False):\n",
        "  \"\"\" Returns a Standardised series based on the Standard scale\n",
        "  Monthly - Whether to perform on monthly data or daily data\n",
        "  \"\"\"\n",
        "\n",
        "  if monthly:\n",
        "    if len(series)>84:\n",
        "      #print('No of months available is {}. Hence, the scale function can be applied.'.format(len(series)))\n",
        "      norm = sc.fit(series[-84:])\n",
        "      scaled_values = norm.transform(series)\n",
        "    else:\n",
        "      print('No of months available is {}. The scale function can not be applied.'.format(len(series)))\n",
        "\n",
        " \n",
        "  else:\n",
        "    if len(series)>1750:\n",
        "      print('No of days available is {}. Hence, the scale function can be applied.'.format(len(series)))\n",
        "      sc.fit_transform(series[-1750:])\n",
        "      scaled_values = sc.transform(series)\n",
        "    else:\n",
        "      print('No of days available is {}. The scale function can not be applied.'.format(len(series)))\n",
        "\n",
        "  \n",
        "  return scaled_values\n"
      ],
      "execution_count": 24,
      "outputs": []
    },
    {
      "cell_type": "code",
      "metadata": {
        "id": "0CKEqhZSWJqR",
        "colab": {
          "base_uri": "https://localhost:8080/",
          "height": 234
        },
        "outputId": "1cae4369-323e-4f70-8abe-89f6a4bb503b"
      },
      "source": [
        "df.tail()\n"
      ],
      "execution_count": 31,
      "outputs": [
        {
          "output_type": "execute_result",
          "data": {
            "text/html": [
              "<div>\n",
              "<style scoped>\n",
              "    .dataframe tbody tr th:only-of-type {\n",
              "        vertical-align: middle;\n",
              "    }\n",
              "\n",
              "    .dataframe tbody tr th {\n",
              "        vertical-align: top;\n",
              "    }\n",
              "\n",
              "    .dataframe thead th {\n",
              "        text-align: right;\n",
              "    }\n",
              "</style>\n",
              "<table border=\"1\" class=\"dataframe\">\n",
              "  <thead>\n",
              "    <tr style=\"text-align: right;\">\n",
              "      <th></th>\n",
              "      <th>Std</th>\n",
              "      <th>Mcap</th>\n",
              "    </tr>\n",
              "    <tr>\n",
              "      <th>Date</th>\n",
              "      <th></th>\n",
              "      <th></th>\n",
              "    </tr>\n",
              "  </thead>\n",
              "  <tbody>\n",
              "    <tr>\n",
              "      <th>2021-03-31</th>\n",
              "      <td>7.54</td>\n",
              "      <td>4222.0</td>\n",
              "    </tr>\n",
              "    <tr>\n",
              "      <th>2021-04-30</th>\n",
              "      <td>7.76</td>\n",
              "      <td>4352.0</td>\n",
              "    </tr>\n",
              "    <tr>\n",
              "      <th>2021-05-31</th>\n",
              "      <td>8.83</td>\n",
              "      <td>4949.0</td>\n",
              "    </tr>\n",
              "    <tr>\n",
              "      <th>2021-06-30</th>\n",
              "      <td>9.89</td>\n",
              "      <td>5546.0</td>\n",
              "    </tr>\n",
              "    <tr>\n",
              "      <th>2021-07-31</th>\n",
              "      <td>11.62</td>\n",
              "      <td>6512.0</td>\n",
              "    </tr>\n",
              "  </tbody>\n",
              "</table>\n",
              "</div>"
            ],
            "text/plain": [
              "              Std    Mcap\n",
              "Date                     \n",
              "2021-03-31   7.54  4222.0\n",
              "2021-04-30   7.76  4352.0\n",
              "2021-05-31   8.83  4949.0\n",
              "2021-06-30   9.89  5546.0\n",
              "2021-07-31  11.62  6512.0"
            ]
          },
          "metadata": {
            "tags": []
          },
          "execution_count": 31
        }
      ]
    },
    {
      "cell_type": "markdown",
      "metadata": {
        "id": "At_IdjD3HVhk"
      },
      "source": [
        "### Scaled Valuations: As of today"
      ]
    },
    {
      "cell_type": "code",
      "metadata": {
        "colab": {
          "base_uri": "https://localhost:8080/",
          "height": 234
        },
        "id": "XlCTviDM4IbT",
        "outputId": "9acc7d33-7585-486f-dc40-d260721728a6"
      },
      "source": [
        "Scaled_std_2021 = df.copy()\n",
        "Scaled_std_2021['Std'] = scale(df[['Std']],monthly = True).round(3)\n",
        "\n",
        "Scaled_std_2021.tail()\n",
        "  "
      ],
      "execution_count": 32,
      "outputs": [
        {
          "output_type": "execute_result",
          "data": {
            "text/html": [
              "<div>\n",
              "<style scoped>\n",
              "    .dataframe tbody tr th:only-of-type {\n",
              "        vertical-align: middle;\n",
              "    }\n",
              "\n",
              "    .dataframe tbody tr th {\n",
              "        vertical-align: top;\n",
              "    }\n",
              "\n",
              "    .dataframe thead th {\n",
              "        text-align: right;\n",
              "    }\n",
              "</style>\n",
              "<table border=\"1\" class=\"dataframe\">\n",
              "  <thead>\n",
              "    <tr style=\"text-align: right;\">\n",
              "      <th></th>\n",
              "      <th>Std</th>\n",
              "      <th>Mcap</th>\n",
              "    </tr>\n",
              "    <tr>\n",
              "      <th>Date</th>\n",
              "      <th></th>\n",
              "      <th></th>\n",
              "    </tr>\n",
              "  </thead>\n",
              "  <tbody>\n",
              "    <tr>\n",
              "      <th>2021-03-31</th>\n",
              "      <td>-1.275</td>\n",
              "      <td>4222.0</td>\n",
              "    </tr>\n",
              "    <tr>\n",
              "      <th>2021-04-30</th>\n",
              "      <td>-1.242</td>\n",
              "      <td>4352.0</td>\n",
              "    </tr>\n",
              "    <tr>\n",
              "      <th>2021-05-31</th>\n",
              "      <td>-1.080</td>\n",
              "      <td>4949.0</td>\n",
              "    </tr>\n",
              "    <tr>\n",
              "      <th>2021-06-30</th>\n",
              "      <td>-0.919</td>\n",
              "      <td>5546.0</td>\n",
              "    </tr>\n",
              "    <tr>\n",
              "      <th>2021-07-31</th>\n",
              "      <td>-0.657</td>\n",
              "      <td>6512.0</td>\n",
              "    </tr>\n",
              "  </tbody>\n",
              "</table>\n",
              "</div>"
            ],
            "text/plain": [
              "              Std    Mcap\n",
              "Date                     \n",
              "2021-03-31 -1.275  4222.0\n",
              "2021-04-30 -1.242  4352.0\n",
              "2021-05-31 -1.080  4949.0\n",
              "2021-06-30 -0.919  5546.0\n",
              "2021-07-31 -0.657  6512.0"
            ]
          },
          "metadata": {
            "tags": []
          },
          "execution_count": 32
        }
      ]
    },
    {
      "cell_type": "code",
      "metadata": {
        "colab": {
          "base_uri": "https://localhost:8080/",
          "height": 572
        },
        "id": "P0w40w9m89d3",
        "outputId": "ede0c22b-d1b3-4a77-a040-aef2486c7b7a"
      },
      "source": [
        "# # Create Visualisation\n",
        "\n",
        "# for col,i in enumerate(['Std_Grasim ind', 'Std_Bank of Baroda', 'Std_Exide Ind',\n",
        "#        'Std_Adani Ports', 'Std_Dr Reddys', 'Std_Jindal Steel', 'Std_IOC',\n",
        "#        'Std_HDFC Bank', 'Std_Bajaj Auto', 'Std_Divis', 'Std_Havells',\n",
        "#        'Std_Dabur', 'Std_CCIL', 'Std_Axis', 'Std_Bank of India',\n",
        "#        'Std_Colgate Palmolive', 'Std_HUL', 'Std_Adani Power',\n",
        "#        'Std_Asian Paints', 'Std_Canara Bank', 'Std_GodrejConsumer',\n",
        "#        'Std_ICICI', 'Std_Kotak bank', 'Std_Hindalco', 'Std_Oil India',\n",
        "#        'Std_L&T', 'Std_Pidilite', 'Std_TATA Steel', 'Std_NALCO',\n",
        "#        'Std_United Spirits', 'Std_Wipro', 'Std_Bajaj Finserv', 'Std_Vedanta',\n",
        "#        'Std_Britannia', 'Std_Bosch', 'Std_Cipla', 'Std_GSK Pharma',\n",
        "#        'Std_HCL Tech', 'Std_Cmmins', 'Std_HPCL', 'Std_BergerPaint',\n",
        "#        'Std_Hero Motors', 'Std_Infosys', 'Std_ITC', 'Std_JSW Steel', 'Std_M&M',\n",
        "#        'Std_Maruti', 'Std_Jubilant', 'Std_Mindtree', 'Std_Marico', 'Std_MRF',\n",
        "#        'Std_ONGC', 'Std_PageInd', 'Std_PNB', 'Std_Sun Pharma',\n",
        "#        'Std_Shree Cement', 'Std_Reliance Industries', 'Std_SBI Bank',\n",
        "#        'Std_TATA Power', 'Std_Ultratech', 'Std_TATA GloBev', 'Std_TechM',\n",
        "#        'Std_TCS', 'Std_TATA Motors', 'Std_Titan']):\n",
        "#   plt.figure(i)\n",
        "#   Scaled_std_2021[i].plot()\n",
        "#   plt.axvline(x = Scaled_std_2021.index[-84], color='g')\n",
        "#   plt.axhline(y =0, color='g')\n",
        "#   plt.title('{}. The Scaled Value plot for {}'.format(col+1, i))\n",
        "#   plt.show()"
      ],
      "execution_count": 27,
      "outputs": [
        {
          "output_type": "error",
          "ename": "KeyError",
          "evalue": "ignored",
          "traceback": [
            "\u001b[0;31m---------------------------------------------------------------------------\u001b[0m",
            "\u001b[0;31mKeyError\u001b[0m                                  Traceback (most recent call last)",
            "\u001b[0;32m/usr/local/lib/python3.7/dist-packages/pandas/core/indexes/base.py\u001b[0m in \u001b[0;36mget_loc\u001b[0;34m(self, key, method, tolerance)\u001b[0m\n\u001b[1;32m   2897\u001b[0m             \u001b[0;32mtry\u001b[0m\u001b[0;34m:\u001b[0m\u001b[0;34m\u001b[0m\u001b[0;34m\u001b[0m\u001b[0m\n\u001b[0;32m-> 2898\u001b[0;31m                 \u001b[0;32mreturn\u001b[0m \u001b[0mself\u001b[0m\u001b[0;34m.\u001b[0m\u001b[0m_engine\u001b[0m\u001b[0;34m.\u001b[0m\u001b[0mget_loc\u001b[0m\u001b[0;34m(\u001b[0m\u001b[0mcasted_key\u001b[0m\u001b[0;34m)\u001b[0m\u001b[0;34m\u001b[0m\u001b[0;34m\u001b[0m\u001b[0m\n\u001b[0m\u001b[1;32m   2899\u001b[0m             \u001b[0;32mexcept\u001b[0m \u001b[0mKeyError\u001b[0m \u001b[0;32mas\u001b[0m \u001b[0merr\u001b[0m\u001b[0;34m:\u001b[0m\u001b[0;34m\u001b[0m\u001b[0;34m\u001b[0m\u001b[0m\n",
            "\u001b[0;32mpandas/_libs/index.pyx\u001b[0m in \u001b[0;36mpandas._libs.index.IndexEngine.get_loc\u001b[0;34m()\u001b[0m\n",
            "\u001b[0;32mpandas/_libs/index.pyx\u001b[0m in \u001b[0;36mpandas._libs.index.IndexEngine.get_loc\u001b[0;34m()\u001b[0m\n",
            "\u001b[0;32mpandas/_libs/hashtable_class_helper.pxi\u001b[0m in \u001b[0;36mpandas._libs.hashtable.PyObjectHashTable.get_item\u001b[0;34m()\u001b[0m\n",
            "\u001b[0;32mpandas/_libs/hashtable_class_helper.pxi\u001b[0m in \u001b[0;36mpandas._libs.hashtable.PyObjectHashTable.get_item\u001b[0;34m()\u001b[0m\n",
            "\u001b[0;31mKeyError\u001b[0m: 'Std_Grasim ind'",
            "\nThe above exception was the direct cause of the following exception:\n",
            "\u001b[0;31mKeyError\u001b[0m                                  Traceback (most recent call last)",
            "\u001b[0;32m<ipython-input-27-626ed172ef46>\u001b[0m in \u001b[0;36m<module>\u001b[0;34m()\u001b[0m\n\u001b[1;32m     19\u001b[0m        'Std_TCS', 'Std_TATA Motors', 'Std_Titan']):\n\u001b[1;32m     20\u001b[0m   \u001b[0mplt\u001b[0m\u001b[0;34m.\u001b[0m\u001b[0mfigure\u001b[0m\u001b[0;34m(\u001b[0m\u001b[0mi\u001b[0m\u001b[0;34m)\u001b[0m\u001b[0;34m\u001b[0m\u001b[0;34m\u001b[0m\u001b[0m\n\u001b[0;32m---> 21\u001b[0;31m   \u001b[0mScaled_std_2021\u001b[0m\u001b[0;34m[\u001b[0m\u001b[0mi\u001b[0m\u001b[0;34m]\u001b[0m\u001b[0;34m.\u001b[0m\u001b[0mplot\u001b[0m\u001b[0;34m(\u001b[0m\u001b[0;34m)\u001b[0m\u001b[0;34m\u001b[0m\u001b[0;34m\u001b[0m\u001b[0m\n\u001b[0m\u001b[1;32m     22\u001b[0m   \u001b[0mplt\u001b[0m\u001b[0;34m.\u001b[0m\u001b[0maxvline\u001b[0m\u001b[0;34m(\u001b[0m\u001b[0mx\u001b[0m \u001b[0;34m=\u001b[0m \u001b[0mScaled_std_2021\u001b[0m\u001b[0;34m.\u001b[0m\u001b[0mindex\u001b[0m\u001b[0;34m[\u001b[0m\u001b[0;34m-\u001b[0m\u001b[0;36m84\u001b[0m\u001b[0;34m]\u001b[0m\u001b[0;34m,\u001b[0m \u001b[0mcolor\u001b[0m\u001b[0;34m=\u001b[0m\u001b[0;34m'g'\u001b[0m\u001b[0;34m)\u001b[0m\u001b[0;34m\u001b[0m\u001b[0;34m\u001b[0m\u001b[0m\n\u001b[1;32m     23\u001b[0m   \u001b[0mplt\u001b[0m\u001b[0;34m.\u001b[0m\u001b[0maxhline\u001b[0m\u001b[0;34m(\u001b[0m\u001b[0my\u001b[0m \u001b[0;34m=\u001b[0m\u001b[0;36m0\u001b[0m\u001b[0;34m,\u001b[0m \u001b[0mcolor\u001b[0m\u001b[0;34m=\u001b[0m\u001b[0;34m'g'\u001b[0m\u001b[0;34m)\u001b[0m\u001b[0;34m\u001b[0m\u001b[0;34m\u001b[0m\u001b[0m\n",
            "\u001b[0;32m/usr/local/lib/python3.7/dist-packages/pandas/core/frame.py\u001b[0m in \u001b[0;36m__getitem__\u001b[0;34m(self, key)\u001b[0m\n\u001b[1;32m   2904\u001b[0m             \u001b[0;32mif\u001b[0m \u001b[0mself\u001b[0m\u001b[0;34m.\u001b[0m\u001b[0mcolumns\u001b[0m\u001b[0;34m.\u001b[0m\u001b[0mnlevels\u001b[0m \u001b[0;34m>\u001b[0m \u001b[0;36m1\u001b[0m\u001b[0;34m:\u001b[0m\u001b[0;34m\u001b[0m\u001b[0;34m\u001b[0m\u001b[0m\n\u001b[1;32m   2905\u001b[0m                 \u001b[0;32mreturn\u001b[0m \u001b[0mself\u001b[0m\u001b[0;34m.\u001b[0m\u001b[0m_getitem_multilevel\u001b[0m\u001b[0;34m(\u001b[0m\u001b[0mkey\u001b[0m\u001b[0;34m)\u001b[0m\u001b[0;34m\u001b[0m\u001b[0;34m\u001b[0m\u001b[0m\n\u001b[0;32m-> 2906\u001b[0;31m             \u001b[0mindexer\u001b[0m \u001b[0;34m=\u001b[0m \u001b[0mself\u001b[0m\u001b[0;34m.\u001b[0m\u001b[0mcolumns\u001b[0m\u001b[0;34m.\u001b[0m\u001b[0mget_loc\u001b[0m\u001b[0;34m(\u001b[0m\u001b[0mkey\u001b[0m\u001b[0;34m)\u001b[0m\u001b[0;34m\u001b[0m\u001b[0;34m\u001b[0m\u001b[0m\n\u001b[0m\u001b[1;32m   2907\u001b[0m             \u001b[0;32mif\u001b[0m \u001b[0mis_integer\u001b[0m\u001b[0;34m(\u001b[0m\u001b[0mindexer\u001b[0m\u001b[0;34m)\u001b[0m\u001b[0;34m:\u001b[0m\u001b[0;34m\u001b[0m\u001b[0;34m\u001b[0m\u001b[0m\n\u001b[1;32m   2908\u001b[0m                 \u001b[0mindexer\u001b[0m \u001b[0;34m=\u001b[0m \u001b[0;34m[\u001b[0m\u001b[0mindexer\u001b[0m\u001b[0;34m]\u001b[0m\u001b[0;34m\u001b[0m\u001b[0;34m\u001b[0m\u001b[0m\n",
            "\u001b[0;32m/usr/local/lib/python3.7/dist-packages/pandas/core/indexes/base.py\u001b[0m in \u001b[0;36mget_loc\u001b[0;34m(self, key, method, tolerance)\u001b[0m\n\u001b[1;32m   2898\u001b[0m                 \u001b[0;32mreturn\u001b[0m \u001b[0mself\u001b[0m\u001b[0;34m.\u001b[0m\u001b[0m_engine\u001b[0m\u001b[0;34m.\u001b[0m\u001b[0mget_loc\u001b[0m\u001b[0;34m(\u001b[0m\u001b[0mcasted_key\u001b[0m\u001b[0;34m)\u001b[0m\u001b[0;34m\u001b[0m\u001b[0;34m\u001b[0m\u001b[0m\n\u001b[1;32m   2899\u001b[0m             \u001b[0;32mexcept\u001b[0m \u001b[0mKeyError\u001b[0m \u001b[0;32mas\u001b[0m \u001b[0merr\u001b[0m\u001b[0;34m:\u001b[0m\u001b[0;34m\u001b[0m\u001b[0;34m\u001b[0m\u001b[0m\n\u001b[0;32m-> 2900\u001b[0;31m                 \u001b[0;32mraise\u001b[0m \u001b[0mKeyError\u001b[0m\u001b[0;34m(\u001b[0m\u001b[0mkey\u001b[0m\u001b[0;34m)\u001b[0m \u001b[0;32mfrom\u001b[0m \u001b[0merr\u001b[0m\u001b[0;34m\u001b[0m\u001b[0;34m\u001b[0m\u001b[0m\n\u001b[0m\u001b[1;32m   2901\u001b[0m \u001b[0;34m\u001b[0m\u001b[0m\n\u001b[1;32m   2902\u001b[0m         \u001b[0;32mif\u001b[0m \u001b[0mtolerance\u001b[0m \u001b[0;32mis\u001b[0m \u001b[0;32mnot\u001b[0m \u001b[0;32mNone\u001b[0m\u001b[0;34m:\u001b[0m\u001b[0;34m\u001b[0m\u001b[0;34m\u001b[0m\u001b[0m\n",
            "\u001b[0;31mKeyError\u001b[0m: 'Std_Grasim ind'"
          ]
        },
        {
          "output_type": "display_data",
          "data": {
            "text/plain": [
              "<Figure size 432x288 with 0 Axes>"
            ]
          },
          "metadata": {
            "tags": []
          }
        }
      ]
    },
    {
      "cell_type": "code",
      "metadata": {
        "colab": {
          "base_uri": "https://localhost:8080/",
          "height": 291
        },
        "id": "1i7W0DnCYxSJ",
        "outputId": "fee0f5aa-4d49-40fa-b25c-98a9c18407a8"
      },
      "source": [
        "Scaled_std_2021['Std'].plot()\n",
        "plt.axvline(x = Scaled_std_2021.index[-84], color='g')\n",
        "plt.axhline(y =0, color='g')\n",
        "plt.title('{}. The Scaled Value plot for KRBL')\n",
        "plt.show()"
      ],
      "execution_count": 34,
      "outputs": [
        {
          "output_type": "display_data",
          "data": {
            "image/png": "[encoded data removed]",
            "text/plain": [
              "<Figure size 432x288 with 1 Axes>"
            ]
          },
          "metadata": {
            "tags": []
          }
        }
      ]
    },
    {
      "cell_type": "code",
      "metadata": {
        "colab": {
          "base_uri": "https://localhost:8080/",
          "height": 291
        },
        "id": "3BQ8zrvNZLaF",
        "outputId": "0e1f6b95-4753-4157-8ee3-1a31bd1943c2"
      },
      "source": [
        "Scaled_std_2021['Mcap'].plot()\n",
        "#plt.axvline(x = Scaled_std_2021.index[-84], color='g')\n",
        "#plt.axhline(y =0, color='g')\n",
        "plt.title('The Mcap plot for KRBL')\n",
        "plt.show()"
      ],
      "execution_count": 37,
      "outputs": [
        {
          "output_type": "display_data",
          "data": {
            "image/png": "[encoded data removed]",
            "text/plain": [
              "<Figure size 432x288 with 1 Axes>"
            ]
          },
          "metadata": {
            "tags": []
          }
        }
      ]
    },
    {
      "cell_type": "code",
      "metadata": {
        "id": "q6GNgW6vAHHX"
      },
      "source": [
        "# # Define a function to plot visualistion for the Scaled values\n",
        "\n",
        "# def scale_plot(df):\n",
        "#   print('The Valuation of The stock is:', df['Value'][-1],' and the scaled value is: ',df['S_value'][-1])\n",
        "\n",
        "#   print('\\n')\n",
        "#   plt.figure(figsize=(15,8))\n",
        "#   plt.subplot(1,2,1)\n",
        "#   sns.distplot(df['Value'], bins=50)\n",
        "#   plt.axvline(x = df['Value'][-1], color='b')\n",
        "#   print('The normalised distribution of the Values')\n",
        "\n",
        "#   plt.subplot(1,2,2)\n",
        "#   sns.distplot(df['S_value'], bins=50)\n",
        "#   plt.axvline(x = df['S_value'][-1], color='b')\n",
        "#   print('The normalised distribution of the Scaled Values')"
      ],
      "execution_count": null,
      "outputs": []
    },
    {
      "cell_type": "code",
      "metadata": {
        "id": "mCjL0xZgApUZ"
      },
      "source": [
        ""
      ],
      "execution_count": null,
      "outputs": []
    },
    {
      "cell_type": "code",
      "metadata": {
        "id": "FeJmM8DSF-0-"
      },
      "source": [
        ""
      ],
      "execution_count": null,
      "outputs": []
    },
    {
      "cell_type": "code",
      "metadata": {
        "id": "sY43NCvSNf_4"
      },
      "source": [
        ""
      ],
      "execution_count": null,
      "outputs": []
    },
    {
      "cell_type": "markdown",
      "metadata": {
        "id": "BdDjqHgwLWSP"
      },
      "source": [
        "### As per custom month\n",
        "Custom Selection for deriving Valuation equivalence at a certain point.\n",
        "\n",
        "- Pass a snippet of the main series as arguement. (Starting from the beginning and ending at a dersired month/date)\n",
        "- pass scale to determine if the past 7 years data can be figured out or not\n",
        "- Save the output as a seperate dataframe. and join it with the original df with timestamp as reference.\n",
        " "
      ]
    },
    {
      "cell_type": "markdown",
      "metadata": {
        "id": "IWz2tVbFC3rD"
      },
      "source": [
        "Although I am creating these functions for manual operation, we will have to consider automating the same in the future."
      ]
    },
    {
      "cell_type": "code",
      "metadata": {
        "id": "JqIkoW9wq52j"
      },
      "source": [
        "# Pass the end date for reference (format yyyy-mm)\n",
        "V_2018 = scale(df_m[['Value']][:'2018-12'], monthly=True).round(3)\n",
        "V_2018 = pd.DataFrame(V_2018, index = df_m[['Value']][:'2018-12'].index , columns= ['Scaled_2018'])\n",
        "V_2018.tail()\n"
      ],
      "execution_count": null,
      "outputs": []
    },
    {
      "cell_type": "code",
      "metadata": {
        "id": "V6C0QHx0DJHE"
      },
      "source": [
        "V_2019 = scale(df_m[['Value']][:'2019-12'], monthly=True).round(3)\n",
        "V_2019 = pd.DataFrame(V_2019, index = df_m[['Value']][:'2019-12'].index , columns= ['Scaled_2019'])\n",
        "V_2019.tail()"
      ],
      "execution_count": null,
      "outputs": []
    },
    {
      "cell_type": "code",
      "metadata": {
        "id": "AXOYXjkmyiXy"
      },
      "source": [
        "V_2020 = scale(df_m[['Value']][:'2020-12'], monthly=True).round(3)\n",
        "V_2020 = pd.DataFrame(V_2020, index = df_m[['Value']][:'2020-12'].index , columns= ['Scaled_2020'])\n",
        "V_2020.tail()"
      ],
      "execution_count": null,
      "outputs": []
    },
    {
      "cell_type": "code",
      "metadata": {
        "id": "ucfl9-KcDleW"
      },
      "source": [
        "V_2014 = scale(df_m[['Value']][:'2014-12'], monthly=True).round(3)\n",
        "V_2014 = pd.DataFrame(V_2014, index = df_m[['Value']][:'2014-12'].index , columns= ['Scaled_2014'])\n",
        "V_2014.tail()"
      ],
      "execution_count": null,
      "outputs": []
    },
    {
      "cell_type": "code",
      "metadata": {
        "id": "E3jk8y9zDtj7"
      },
      "source": [
        "V_2010 = scale(df_m[['Value']][:'2010-12'], monthly=True).round(3)\n",
        "V_2010 = pd.DataFrame(V_2010, index = df_m[['Value']][:'2010-12'].index , columns= ['Scaled_2010'])\n",
        "V_2010.tail()"
      ],
      "execution_count": null,
      "outputs": []
    },
    {
      "cell_type": "code",
      "metadata": {
        "id": "-Ye5hfukGwLa"
      },
      "source": [
        "V_2008 = scale(df_m[['Value']][:'2008-12'], monthly=True).round(3)\n",
        "V_2008 = pd.DataFrame(V_2008, index = df_m[['Value']][:'2008-12'].index , columns= ['Scaled_2008'])\n",
        "V_2008.tail()"
      ],
      "execution_count": null,
      "outputs": []
    },
    {
      "cell_type": "code",
      "metadata": {
        "id": "7kKwc187E0CA"
      },
      "source": [
        "V_2017 = scale(df_m[['Value']][:'2017-12'], monthly=True).round(3)\n",
        "V_2017 = pd.DataFrame(V_2017, index = df_m[['Value']][:'2017-12'].index , columns= ['Scaled_2017'])\n",
        "V_2017.tail()"
      ],
      "execution_count": null,
      "outputs": []
    },
    {
      "cell_type": "code",
      "metadata": {
        "id": "mjM0k2FHyiVW"
      },
      "source": [
        "df_M_combined = df_m.join(V_2010, how= 'outer').join(V_2014, how= 'outer').join(V_2017, how= 'outer').join(V_2018, how= 'outer').join(V_2019, how= 'outer').join(V_2020, how= 'outer')"
      ],
      "execution_count": null,
      "outputs": []
    },
    {
      "cell_type": "code",
      "metadata": {
        "id": "f5axMJApEZ5H"
      },
      "source": [
        "df_M_combined.tail(50)"
      ],
      "execution_count": null,
      "outputs": []
    },
    {
      "cell_type": "code",
      "metadata": {
        "id": "YHe9JpsvyiS-"
      },
      "source": [
        "plt.figure(figsize=(15,8))\n",
        "df_M_combined['S_value'].plot()\n",
        "df_M_combined['Scaled_2010'].plot()\n",
        "df_M_combined['Scaled_2014'].plot()\n",
        "df_M_combined['Scaled_2017'].plot()\n",
        "df_M_combined['Scaled_2018'].plot()\n",
        "df_M_combined['Scaled_2019'].plot()\n",
        "df_M_combined['Scaled_2020'].plot()\n",
        "\n",
        "plt.legend()\n",
        "plt.show()\n"
      ],
      "execution_count": null,
      "outputs": []
    },
    {
      "cell_type": "code",
      "metadata": {
        "id": "E1hAFGCnqHgj"
      },
      "source": [
        "df_M_combined['S_value']['2015-12':].plot()\n",
        "#df_M_combined['Scaled_2014'].plot()"
      ],
      "execution_count": null,
      "outputs": []
    },
    {
      "cell_type": "code",
      "metadata": {
        "id": "rDpu_PtTql42"
      },
      "source": [
        "df_M_combined['Scaled_2014'].plot()"
      ],
      "execution_count": null,
      "outputs": []
    },
    {
      "cell_type": "markdown",
      "metadata": {
        "id": "aJ9wm_esa4fp"
      },
      "source": [
        "## Include correlation with MCap too.\n"
      ]
    },
    {
      "cell_type": "code",
      "metadata": {
        "id": "7JnQcGQdUp2L"
      },
      "source": [
        "df_m"
      ],
      "execution_count": null,
      "outputs": []
    },
    {
      "cell_type": "code",
      "metadata": {
        "id": "t_G9hFFvbXWj"
      },
      "source": [
        "# Given by Lavi; glob- reading all the csv in a given folder.\n",
        "\n",
        "# import glob\n",
        "# import pandas as pd\n",
        "\n",
        "# glued_data = pd.DataFrame()\n",
        "# for file_name in glob.glob(directoryPath+'*.csv'):\n",
        "#     x = pd.read_csv(file_name, low_memory=False)\n",
        "#     glued_data = pd.concat([glued_data,x],axis=0) ## For converting no of csv to single csv."
      ],
      "execution_count": null,
      "outputs": []
    },
    {
      "cell_type": "code",
      "metadata": {
        "id": "jdxKsQ1mceqp"
      },
      "source": [
        "# import glob\n",
        "\n",
        "# glued_data = pd.DataFrame()\n",
        "\n",
        "# for file_name in glob.glob('/content/drive/MyDrive/Colab Notebooks/Time Series Analysis/Banks/Samople/'+'*.csv'):\n",
        "#   print(file_name)\n",
        "\n",
        "#   x = pd.read_csv(file_name)\n",
        "#   # Seperating the file name form the address\n",
        "#   co_name = file_name.split('/')[-1]\n",
        "#   print(co_name)\n",
        "  \n",
        "#   # assigning a name \n",
        "#   x['Co_name'] = co_name\n",
        "\n",
        "#   glued_data = pd.concat([glued_data,x], axis=0) ## For converting no of csv to single csv."
      ],
      "execution_count": null,
      "outputs": []
    },
    {
      "cell_type": "code",
      "metadata": {
        "id": "5d-JBQZ_eJrd"
      },
      "source": [
        "# print(glued_data_r.tail())"
      ],
      "execution_count": null,
      "outputs": []
    },
    {
      "cell_type": "code",
      "metadata": {
        "id": "lX5Ye7fKe51l"
      },
      "source": [
        ""
      ],
      "execution_count": null,
      "outputs": []
    }
  ]
}