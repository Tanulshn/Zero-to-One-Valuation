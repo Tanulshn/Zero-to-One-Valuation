{
  "nbformat": 4,
  "nbformat_minor": 0,
  "metadata": {
    "colab": {
      "name": "Valuation: 0-1: individual Stock.ipynb",
      "provenance": [],
      "collapsed_sections": [],
      "mount_file_id": "18x9YkJ8jSnnBvJlCFLKByMmwoCNIPeWO",
      "authorship_tag": "ABX9TyPTPSKSvn251aeE5ezKWo7/",
      "include_colab_link": true
    },
    "kernelspec": {
      "name": "python3",
      "display_name": "Python 3"
    },
    "language_info": {
      "name": "python"
    }
  },
  "cells": [
    {
      "cell_type": "markdown",
      "metadata": {
        "id": "view-in-github",
        "colab_type": "text"
      },
      "source": [
        "<a href=\"https://colab.research.google.com/github/Tanulshn/Zero-to-One-Valuation/blob/main/Valuation_0_1_individual_Stock.ipynb\" target=\"_parent\"><img src=\"https://colab.research.google.com/assets/colab-badge.svg\" alt=\"Open In Colab\"/></a>"
      ]
    },
    {
      "cell_type": "markdown",
      "metadata": {
        "id": "fMbUYTuAdw7x"
      },
      "source": [
        "#Objective \n",
        "To derive an alternative notation for the valuation (either PE or PB) of individual stocks to be compared with one another.\n",
        "\n"
      ]
    },
    {
      "cell_type": "markdown",
      "metadata": {
        "id": "sa5ytyryoBtG"
      },
      "source": [
        "# Package Imported\n",
        "\n",
        "For pandas, numpy and visualisation\n",
        "- import pandas as pd\n",
        "- import numpy as np\n",
        "- import seaborn as sns\n",
        "- import matplotlib.pyplot as plt\n",
        "- import pylab\n",
        "- %matplotlib inline\n",
        "- plt.style.use('seaborn-darkgrid')\n",
        "\n",
        "For Standardisation\n",
        "- from sklearn.preprocessing import StandardScaler\n"
      ]
    },
    {
      "cell_type": "code",
      "metadata": {
        "id": "PplSzRd5oq_C"
      },
      "source": [
        "import pandas as pd\n",
        "import numpy as np\n",
        "import seaborn as sns\n",
        "import matplotlib.pyplot as plt\n",
        "%matplotlib inline\n",
        "# For q-q plot\n",
        "import scipy.stats\n",
        "import pylab\n",
        "\n",
        "plt.style.use('seaborn-darkgrid')\n",
        "\n",
        "import glob\n",
        "\n",
        "import warnings\n",
        "warnings.simplefilter(action='ignore')"
      ],
      "execution_count": 4,
      "outputs": []
    },
    {
      "cell_type": "code",
      "metadata": {
        "id": "IGdmGfoGdwqH",
        "colab": {
          "base_uri": "https://localhost:8080/",
          "height": 696
        },
        "outputId": "9554ae6b-a7fd-4f2c-bdc2-8ce43db1a97e"
      },
      "source": [
        "#data_std= pd.DataFrame()\n",
        "\n",
        "df = pd.read_csv('/content/drive/MyDrive/Colab Notebooks/0-1: Valuation/CSV Files/KRBL.csv')\n",
        "#Convert the datatype from object to float\n",
        "for i in ['Value','Mcap']:\n",
        "  df[i] = pd.to_numeric(df[i], errors= 'coerce').round(2)\n",
        "\n",
        "df = df[['Date','Value','Mcap']]\n",
        "df['Date'] = pd.to_datetime(df['Date'], dayfirst=False) # Use dayfirst function carefully\n",
        "df.set_index('Date', inplace=True) # Set the Date Column to Index\n",
        "df = df.resample('m').last() # Set the frequency to Business days\n",
        "#df.fillna(method='ffill') # Fill the nan values\n",
        "\n",
        "df.head(20)\n",
        "\n"
      ],
      "execution_count": 5,
      "outputs": [
        {
          "output_type": "execute_result",
          "data": {
            "text/html": [
              "<div>\n",
              "<style scoped>\n",
              "    .dataframe tbody tr th:only-of-type {\n",
              "        vertical-align: middle;\n",
              "    }\n",
              "\n",
              "    .dataframe tbody tr th {\n",
              "        vertical-align: top;\n",
              "    }\n",
              "\n",
              "    .dataframe thead th {\n",
              "        text-align: right;\n",
              "    }\n",
              "</style>\n",
              "<table border=\"1\" class=\"dataframe\">\n",
              "  <thead>\n",
              "    <tr style=\"text-align: right;\">\n",
              "      <th></th>\n",
              "      <th>Value</th>\n",
              "      <th>Mcap</th>\n",
              "    </tr>\n",
              "    <tr>\n",
              "      <th>Date</th>\n",
              "      <th></th>\n",
              "      <th></th>\n",
              "    </tr>\n",
              "  </thead>\n",
              "  <tbody>\n",
              "    <tr>\n",
              "      <th>2010-02-28</th>\n",
              "      <td>7.32</td>\n",
              "      <td>619.0</td>\n",
              "    </tr>\n",
              "    <tr>\n",
              "      <th>2010-03-31</th>\n",
              "      <td>5.40</td>\n",
              "      <td>580.0</td>\n",
              "    </tr>\n",
              "    <tr>\n",
              "      <th>2010-04-30</th>\n",
              "      <td>6.34</td>\n",
              "      <td>679.0</td>\n",
              "    </tr>\n",
              "    <tr>\n",
              "      <th>2010-05-31</th>\n",
              "      <td>5.40</td>\n",
              "      <td>581.0</td>\n",
              "    </tr>\n",
              "    <tr>\n",
              "      <th>2010-06-30</th>\n",
              "      <td>5.69</td>\n",
              "      <td>569.0</td>\n",
              "    </tr>\n",
              "    <tr>\n",
              "      <th>2010-07-31</th>\n",
              "      <td>5.74</td>\n",
              "      <td>571.0</td>\n",
              "    </tr>\n",
              "    <tr>\n",
              "      <th>2010-08-31</th>\n",
              "      <td>5.70</td>\n",
              "      <td>569.0</td>\n",
              "    </tr>\n",
              "    <tr>\n",
              "      <th>2010-09-30</th>\n",
              "      <td>8.12</td>\n",
              "      <td>874.0</td>\n",
              "    </tr>\n",
              "    <tr>\n",
              "      <th>2010-10-31</th>\n",
              "      <td>11.11</td>\n",
              "      <td>1200.0</td>\n",
              "    </tr>\n",
              "    <tr>\n",
              "      <th>2010-11-30</th>\n",
              "      <td>8.36</td>\n",
              "      <td>904.0</td>\n",
              "    </tr>\n",
              "    <tr>\n",
              "      <th>2010-12-31</th>\n",
              "      <td>8.90</td>\n",
              "      <td>934.0</td>\n",
              "    </tr>\n",
              "    <tr>\n",
              "      <th>2011-01-31</th>\n",
              "      <td>7.46</td>\n",
              "      <td>783.0</td>\n",
              "    </tr>\n",
              "    <tr>\n",
              "      <th>2011-02-28</th>\n",
              "      <td>4.93</td>\n",
              "      <td>517.0</td>\n",
              "    </tr>\n",
              "    <tr>\n",
              "      <th>2011-03-31</th>\n",
              "      <td>5.64</td>\n",
              "      <td>649.0</td>\n",
              "    </tr>\n",
              "    <tr>\n",
              "      <th>2011-04-30</th>\n",
              "      <td>6.59</td>\n",
              "      <td>757.0</td>\n",
              "    </tr>\n",
              "    <tr>\n",
              "      <th>2011-05-31</th>\n",
              "      <td>5.83</td>\n",
              "      <td>672.0</td>\n",
              "    </tr>\n",
              "    <tr>\n",
              "      <th>2011-06-30</th>\n",
              "      <td>5.99</td>\n",
              "      <td>690.0</td>\n",
              "    </tr>\n",
              "    <tr>\n",
              "      <th>2011-07-31</th>\n",
              "      <td>5.81</td>\n",
              "      <td>670.0</td>\n",
              "    </tr>\n",
              "    <tr>\n",
              "      <th>2011-08-31</th>\n",
              "      <td>5.38</td>\n",
              "      <td>624.0</td>\n",
              "    </tr>\n",
              "    <tr>\n",
              "      <th>2011-09-30</th>\n",
              "      <td>11.30</td>\n",
              "      <td>593.0</td>\n",
              "    </tr>\n",
              "  </tbody>\n",
              "</table>\n",
              "</div>"
            ],
            "text/plain": [
              "            Value    Mcap\n",
              "Date                     \n",
              "2010-02-28   7.32   619.0\n",
              "2010-03-31   5.40   580.0\n",
              "2010-04-30   6.34   679.0\n",
              "2010-05-31   5.40   581.0\n",
              "2010-06-30   5.69   569.0\n",
              "2010-07-31   5.74   571.0\n",
              "2010-08-31   5.70   569.0\n",
              "2010-09-30   8.12   874.0\n",
              "2010-10-31  11.11  1200.0\n",
              "2010-11-30   8.36   904.0\n",
              "2010-12-31   8.90   934.0\n",
              "2011-01-31   7.46   783.0\n",
              "2011-02-28   4.93   517.0\n",
              "2011-03-31   5.64   649.0\n",
              "2011-04-30   6.59   757.0\n",
              "2011-05-31   5.83   672.0\n",
              "2011-06-30   5.99   690.0\n",
              "2011-07-31   5.81   670.0\n",
              "2011-08-31   5.38   624.0\n",
              "2011-09-30  11.30   593.0"
            ]
          },
          "metadata": {
            "tags": []
          },
          "execution_count": 5
        }
      ]
    },
    {
      "cell_type": "code",
      "metadata": {
        "colab": {
          "base_uri": "https://localhost:8080/",
          "height": 696
        },
        "id": "zUtBXIxIWvaH",
        "outputId": "a91c273b-9200-4782-d5dc-e6de5d5cb52e"
      },
      "source": [
        "df.tail(20)"
      ],
      "execution_count": 6,
      "outputs": [
        {
          "output_type": "execute_result",
          "data": {
            "text/html": [
              "<div>\n",
              "<style scoped>\n",
              "    .dataframe tbody tr th:only-of-type {\n",
              "        vertical-align: middle;\n",
              "    }\n",
              "\n",
              "    .dataframe tbody tr th {\n",
              "        vertical-align: top;\n",
              "    }\n",
              "\n",
              "    .dataframe thead th {\n",
              "        text-align: right;\n",
              "    }\n",
              "</style>\n",
              "<table border=\"1\" class=\"dataframe\">\n",
              "  <thead>\n",
              "    <tr style=\"text-align: right;\">\n",
              "      <th></th>\n",
              "      <th>Value</th>\n",
              "      <th>Mcap</th>\n",
              "    </tr>\n",
              "    <tr>\n",
              "      <th>Date</th>\n",
              "      <th></th>\n",
              "      <th></th>\n",
              "    </tr>\n",
              "  </thead>\n",
              "  <tbody>\n",
              "    <tr>\n",
              "      <th>2020-01-31</th>\n",
              "      <td>11.41</td>\n",
              "      <td>6219.0</td>\n",
              "    </tr>\n",
              "    <tr>\n",
              "      <th>2020-02-29</th>\n",
              "      <td>10.77</td>\n",
              "      <td>5901.0</td>\n",
              "    </tr>\n",
              "    <tr>\n",
              "      <th>2020-03-31</th>\n",
              "      <td>5.67</td>\n",
              "      <td>3208.0</td>\n",
              "    </tr>\n",
              "    <tr>\n",
              "      <th>2020-04-30</th>\n",
              "      <td>8.07</td>\n",
              "      <td>4510.0</td>\n",
              "    </tr>\n",
              "    <tr>\n",
              "      <th>2020-05-31</th>\n",
              "      <td>7.88</td>\n",
              "      <td>4410.0</td>\n",
              "    </tr>\n",
              "    <tr>\n",
              "      <th>2020-06-30</th>\n",
              "      <td>10.55</td>\n",
              "      <td>5779.0</td>\n",
              "    </tr>\n",
              "    <tr>\n",
              "      <th>2020-07-31</th>\n",
              "      <td>11.60</td>\n",
              "      <td>6368.0</td>\n",
              "    </tr>\n",
              "    <tr>\n",
              "      <th>2020-08-31</th>\n",
              "      <td>11.23</td>\n",
              "      <td>6172.0</td>\n",
              "    </tr>\n",
              "    <tr>\n",
              "      <th>2020-09-30</th>\n",
              "      <td>11.66</td>\n",
              "      <td>6824.0</td>\n",
              "    </tr>\n",
              "    <tr>\n",
              "      <th>2020-10-31</th>\n",
              "      <td>10.29</td>\n",
              "      <td>6030.0</td>\n",
              "    </tr>\n",
              "    <tr>\n",
              "      <th>2020-11-30</th>\n",
              "      <td>10.37</td>\n",
              "      <td>6066.0</td>\n",
              "    </tr>\n",
              "    <tr>\n",
              "      <th>2020-12-31</th>\n",
              "      <td>10.08</td>\n",
              "      <td>5766.0</td>\n",
              "    </tr>\n",
              "    <tr>\n",
              "      <th>2021-01-31</th>\n",
              "      <td>9.76</td>\n",
              "      <td>5586.0</td>\n",
              "    </tr>\n",
              "    <tr>\n",
              "      <th>2021-02-28</th>\n",
              "      <td>8.10</td>\n",
              "      <td>4635.0</td>\n",
              "    </tr>\n",
              "    <tr>\n",
              "      <th>2021-03-31</th>\n",
              "      <td>7.54</td>\n",
              "      <td>4222.0</td>\n",
              "    </tr>\n",
              "    <tr>\n",
              "      <th>2021-04-30</th>\n",
              "      <td>7.76</td>\n",
              "      <td>4352.0</td>\n",
              "    </tr>\n",
              "    <tr>\n",
              "      <th>2021-05-31</th>\n",
              "      <td>8.83</td>\n",
              "      <td>4949.0</td>\n",
              "    </tr>\n",
              "    <tr>\n",
              "      <th>2021-06-30</th>\n",
              "      <td>9.89</td>\n",
              "      <td>5546.0</td>\n",
              "    </tr>\n",
              "    <tr>\n",
              "      <th>2021-07-31</th>\n",
              "      <td>11.50</td>\n",
              "      <td>6512.0</td>\n",
              "    </tr>\n",
              "    <tr>\n",
              "      <th>2021-08-31</th>\n",
              "      <td>11.77</td>\n",
              "      <td>NaN</td>\n",
              "    </tr>\n",
              "  </tbody>\n",
              "</table>\n",
              "</div>"
            ],
            "text/plain": [
              "            Value    Mcap\n",
              "Date                     \n",
              "2020-01-31  11.41  6219.0\n",
              "2020-02-29  10.77  5901.0\n",
              "2020-03-31   5.67  3208.0\n",
              "2020-04-30   8.07  4510.0\n",
              "2020-05-31   7.88  4410.0\n",
              "2020-06-30  10.55  5779.0\n",
              "2020-07-31  11.60  6368.0\n",
              "2020-08-31  11.23  6172.0\n",
              "2020-09-30  11.66  6824.0\n",
              "2020-10-31  10.29  6030.0\n",
              "2020-11-30  10.37  6066.0\n",
              "2020-12-31  10.08  5766.0\n",
              "2021-01-31   9.76  5586.0\n",
              "2021-02-28   8.10  4635.0\n",
              "2021-03-31   7.54  4222.0\n",
              "2021-04-30   7.76  4352.0\n",
              "2021-05-31   8.83  4949.0\n",
              "2021-06-30   9.89  5546.0\n",
              "2021-07-31  11.50  6512.0\n",
              "2021-08-31  11.77     NaN"
            ]
          },
          "metadata": {
            "tags": []
          },
          "execution_count": 6
        }
      ]
    },
    {
      "cell_type": "markdown",
      "metadata": {
        "id": "rqozIC--1sKz"
      },
      "source": [
        "### Data PreProcessing "
      ]
    },
    {
      "cell_type": "code",
      "metadata": {
        "colab": {
          "base_uri": "https://localhost:8080/"
        },
        "id": "9XGYII07YaQC",
        "outputId": "cce2cf72-7f3c-4971-9605-407280fbe11e"
      },
      "source": [
        "df.shape"
      ],
      "execution_count": 7,
      "outputs": [
        {
          "output_type": "execute_result",
          "data": {
            "text/plain": [
              "(139, 2)"
            ]
          },
          "metadata": {
            "tags": []
          },
          "execution_count": 7
        }
      ]
    },
    {
      "cell_type": "code",
      "metadata": {
        "colab": {
          "base_uri": "https://localhost:8080/",
          "height": 234
        },
        "id": "TJ1c2XrTXcv_",
        "outputId": "cbe2d63f-89e3-4543-89fc-7dddd5e78088"
      },
      "source": [
        "df.tail()"
      ],
      "execution_count": 8,
      "outputs": [
        {
          "output_type": "execute_result",
          "data": {
            "text/html": [
              "<div>\n",
              "<style scoped>\n",
              "    .dataframe tbody tr th:only-of-type {\n",
              "        vertical-align: middle;\n",
              "    }\n",
              "\n",
              "    .dataframe tbody tr th {\n",
              "        vertical-align: top;\n",
              "    }\n",
              "\n",
              "    .dataframe thead th {\n",
              "        text-align: right;\n",
              "    }\n",
              "</style>\n",
              "<table border=\"1\" class=\"dataframe\">\n",
              "  <thead>\n",
              "    <tr style=\"text-align: right;\">\n",
              "      <th></th>\n",
              "      <th>Value</th>\n",
              "      <th>Mcap</th>\n",
              "    </tr>\n",
              "    <tr>\n",
              "      <th>Date</th>\n",
              "      <th></th>\n",
              "      <th></th>\n",
              "    </tr>\n",
              "  </thead>\n",
              "  <tbody>\n",
              "    <tr>\n",
              "      <th>2021-04-30</th>\n",
              "      <td>7.76</td>\n",
              "      <td>4352.0</td>\n",
              "    </tr>\n",
              "    <tr>\n",
              "      <th>2021-05-31</th>\n",
              "      <td>8.83</td>\n",
              "      <td>4949.0</td>\n",
              "    </tr>\n",
              "    <tr>\n",
              "      <th>2021-06-30</th>\n",
              "      <td>9.89</td>\n",
              "      <td>5546.0</td>\n",
              "    </tr>\n",
              "    <tr>\n",
              "      <th>2021-07-31</th>\n",
              "      <td>11.50</td>\n",
              "      <td>6512.0</td>\n",
              "    </tr>\n",
              "    <tr>\n",
              "      <th>2021-08-31</th>\n",
              "      <td>11.77</td>\n",
              "      <td>NaN</td>\n",
              "    </tr>\n",
              "  </tbody>\n",
              "</table>\n",
              "</div>"
            ],
            "text/plain": [
              "            Value    Mcap\n",
              "Date                     \n",
              "2021-04-30   7.76  4352.0\n",
              "2021-05-31   8.83  4949.0\n",
              "2021-06-30   9.89  5546.0\n",
              "2021-07-31  11.50  6512.0\n",
              "2021-08-31  11.77     NaN"
            ]
          },
          "metadata": {
            "tags": []
          },
          "execution_count": 8
        }
      ]
    },
    {
      "cell_type": "code",
      "metadata": {
        "id": "Ijqkj1cs4LCF",
        "colab": {
          "base_uri": "https://localhost:8080/"
        },
        "outputId": "f37d5928-a331-4d89-ddfe-6ac9a654ed7f"
      },
      "source": [
        "# Check for null values\n",
        "df.isnull().sum()"
      ],
      "execution_count": 9,
      "outputs": [
        {
          "output_type": "execute_result",
          "data": {
            "text/plain": [
              "Value    0\n",
              "Mcap     1\n",
              "dtype: int64"
            ]
          },
          "metadata": {
            "tags": []
          },
          "execution_count": 9
        }
      ]
    },
    {
      "cell_type": "markdown",
      "metadata": {
        "id": "zH-uVHsX6a4I"
      },
      "source": [
        "The dataframes are ready to be used for further procesing\n",
        "# Variable transformation"
      ]
    },
    {
      "cell_type": "markdown",
      "metadata": {
        "id": "_DBwiGC1cE1d"
      },
      "source": [
        "## For Standalone variables"
      ]
    },
    {
      "cell_type": "code",
      "metadata": {
        "id": "1t4zy9Ii412j"
      },
      "source": [
        "  # Import packages\n",
        "from sklearn.preprocessing import StandardScaler\n",
        "sc=StandardScaler()"
      ],
      "execution_count": 10,
      "outputs": []
    },
    {
      "cell_type": "code",
      "metadata": {
        "id": "V6PS0Mk43-j4"
      },
      "source": [
        "# Create a function for transformation\n",
        "def scale(series, monthly=False):\n",
        "  \"\"\" Returns a Standardised series based on the Standard scale\n",
        "  Monthly - Whether to perform on monthly data or daily data\n",
        "  \"\"\"\n",
        "\n",
        "  if monthly:\n",
        "    if len(series)>84:\n",
        "      #print('No of months available is {}. Hence, the scale function can be applied.'.format(len(series)))\n",
        "      norm = sc.fit(series[-84:])\n",
        "      scaled_values = norm.transform(series)\n",
        "    else:\n",
        "      print('No of months available is {}. The scale function can not be applied.'.format(len(series)))\n",
        "\n",
        " \n",
        "  else:\n",
        "    if len(series)>1750:\n",
        "      print('No of days available is {}. Hence, the scale function can be applied.'.format(len(series)))\n",
        "      sc.fit_transform(series[-1750:])\n",
        "      scaled_values = sc.transform(series)\n",
        "    else:\n",
        "      print('No of days available is {}. The scale function can not be applied.'.format(len(series)))\n",
        "\n",
        "  \n",
        "  return scaled_values\n"
      ],
      "execution_count": 28,
      "outputs": []
    },
    {
      "cell_type": "code",
      "metadata": {
        "id": "0CKEqhZSWJqR",
        "colab": {
          "base_uri": "https://localhost:8080/",
          "height": 234
        },
        "outputId": "39337e57-ec34-4fda-b89a-620f798df039"
      },
      "source": [
        "df.tail()\n"
      ],
      "execution_count": 12,
      "outputs": [
        {
          "output_type": "execute_result",
          "data": {
            "text/html": [
              "<div>\n",
              "<style scoped>\n",
              "    .dataframe tbody tr th:only-of-type {\n",
              "        vertical-align: middle;\n",
              "    }\n",
              "\n",
              "    .dataframe tbody tr th {\n",
              "        vertical-align: top;\n",
              "    }\n",
              "\n",
              "    .dataframe thead th {\n",
              "        text-align: right;\n",
              "    }\n",
              "</style>\n",
              "<table border=\"1\" class=\"dataframe\">\n",
              "  <thead>\n",
              "    <tr style=\"text-align: right;\">\n",
              "      <th></th>\n",
              "      <th>Value</th>\n",
              "      <th>Mcap</th>\n",
              "    </tr>\n",
              "    <tr>\n",
              "      <th>Date</th>\n",
              "      <th></th>\n",
              "      <th></th>\n",
              "    </tr>\n",
              "  </thead>\n",
              "  <tbody>\n",
              "    <tr>\n",
              "      <th>2021-04-30</th>\n",
              "      <td>7.76</td>\n",
              "      <td>4352.0</td>\n",
              "    </tr>\n",
              "    <tr>\n",
              "      <th>2021-05-31</th>\n",
              "      <td>8.83</td>\n",
              "      <td>4949.0</td>\n",
              "    </tr>\n",
              "    <tr>\n",
              "      <th>2021-06-30</th>\n",
              "      <td>9.89</td>\n",
              "      <td>5546.0</td>\n",
              "    </tr>\n",
              "    <tr>\n",
              "      <th>2021-07-31</th>\n",
              "      <td>11.50</td>\n",
              "      <td>6512.0</td>\n",
              "    </tr>\n",
              "    <tr>\n",
              "      <th>2021-08-31</th>\n",
              "      <td>11.77</td>\n",
              "      <td>NaN</td>\n",
              "    </tr>\n",
              "  </tbody>\n",
              "</table>\n",
              "</div>"
            ],
            "text/plain": [
              "            Value    Mcap\n",
              "Date                     \n",
              "2021-04-30   7.76  4352.0\n",
              "2021-05-31   8.83  4949.0\n",
              "2021-06-30   9.89  5546.0\n",
              "2021-07-31  11.50  6512.0\n",
              "2021-08-31  11.77     NaN"
            ]
          },
          "metadata": {
            "tags": []
          },
          "execution_count": 12
        }
      ]
    },
    {
      "cell_type": "markdown",
      "metadata": {
        "id": "At_IdjD3HVhk"
      },
      "source": [
        "### Scaled Valuations: As of today"
      ]
    },
    {
      "cell_type": "code",
      "metadata": {
        "colab": {
          "base_uri": "https://localhost:8080/",
          "height": 234
        },
        "id": "XlCTviDM4IbT",
        "outputId": "6fc31a69-63fc-4cb0-a096-5e26dc389d60"
      },
      "source": [
        "Scaled_std_2021 = df.copy()\n",
        "Scaled_std_2021['Value'] = scale(df[['Value']],monthly = True).round(3)\n",
        "\n",
        "Scaled_std_2021.tail()\n",
        "  "
      ],
      "execution_count": 13,
      "outputs": [
        {
          "output_type": "execute_result",
          "data": {
            "text/html": [
              "<div>\n",
              "<style scoped>\n",
              "    .dataframe tbody tr th:only-of-type {\n",
              "        vertical-align: middle;\n",
              "    }\n",
              "\n",
              "    .dataframe tbody tr th {\n",
              "        vertical-align: top;\n",
              "    }\n",
              "\n",
              "    .dataframe thead th {\n",
              "        text-align: right;\n",
              "    }\n",
              "</style>\n",
              "<table border=\"1\" class=\"dataframe\">\n",
              "  <thead>\n",
              "    <tr style=\"text-align: right;\">\n",
              "      <th></th>\n",
              "      <th>Value</th>\n",
              "      <th>Mcap</th>\n",
              "    </tr>\n",
              "    <tr>\n",
              "      <th>Date</th>\n",
              "      <th></th>\n",
              "      <th></th>\n",
              "    </tr>\n",
              "  </thead>\n",
              "  <tbody>\n",
              "    <tr>\n",
              "      <th>2021-04-30</th>\n",
              "      <td>-1.261</td>\n",
              "      <td>4352.0</td>\n",
              "    </tr>\n",
              "    <tr>\n",
              "      <th>2021-05-31</th>\n",
              "      <td>-1.098</td>\n",
              "      <td>4949.0</td>\n",
              "    </tr>\n",
              "    <tr>\n",
              "      <th>2021-06-30</th>\n",
              "      <td>-0.936</td>\n",
              "      <td>5546.0</td>\n",
              "    </tr>\n",
              "    <tr>\n",
              "      <th>2021-07-31</th>\n",
              "      <td>-0.690</td>\n",
              "      <td>6512.0</td>\n",
              "    </tr>\n",
              "    <tr>\n",
              "      <th>2021-08-31</th>\n",
              "      <td>-0.649</td>\n",
              "      <td>NaN</td>\n",
              "    </tr>\n",
              "  </tbody>\n",
              "</table>\n",
              "</div>"
            ],
            "text/plain": [
              "            Value    Mcap\n",
              "Date                     \n",
              "2021-04-30 -1.261  4352.0\n",
              "2021-05-31 -1.098  4949.0\n",
              "2021-06-30 -0.936  5546.0\n",
              "2021-07-31 -0.690  6512.0\n",
              "2021-08-31 -0.649     NaN"
            ]
          },
          "metadata": {
            "tags": []
          },
          "execution_count": 13
        }
      ]
    },
    {
      "cell_type": "code",
      "metadata": {
        "colab": {
          "base_uri": "https://localhost:8080/",
          "height": 291
        },
        "id": "1i7W0DnCYxSJ",
        "outputId": "8b7ae4ba-eb88-443d-db44-0ba2e87c15e2"
      },
      "source": [
        "Scaled_std_2021['Value'].plot()\n",
        "plt.axvline(x = Scaled_std_2021.index[-84], color='g')\n",
        "plt.axhline(y =0, color='g')\n",
        "plt.title('{}. The Scaled Value plot for KRBL')\n",
        "plt.show()"
      ],
      "execution_count": 14,
      "outputs": [
        {
          "output_type": "display_data",
          "data": {
            "image/png": "[encoded data removed]",
            "text/plain": [
              "<Figure size 432x288 with 1 Axes>"
            ]
          },
          "metadata": {
            "tags": []
          }
        }
      ]
    },
    {
      "cell_type": "code",
      "metadata": {
        "colab": {
          "base_uri": "https://localhost:8080/",
          "height": 291
        },
        "id": "3BQ8zrvNZLaF",
        "outputId": "7d9e7e1f-5976-48aa-d7e0-c2469ec9b5cb"
      },
      "source": [
        "Scaled_std_2021['Mcap'].plot()\n",
        "#plt.axvline(x = Scaled_std_2021.index[-84], color='g')\n",
        "#plt.axhline(y =0, color='g')\n",
        "plt.title('The Mcap plot for KRBL')\n",
        "plt.show()"
      ],
      "execution_count": 15,
      "outputs": [
        {
          "output_type": "display_data",
          "data": {
            "image/png": "[encoded data removed]",
            "text/plain": [
              "<Figure size 432x288 with 1 Axes>"
            ]
          },
          "metadata": {
            "tags": []
          }
        }
      ]
    },
    {
      "cell_type": "markdown",
      "metadata": {
        "id": "BdDjqHgwLWSP"
      },
      "source": [
        "### As per custom month\n",
        "Custom Selection for deriving Valuation equivalence at a certain point.\n",
        "\n",
        "- Pass a snippet of the main series as arguement. (Starting from the beginning and ending at a dersired month/date)\n",
        "- pass scale to determine if the past 7 years data can be figured out or not\n",
        "- Save the output as a seperate dataframe. and join it with the original df with timestamp as reference.\n",
        " "
      ]
    },
    {
      "cell_type": "markdown",
      "metadata": {
        "id": "IWz2tVbFC3rD"
      },
      "source": [
        "Although I am creating these functions for manual operation, we will have to consider automating the same in the future."
      ]
    },
    {
      "cell_type": "code",
      "metadata": {
        "id": "paLKadzantdh"
      },
      "source": [
        "df_m = Scaled_std_2021.copy()"
      ],
      "execution_count": 16,
      "outputs": []
    },
    {
      "cell_type": "code",
      "metadata": {
        "colab": {
          "base_uri": "https://localhost:8080/",
          "height": 447
        },
        "id": "EiJ3qpIowbQg",
        "outputId": "c9968fb5-f65d-407f-f347-aeb13df9b4c1"
      },
      "source": [
        "df_m"
      ],
      "execution_count": 17,
      "outputs": [
        {
          "output_type": "execute_result",
          "data": {
            "text/html": [
              "<div>\n",
              "<style scoped>\n",
              "    .dataframe tbody tr th:only-of-type {\n",
              "        vertical-align: middle;\n",
              "    }\n",
              "\n",
              "    .dataframe tbody tr th {\n",
              "        vertical-align: top;\n",
              "    }\n",
              "\n",
              "    .dataframe thead th {\n",
              "        text-align: right;\n",
              "    }\n",
              "</style>\n",
              "<table border=\"1\" class=\"dataframe\">\n",
              "  <thead>\n",
              "    <tr style=\"text-align: right;\">\n",
              "      <th></th>\n",
              "      <th>Value</th>\n",
              "      <th>Mcap</th>\n",
              "    </tr>\n",
              "    <tr>\n",
              "      <th>Date</th>\n",
              "      <th></th>\n",
              "      <th></th>\n",
              "    </tr>\n",
              "  </thead>\n",
              "  <tbody>\n",
              "    <tr>\n",
              "      <th>2010-02-28</th>\n",
              "      <td>-1.329</td>\n",
              "      <td>619.0</td>\n",
              "    </tr>\n",
              "    <tr>\n",
              "      <th>2010-03-31</th>\n",
              "      <td>-1.622</td>\n",
              "      <td>580.0</td>\n",
              "    </tr>\n",
              "    <tr>\n",
              "      <th>2010-04-30</th>\n",
              "      <td>-1.478</td>\n",
              "      <td>679.0</td>\n",
              "    </tr>\n",
              "    <tr>\n",
              "      <th>2010-05-31</th>\n",
              "      <td>-1.622</td>\n",
              "      <td>581.0</td>\n",
              "    </tr>\n",
              "    <tr>\n",
              "      <th>2010-06-30</th>\n",
              "      <td>-1.577</td>\n",
              "      <td>569.0</td>\n",
              "    </tr>\n",
              "    <tr>\n",
              "      <th>...</th>\n",
              "      <td>...</td>\n",
              "      <td>...</td>\n",
              "    </tr>\n",
              "    <tr>\n",
              "      <th>2021-04-30</th>\n",
              "      <td>-1.261</td>\n",
              "      <td>4352.0</td>\n",
              "    </tr>\n",
              "    <tr>\n",
              "      <th>2021-05-31</th>\n",
              "      <td>-1.098</td>\n",
              "      <td>4949.0</td>\n",
              "    </tr>\n",
              "    <tr>\n",
              "      <th>2021-06-30</th>\n",
              "      <td>-0.936</td>\n",
              "      <td>5546.0</td>\n",
              "    </tr>\n",
              "    <tr>\n",
              "      <th>2021-07-31</th>\n",
              "      <td>-0.690</td>\n",
              "      <td>6512.0</td>\n",
              "    </tr>\n",
              "    <tr>\n",
              "      <th>2021-08-31</th>\n",
              "      <td>-0.649</td>\n",
              "      <td>NaN</td>\n",
              "    </tr>\n",
              "  </tbody>\n",
              "</table>\n",
              "<p>139 rows × 2 columns</p>\n",
              "</div>"
            ],
            "text/plain": [
              "            Value    Mcap\n",
              "Date                     \n",
              "2010-02-28 -1.329   619.0\n",
              "2010-03-31 -1.622   580.0\n",
              "2010-04-30 -1.478   679.0\n",
              "2010-05-31 -1.622   581.0\n",
              "2010-06-30 -1.577   569.0\n",
              "...           ...     ...\n",
              "2021-04-30 -1.261  4352.0\n",
              "2021-05-31 -1.098  4949.0\n",
              "2021-06-30 -0.936  5546.0\n",
              "2021-07-31 -0.690  6512.0\n",
              "2021-08-31 -0.649     NaN\n",
              "\n",
              "[139 rows x 2 columns]"
            ]
          },
          "metadata": {
            "tags": []
          },
          "execution_count": 17
        }
      ]
    },
    {
      "cell_type": "code",
      "metadata": {
        "id": "JqIkoW9wq52j",
        "colab": {
          "base_uri": "https://localhost:8080/",
          "height": 234
        },
        "outputId": "8d21af1f-9993-446b-ce94-416fac0b6652"
      },
      "source": [
        "# Pass the end date for reference (format yyyy-mm)\n",
        "V_2018 = scale(df_m[['Value']][:'2018-12'], monthly=True).round(3)\n",
        "V_2018 = pd.DataFrame(V_2018, index = df_m[['Value']][:'2018-12'].index , columns= ['Scaled_2018'])\n",
        "V_2018.tail()\n"
      ],
      "execution_count": 18,
      "outputs": [
        {
          "output_type": "execute_result",
          "data": {
            "text/html": [
              "<div>\n",
              "<style scoped>\n",
              "    .dataframe tbody tr th:only-of-type {\n",
              "        vertical-align: middle;\n",
              "    }\n",
              "\n",
              "    .dataframe tbody tr th {\n",
              "        vertical-align: top;\n",
              "    }\n",
              "\n",
              "    .dataframe thead th {\n",
              "        text-align: right;\n",
              "    }\n",
              "</style>\n",
              "<table border=\"1\" class=\"dataframe\">\n",
              "  <thead>\n",
              "    <tr style=\"text-align: right;\">\n",
              "      <th></th>\n",
              "      <th>Scaled_2018</th>\n",
              "    </tr>\n",
              "    <tr>\n",
              "      <th>Date</th>\n",
              "      <th></th>\n",
              "    </tr>\n",
              "  </thead>\n",
              "  <tbody>\n",
              "    <tr>\n",
              "      <th>2018-08-31</th>\n",
              "      <td>0.754</td>\n",
              "    </tr>\n",
              "    <tr>\n",
              "      <th>2018-09-30</th>\n",
              "      <td>0.403</td>\n",
              "    </tr>\n",
              "    <tr>\n",
              "      <th>2018-10-31</th>\n",
              "      <td>0.382</td>\n",
              "    </tr>\n",
              "    <tr>\n",
              "      <th>2018-11-30</th>\n",
              "      <td>0.117</td>\n",
              "    </tr>\n",
              "    <tr>\n",
              "      <th>2018-12-31</th>\n",
              "      <td>0.074</td>\n",
              "    </tr>\n",
              "  </tbody>\n",
              "</table>\n",
              "</div>"
            ],
            "text/plain": [
              "            Scaled_2018\n",
              "Date                   \n",
              "2018-08-31        0.754\n",
              "2018-09-30        0.403\n",
              "2018-10-31        0.382\n",
              "2018-11-30        0.117\n",
              "2018-12-31        0.074"
            ]
          },
          "metadata": {
            "tags": []
          },
          "execution_count": 18
        }
      ]
    },
    {
      "cell_type": "code",
      "metadata": {
        "id": "V6C0QHx0DJHE",
        "colab": {
          "base_uri": "https://localhost:8080/",
          "height": 234
        },
        "outputId": "ab05ab71-ce01-41ab-e01d-f0bd16163e4f"
      },
      "source": [
        "V_2019 = scale(df_m[['Value']][:'2019-12'], monthly=True).round(3)\n",
        "V_2019 = pd.DataFrame(V_2019, index = df_m[['Value']][:'2019-12'].index , columns= ['Scaled_2019'])\n",
        "V_2019.tail()"
      ],
      "execution_count": 19,
      "outputs": [
        {
          "output_type": "execute_result",
          "data": {
            "text/html": [
              "<div>\n",
              "<style scoped>\n",
              "    .dataframe tbody tr th:only-of-type {\n",
              "        vertical-align: middle;\n",
              "    }\n",
              "\n",
              "    .dataframe tbody tr th {\n",
              "        vertical-align: top;\n",
              "    }\n",
              "\n",
              "    .dataframe thead th {\n",
              "        text-align: right;\n",
              "    }\n",
              "</style>\n",
              "<table border=\"1\" class=\"dataframe\">\n",
              "  <thead>\n",
              "    <tr style=\"text-align: right;\">\n",
              "      <th></th>\n",
              "      <th>Scaled_2019</th>\n",
              "    </tr>\n",
              "    <tr>\n",
              "      <th>Date</th>\n",
              "      <th></th>\n",
              "    </tr>\n",
              "  </thead>\n",
              "  <tbody>\n",
              "    <tr>\n",
              "      <th>2019-08-31</th>\n",
              "      <td>-0.680</td>\n",
              "    </tr>\n",
              "    <tr>\n",
              "      <th>2019-09-30</th>\n",
              "      <td>-0.548</td>\n",
              "    </tr>\n",
              "    <tr>\n",
              "      <th>2019-10-31</th>\n",
              "      <td>-0.503</td>\n",
              "    </tr>\n",
              "    <tr>\n",
              "      <th>2019-11-30</th>\n",
              "      <td>-0.621</td>\n",
              "    </tr>\n",
              "    <tr>\n",
              "      <th>2019-12-31</th>\n",
              "      <td>-0.306</td>\n",
              "    </tr>\n",
              "  </tbody>\n",
              "</table>\n",
              "</div>"
            ],
            "text/plain": [
              "            Scaled_2019\n",
              "Date                   \n",
              "2019-08-31       -0.680\n",
              "2019-09-30       -0.548\n",
              "2019-10-31       -0.503\n",
              "2019-11-30       -0.621\n",
              "2019-12-31       -0.306"
            ]
          },
          "metadata": {
            "tags": []
          },
          "execution_count": 19
        }
      ]
    },
    {
      "cell_type": "code",
      "metadata": {
        "id": "AXOYXjkmyiXy",
        "colab": {
          "base_uri": "https://localhost:8080/",
          "height": 234
        },
        "outputId": "f61cf1f3-32f8-4e12-8345-614f868ec531"
      },
      "source": [
        "V_2020 = scale(df_m[['Value']][:'2020-12'], monthly=True).round(3)\n",
        "V_2020 = pd.DataFrame(V_2020, index = df_m[['Value']][:'2020-12'].index , columns= ['Scaled_2020'])\n",
        "V_2020.tail()"
      ],
      "execution_count": 20,
      "outputs": [
        {
          "output_type": "execute_result",
          "data": {
            "text/html": [
              "<div>\n",
              "<style scoped>\n",
              "    .dataframe tbody tr th:only-of-type {\n",
              "        vertical-align: middle;\n",
              "    }\n",
              "\n",
              "    .dataframe tbody tr th {\n",
              "        vertical-align: top;\n",
              "    }\n",
              "\n",
              "    .dataframe thead th {\n",
              "        text-align: right;\n",
              "    }\n",
              "</style>\n",
              "<table border=\"1\" class=\"dataframe\">\n",
              "  <thead>\n",
              "    <tr style=\"text-align: right;\">\n",
              "      <th></th>\n",
              "      <th>Scaled_2020</th>\n",
              "    </tr>\n",
              "    <tr>\n",
              "      <th>Date</th>\n",
              "      <th></th>\n",
              "    </tr>\n",
              "  </thead>\n",
              "  <tbody>\n",
              "    <tr>\n",
              "      <th>2020-08-31</th>\n",
              "      <td>-0.633</td>\n",
              "    </tr>\n",
              "    <tr>\n",
              "      <th>2020-09-30</th>\n",
              "      <td>-0.572</td>\n",
              "    </tr>\n",
              "    <tr>\n",
              "      <th>2020-10-31</th>\n",
              "      <td>-0.767</td>\n",
              "    </tr>\n",
              "    <tr>\n",
              "      <th>2020-11-30</th>\n",
              "      <td>-0.756</td>\n",
              "    </tr>\n",
              "    <tr>\n",
              "      <th>2020-12-31</th>\n",
              "      <td>-0.797</td>\n",
              "    </tr>\n",
              "  </tbody>\n",
              "</table>\n",
              "</div>"
            ],
            "text/plain": [
              "            Scaled_2020\n",
              "Date                   \n",
              "2020-08-31       -0.633\n",
              "2020-09-30       -0.572\n",
              "2020-10-31       -0.767\n",
              "2020-11-30       -0.756\n",
              "2020-12-31       -0.797"
            ]
          },
          "metadata": {
            "tags": []
          },
          "execution_count": 20
        }
      ]
    },
    {
      "cell_type": "code",
      "metadata": {
        "id": "ucfl9-KcDleW",
        "colab": {
          "base_uri": "https://localhost:8080/",
          "height": 296
        },
        "outputId": "daa2f63b-cd89-4c3b-9f07-a0e4a167d947"
      },
      "source": [
        "V_2014 = scale(df_m[['Value']][:'2014-12'], monthly=True).round(3)\n",
        "V_2014 = pd.DataFrame(V_2014, index = df_m[['Value']][:'2014-12'].index , columns= ['Scaled_2014'])\n",
        "V_2014.tail()"
      ],
      "execution_count": 21,
      "outputs": [
        {
          "output_type": "stream",
          "text": [
            "No of months available is 59. The scale function can not be applied.\n"
          ],
          "name": "stdout"
        },
        {
          "output_type": "error",
          "ename": "UnboundLocalError",
          "evalue": "ignored",
          "traceback": [
            "\u001b[0;31m---------------------------------------------------------------------------\u001b[0m",
            "\u001b[0;31mUnboundLocalError\u001b[0m                         Traceback (most recent call last)",
            "\u001b[0;32m<ipython-input-21-e417e21bec3f>\u001b[0m in \u001b[0;36m<module>\u001b[0;34m()\u001b[0m\n\u001b[0;32m----> 1\u001b[0;31m \u001b[0mV_2014\u001b[0m \u001b[0;34m=\u001b[0m \u001b[0mscale\u001b[0m\u001b[0;34m(\u001b[0m\u001b[0mdf_m\u001b[0m\u001b[0;34m[\u001b[0m\u001b[0;34m[\u001b[0m\u001b[0;34m'Value'\u001b[0m\u001b[0;34m]\u001b[0m\u001b[0;34m]\u001b[0m\u001b[0;34m[\u001b[0m\u001b[0;34m:\u001b[0m\u001b[0;34m'2014-12'\u001b[0m\u001b[0;34m]\u001b[0m\u001b[0;34m,\u001b[0m \u001b[0mmonthly\u001b[0m\u001b[0;34m=\u001b[0m\u001b[0;32mTrue\u001b[0m\u001b[0;34m)\u001b[0m\u001b[0;34m.\u001b[0m\u001b[0mround\u001b[0m\u001b[0;34m(\u001b[0m\u001b[0;36m3\u001b[0m\u001b[0;34m)\u001b[0m\u001b[0;34m\u001b[0m\u001b[0;34m\u001b[0m\u001b[0m\n\u001b[0m\u001b[1;32m      2\u001b[0m \u001b[0mV_2014\u001b[0m \u001b[0;34m=\u001b[0m \u001b[0mpd\u001b[0m\u001b[0;34m.\u001b[0m\u001b[0mDataFrame\u001b[0m\u001b[0;34m(\u001b[0m\u001b[0mV_2014\u001b[0m\u001b[0;34m,\u001b[0m \u001b[0mindex\u001b[0m \u001b[0;34m=\u001b[0m \u001b[0mdf_m\u001b[0m\u001b[0;34m[\u001b[0m\u001b[0;34m[\u001b[0m\u001b[0;34m'Value'\u001b[0m\u001b[0;34m]\u001b[0m\u001b[0;34m]\u001b[0m\u001b[0;34m[\u001b[0m\u001b[0;34m:\u001b[0m\u001b[0;34m'2014-12'\u001b[0m\u001b[0;34m]\u001b[0m\u001b[0;34m.\u001b[0m\u001b[0mindex\u001b[0m \u001b[0;34m,\u001b[0m \u001b[0mcolumns\u001b[0m\u001b[0;34m=\u001b[0m \u001b[0;34m[\u001b[0m\u001b[0;34m'Scaled_2014'\u001b[0m\u001b[0;34m]\u001b[0m\u001b[0;34m)\u001b[0m\u001b[0;34m\u001b[0m\u001b[0;34m\u001b[0m\u001b[0m\n\u001b[1;32m      3\u001b[0m \u001b[0mV_2014\u001b[0m\u001b[0;34m.\u001b[0m\u001b[0mtail\u001b[0m\u001b[0;34m(\u001b[0m\u001b[0;34m)\u001b[0m\u001b[0;34m\u001b[0m\u001b[0;34m\u001b[0m\u001b[0m\n",
            "\u001b[0;32m<ipython-input-11-bac12827492c>\u001b[0m in \u001b[0;36mscale\u001b[0;34m(series, monthly)\u001b[0m\n\u001b[1;32m     23\u001b[0m \u001b[0;34m\u001b[0m\u001b[0m\n\u001b[1;32m     24\u001b[0m \u001b[0;34m\u001b[0m\u001b[0m\n\u001b[0;32m---> 25\u001b[0;31m   \u001b[0;32mreturn\u001b[0m \u001b[0mscaled_values\u001b[0m\u001b[0;34m\u001b[0m\u001b[0;34m\u001b[0m\u001b[0m\n\u001b[0m",
            "\u001b[0;31mUnboundLocalError\u001b[0m: local variable 'scaled_values' referenced before assignment"
          ]
        }
      ]
    },
    {
      "cell_type": "code",
      "metadata": {
        "id": "E3jk8y9zDtj7",
        "colab": {
          "base_uri": "https://localhost:8080/",
          "height": 296
        },
        "outputId": "675de217-0fc5-42f4-ee80-11e35411e03c"
      },
      "source": [
        "V_2010 = scale(df_m[['Value']][:'2010-12'], monthly=True).round(3)\n",
        "V_2010 = pd.DataFrame(V_2010, index = df_m[['Value']][:'2010-12'].index , columns= ['Scaled_2010'])\n",
        "V_2010.tail()"
      ],
      "execution_count": 22,
      "outputs": [
        {
          "output_type": "stream",
          "text": [
            "No of months available is 11. The scale function can not be applied.\n"
          ],
          "name": "stdout"
        },
        {
          "output_type": "error",
          "ename": "UnboundLocalError",
          "evalue": "ignored",
          "traceback": [
            "\u001b[0;31m---------------------------------------------------------------------------\u001b[0m",
            "\u001b[0;31mUnboundLocalError\u001b[0m                         Traceback (most recent call last)",
            "\u001b[0;32m<ipython-input-22-22f4f6fd89a9>\u001b[0m in \u001b[0;36m<module>\u001b[0;34m()\u001b[0m\n\u001b[0;32m----> 1\u001b[0;31m \u001b[0mV_2010\u001b[0m \u001b[0;34m=\u001b[0m \u001b[0mscale\u001b[0m\u001b[0;34m(\u001b[0m\u001b[0mdf_m\u001b[0m\u001b[0;34m[\u001b[0m\u001b[0;34m[\u001b[0m\u001b[0;34m'Value'\u001b[0m\u001b[0;34m]\u001b[0m\u001b[0;34m]\u001b[0m\u001b[0;34m[\u001b[0m\u001b[0;34m:\u001b[0m\u001b[0;34m'2010-12'\u001b[0m\u001b[0;34m]\u001b[0m\u001b[0;34m,\u001b[0m \u001b[0mmonthly\u001b[0m\u001b[0;34m=\u001b[0m\u001b[0;32mTrue\u001b[0m\u001b[0;34m)\u001b[0m\u001b[0;34m.\u001b[0m\u001b[0mround\u001b[0m\u001b[0;34m(\u001b[0m\u001b[0;36m3\u001b[0m\u001b[0;34m)\u001b[0m\u001b[0;34m\u001b[0m\u001b[0;34m\u001b[0m\u001b[0m\n\u001b[0m\u001b[1;32m      2\u001b[0m \u001b[0mV_2010\u001b[0m \u001b[0;34m=\u001b[0m \u001b[0mpd\u001b[0m\u001b[0;34m.\u001b[0m\u001b[0mDataFrame\u001b[0m\u001b[0;34m(\u001b[0m\u001b[0mV_2010\u001b[0m\u001b[0;34m,\u001b[0m \u001b[0mindex\u001b[0m \u001b[0;34m=\u001b[0m \u001b[0mdf_m\u001b[0m\u001b[0;34m[\u001b[0m\u001b[0;34m[\u001b[0m\u001b[0;34m'Value'\u001b[0m\u001b[0;34m]\u001b[0m\u001b[0;34m]\u001b[0m\u001b[0;34m[\u001b[0m\u001b[0;34m:\u001b[0m\u001b[0;34m'2010-12'\u001b[0m\u001b[0;34m]\u001b[0m\u001b[0;34m.\u001b[0m\u001b[0mindex\u001b[0m \u001b[0;34m,\u001b[0m \u001b[0mcolumns\u001b[0m\u001b[0;34m=\u001b[0m \u001b[0;34m[\u001b[0m\u001b[0;34m'Scaled_2010'\u001b[0m\u001b[0;34m]\u001b[0m\u001b[0;34m)\u001b[0m\u001b[0;34m\u001b[0m\u001b[0;34m\u001b[0m\u001b[0m\n\u001b[1;32m      3\u001b[0m \u001b[0mV_2010\u001b[0m\u001b[0;34m.\u001b[0m\u001b[0mtail\u001b[0m\u001b[0;34m(\u001b[0m\u001b[0;34m)\u001b[0m\u001b[0;34m\u001b[0m\u001b[0;34m\u001b[0m\u001b[0m\n",
            "\u001b[0;32m<ipython-input-11-bac12827492c>\u001b[0m in \u001b[0;36mscale\u001b[0;34m(series, monthly)\u001b[0m\n\u001b[1;32m     23\u001b[0m \u001b[0;34m\u001b[0m\u001b[0m\n\u001b[1;32m     24\u001b[0m \u001b[0;34m\u001b[0m\u001b[0m\n\u001b[0;32m---> 25\u001b[0;31m   \u001b[0;32mreturn\u001b[0m \u001b[0mscaled_values\u001b[0m\u001b[0;34m\u001b[0m\u001b[0;34m\u001b[0m\u001b[0m\n\u001b[0m",
            "\u001b[0;31mUnboundLocalError\u001b[0m: local variable 'scaled_values' referenced before assignment"
          ]
        }
      ]
    },
    {
      "cell_type": "code",
      "metadata": {
        "id": "-Ye5hfukGwLa"
      },
      "source": [
        "V_2008 = scale(df_m[['Value']][:'2008-12'], monthly=True).round(3)\n",
        "V_2008 = pd.DataFrame(V_2008, index = df_m[['Value']][:'2008-12'].index , columns= ['Scaled_2008'])\n",
        "V_2008.tail()"
      ],
      "execution_count": null,
      "outputs": []
    },
    {
      "cell_type": "code",
      "metadata": {
        "id": "7kKwc187E0CA",
        "colab": {
          "base_uri": "https://localhost:8080/",
          "height": 234
        },
        "outputId": "5ea4519b-2a3d-4830-d4d7-db705b0b514a"
      },
      "source": [
        "V_2017 = scale(df_m[['Value']][:'2017-12'], monthly=True).round(3)\n",
        "V_2017 = pd.DataFrame(V_2017, index = df_m[['Value']][:'2017-12'].index , columns= ['Scaled_2017'])\n",
        "V_2017.tail()"
      ],
      "execution_count": 29,
      "outputs": [
        {
          "output_type": "execute_result",
          "data": {
            "text/html": [
              "<div>\n",
              "<style scoped>\n",
              "    .dataframe tbody tr th:only-of-type {\n",
              "        vertical-align: middle;\n",
              "    }\n",
              "\n",
              "    .dataframe tbody tr th {\n",
              "        vertical-align: top;\n",
              "    }\n",
              "\n",
              "    .dataframe thead th {\n",
              "        text-align: right;\n",
              "    }\n",
              "</style>\n",
              "<table border=\"1\" class=\"dataframe\">\n",
              "  <thead>\n",
              "    <tr style=\"text-align: right;\">\n",
              "      <th></th>\n",
              "      <th>Scaled_2017</th>\n",
              "    </tr>\n",
              "    <tr>\n",
              "      <th>Date</th>\n",
              "      <th></th>\n",
              "    </tr>\n",
              "  </thead>\n",
              "  <tbody>\n",
              "    <tr>\n",
              "      <th>2017-08-31</th>\n",
              "      <td>1.723</td>\n",
              "    </tr>\n",
              "    <tr>\n",
              "      <th>2017-09-30</th>\n",
              "      <td>1.852</td>\n",
              "    </tr>\n",
              "    <tr>\n",
              "      <th>2017-10-31</th>\n",
              "      <td>2.613</td>\n",
              "    </tr>\n",
              "    <tr>\n",
              "      <th>2017-11-30</th>\n",
              "      <td>2.363</td>\n",
              "    </tr>\n",
              "    <tr>\n",
              "      <th>2017-12-31</th>\n",
              "      <td>2.330</td>\n",
              "    </tr>\n",
              "  </tbody>\n",
              "</table>\n",
              "</div>"
            ],
            "text/plain": [
              "            Scaled_2017\n",
              "Date                   \n",
              "2017-08-31        1.723\n",
              "2017-09-30        1.852\n",
              "2017-10-31        2.613\n",
              "2017-11-30        2.363\n",
              "2017-12-31        2.330"
            ]
          },
          "metadata": {
            "tags": []
          },
          "execution_count": 29
        }
      ]
    },
    {
      "cell_type": "code",
      "metadata": {
        "id": "mjM0k2FHyiVW"
      },
      "source": [
        "df_M_combined = df_m.join(V_2017, how= 'outer').join(V_2018, how= 'outer').join(V_2019, how= 'outer').join(V_2020, how= 'outer')"
      ],
      "execution_count": 33,
      "outputs": []
    },
    {
      "cell_type": "code",
      "metadata": {
        "id": "f5axMJApEZ5H",
        "colab": {
          "base_uri": "https://localhost:8080/",
          "height": 1000
        },
        "outputId": "a47a8df4-7693-4715-889c-ef05196d9506"
      },
      "source": [
        "df_M_combined.tail(50)"
      ],
      "execution_count": 34,
      "outputs": [
        {
          "output_type": "execute_result",
          "data": {
            "text/html": [
              "<div>\n",
              "<style scoped>\n",
              "    .dataframe tbody tr th:only-of-type {\n",
              "        vertical-align: middle;\n",
              "    }\n",
              "\n",
              "    .dataframe tbody tr th {\n",
              "        vertical-align: top;\n",
              "    }\n",
              "\n",
              "    .dataframe thead th {\n",
              "        text-align: right;\n",
              "    }\n",
              "</style>\n",
              "<table border=\"1\" class=\"dataframe\">\n",
              "  <thead>\n",
              "    <tr style=\"text-align: right;\">\n",
              "      <th></th>\n",
              "      <th>Value</th>\n",
              "      <th>Mcap</th>\n",
              "      <th>Scaled_2017</th>\n",
              "      <th>Scaled_2018</th>\n",
              "      <th>Scaled_2019</th>\n",
              "      <th>Scaled_2020</th>\n",
              "    </tr>\n",
              "    <tr>\n",
              "      <th>Date</th>\n",
              "      <th></th>\n",
              "      <th></th>\n",
              "      <th></th>\n",
              "      <th></th>\n",
              "      <th></th>\n",
              "      <th></th>\n",
              "    </tr>\n",
              "  </thead>\n",
              "  <tbody>\n",
              "    <tr>\n",
              "      <th>2017-07-31</th>\n",
              "      <td>1.369</td>\n",
              "      <td>10788.0</td>\n",
              "      <td>1.644</td>\n",
              "      <td>1.328</td>\n",
              "      <td>1.282</td>\n",
              "      <td>1.335</td>\n",
              "    </tr>\n",
              "    <tr>\n",
              "      <th>2017-08-31</th>\n",
              "      <td>1.466</td>\n",
              "      <td>11137.0</td>\n",
              "      <td>1.723</td>\n",
              "      <td>1.403</td>\n",
              "      <td>1.362</td>\n",
              "      <td>1.426</td>\n",
              "    </tr>\n",
              "    <tr>\n",
              "      <th>2017-09-30</th>\n",
              "      <td>1.624</td>\n",
              "      <td>11533.0</td>\n",
              "      <td>1.852</td>\n",
              "      <td>1.525</td>\n",
              "      <td>1.491</td>\n",
              "      <td>1.574</td>\n",
              "    </tr>\n",
              "    <tr>\n",
              "      <th>2017-10-31</th>\n",
              "      <td>2.559</td>\n",
              "      <td>15107.0</td>\n",
              "      <td>2.613</td>\n",
              "      <td>2.245</td>\n",
              "      <td>2.258</td>\n",
              "      <td>2.450</td>\n",
              "    </tr>\n",
              "    <tr>\n",
              "      <th>2017-11-30</th>\n",
              "      <td>2.252</td>\n",
              "      <td>14209.0</td>\n",
              "      <td>2.363</td>\n",
              "      <td>2.009</td>\n",
              "      <td>2.006</td>\n",
              "      <td>2.162</td>\n",
              "    </tr>\n",
              "    <tr>\n",
              "      <th>2017-12-31</th>\n",
              "      <td>2.211</td>\n",
              "      <td>14183.0</td>\n",
              "      <td>2.330</td>\n",
              "      <td>1.977</td>\n",
              "      <td>1.973</td>\n",
              "      <td>2.124</td>\n",
              "    </tr>\n",
              "    <tr>\n",
              "      <th>2018-01-31</th>\n",
              "      <td>2.205</td>\n",
              "      <td>14404.0</td>\n",
              "      <td>NaN</td>\n",
              "      <td>1.972</td>\n",
              "      <td>1.968</td>\n",
              "      <td>2.118</td>\n",
              "    </tr>\n",
              "    <tr>\n",
              "      <th>2018-02-28</th>\n",
              "      <td>1.722</td>\n",
              "      <td>13002.0</td>\n",
              "      <td>NaN</td>\n",
              "      <td>1.600</td>\n",
              "      <td>1.572</td>\n",
              "      <td>1.666</td>\n",
              "    </tr>\n",
              "    <tr>\n",
              "      <th>2018-03-31</th>\n",
              "      <td>0.852</td>\n",
              "      <td>10234.0</td>\n",
              "      <td>NaN</td>\n",
              "      <td>0.929</td>\n",
              "      <td>0.858</td>\n",
              "      <td>0.851</td>\n",
              "    </tr>\n",
              "    <tr>\n",
              "      <th>2018-04-30</th>\n",
              "      <td>1.044</td>\n",
              "      <td>10569.0</td>\n",
              "      <td>NaN</td>\n",
              "      <td>1.077</td>\n",
              "      <td>1.016</td>\n",
              "      <td>1.030</td>\n",
              "    </tr>\n",
              "    <tr>\n",
              "      <th>2018-05-31</th>\n",
              "      <td>1.733</td>\n",
              "      <td>12565.0</td>\n",
              "      <td>NaN</td>\n",
              "      <td>1.609</td>\n",
              "      <td>1.581</td>\n",
              "      <td>1.676</td>\n",
              "    </tr>\n",
              "    <tr>\n",
              "      <th>2018-06-30</th>\n",
              "      <td>0.178</td>\n",
              "      <td>7957.0</td>\n",
              "      <td>NaN</td>\n",
              "      <td>0.410</td>\n",
              "      <td>0.306</td>\n",
              "      <td>0.219</td>\n",
              "    </tr>\n",
              "    <tr>\n",
              "      <th>2018-07-31</th>\n",
              "      <td>0.317</td>\n",
              "      <td>8120.0</td>\n",
              "      <td>NaN</td>\n",
              "      <td>0.517</td>\n",
              "      <td>0.420</td>\n",
              "      <td>0.349</td>\n",
              "    </tr>\n",
              "    <tr>\n",
              "      <th>2018-08-31</th>\n",
              "      <td>0.624</td>\n",
              "      <td>9040.0</td>\n",
              "      <td>NaN</td>\n",
              "      <td>0.754</td>\n",
              "      <td>0.672</td>\n",
              "      <td>0.637</td>\n",
              "    </tr>\n",
              "    <tr>\n",
              "      <th>2018-09-30</th>\n",
              "      <td>0.169</td>\n",
              "      <td>7762.0</td>\n",
              "      <td>NaN</td>\n",
              "      <td>0.403</td>\n",
              "      <td>0.298</td>\n",
              "      <td>0.211</td>\n",
              "    </tr>\n",
              "    <tr>\n",
              "      <th>2018-10-31</th>\n",
              "      <td>0.142</td>\n",
              "      <td>8146.0</td>\n",
              "      <td>NaN</td>\n",
              "      <td>0.382</td>\n",
              "      <td>0.276</td>\n",
              "      <td>0.185</td>\n",
              "    </tr>\n",
              "    <tr>\n",
              "      <th>2018-11-30</th>\n",
              "      <td>-0.202</td>\n",
              "      <td>7005.0</td>\n",
              "      <td>NaN</td>\n",
              "      <td>0.117</td>\n",
              "      <td>-0.006</td>\n",
              "      <td>-0.137</td>\n",
              "    </tr>\n",
              "    <tr>\n",
              "      <th>2018-12-31</th>\n",
              "      <td>-0.258</td>\n",
              "      <td>6638.0</td>\n",
              "      <td>NaN</td>\n",
              "      <td>0.074</td>\n",
              "      <td>-0.052</td>\n",
              "      <td>-0.189</td>\n",
              "    </tr>\n",
              "    <tr>\n",
              "      <th>2019-01-31</th>\n",
              "      <td>0.148</td>\n",
              "      <td>7855.0</td>\n",
              "      <td>NaN</td>\n",
              "      <td>NaN</td>\n",
              "      <td>0.281</td>\n",
              "      <td>0.191</td>\n",
              "    </tr>\n",
              "    <tr>\n",
              "      <th>2019-02-28</th>\n",
              "      <td>0.288</td>\n",
              "      <td>8297.0</td>\n",
              "      <td>NaN</td>\n",
              "      <td>NaN</td>\n",
              "      <td>0.396</td>\n",
              "      <td>0.322</td>\n",
              "    </tr>\n",
              "    <tr>\n",
              "      <th>2019-03-31</th>\n",
              "      <td>0.168</td>\n",
              "      <td>7955.0</td>\n",
              "      <td>NaN</td>\n",
              "      <td>NaN</td>\n",
              "      <td>0.298</td>\n",
              "      <td>0.210</td>\n",
              "    </tr>\n",
              "    <tr>\n",
              "      <th>2019-04-30</th>\n",
              "      <td>-0.074</td>\n",
              "      <td>7842.0</td>\n",
              "      <td>NaN</td>\n",
              "      <td>NaN</td>\n",
              "      <td>0.099</td>\n",
              "      <td>-0.017</td>\n",
              "    </tr>\n",
              "    <tr>\n",
              "      <th>2019-05-31</th>\n",
              "      <td>0.090</td>\n",
              "      <td>8370.0</td>\n",
              "      <td>NaN</td>\n",
              "      <td>NaN</td>\n",
              "      <td>0.234</td>\n",
              "      <td>0.137</td>\n",
              "    </tr>\n",
              "    <tr>\n",
              "      <th>2019-06-30</th>\n",
              "      <td>-0.234</td>\n",
              "      <td>7289.0</td>\n",
              "      <td>NaN</td>\n",
              "      <td>NaN</td>\n",
              "      <td>-0.032</td>\n",
              "      <td>-0.167</td>\n",
              "    </tr>\n",
              "    <tr>\n",
              "      <th>2019-07-31</th>\n",
              "      <td>-0.970</td>\n",
              "      <td>5204.0</td>\n",
              "      <td>NaN</td>\n",
              "      <td>NaN</td>\n",
              "      <td>-0.635</td>\n",
              "      <td>-0.856</td>\n",
              "    </tr>\n",
              "    <tr>\n",
              "      <th>2019-08-31</th>\n",
              "      <td>-1.025</td>\n",
              "      <td>5017.0</td>\n",
              "      <td>NaN</td>\n",
              "      <td>NaN</td>\n",
              "      <td>-0.680</td>\n",
              "      <td>-0.908</td>\n",
              "    </tr>\n",
              "    <tr>\n",
              "      <th>2019-09-30</th>\n",
              "      <td>-0.864</td>\n",
              "      <td>5114.0</td>\n",
              "      <td>NaN</td>\n",
              "      <td>NaN</td>\n",
              "      <td>-0.548</td>\n",
              "      <td>-0.757</td>\n",
              "    </tr>\n",
              "    <tr>\n",
              "      <th>2019-10-31</th>\n",
              "      <td>-0.808</td>\n",
              "      <td>5326.0</td>\n",
              "      <td>NaN</td>\n",
              "      <td>NaN</td>\n",
              "      <td>-0.503</td>\n",
              "      <td>-0.705</td>\n",
              "    </tr>\n",
              "    <tr>\n",
              "      <th>2019-11-30</th>\n",
              "      <td>-0.953</td>\n",
              "      <td>4831.0</td>\n",
              "      <td>NaN</td>\n",
              "      <td>NaN</td>\n",
              "      <td>-0.621</td>\n",
              "      <td>-0.840</td>\n",
              "    </tr>\n",
              "    <tr>\n",
              "      <th>2019-12-31</th>\n",
              "      <td>-0.568</td>\n",
              "      <td>6714.0</td>\n",
              "      <td>NaN</td>\n",
              "      <td>NaN</td>\n",
              "      <td>-0.306</td>\n",
              "      <td>-0.480</td>\n",
              "    </tr>\n",
              "    <tr>\n",
              "      <th>2020-01-31</th>\n",
              "      <td>-0.704</td>\n",
              "      <td>6219.0</td>\n",
              "      <td>NaN</td>\n",
              "      <td>NaN</td>\n",
              "      <td>NaN</td>\n",
              "      <td>-0.607</td>\n",
              "    </tr>\n",
              "    <tr>\n",
              "      <th>2020-02-29</th>\n",
              "      <td>-0.802</td>\n",
              "      <td>5901.0</td>\n",
              "      <td>NaN</td>\n",
              "      <td>NaN</td>\n",
              "      <td>NaN</td>\n",
              "      <td>-0.699</td>\n",
              "    </tr>\n",
              "    <tr>\n",
              "      <th>2020-03-31</th>\n",
              "      <td>-1.580</td>\n",
              "      <td>3208.0</td>\n",
              "      <td>NaN</td>\n",
              "      <td>NaN</td>\n",
              "      <td>NaN</td>\n",
              "      <td>-1.428</td>\n",
              "    </tr>\n",
              "    <tr>\n",
              "      <th>2020-04-30</th>\n",
              "      <td>-1.214</td>\n",
              "      <td>4510.0</td>\n",
              "      <td>NaN</td>\n",
              "      <td>NaN</td>\n",
              "      <td>NaN</td>\n",
              "      <td>-1.085</td>\n",
              "    </tr>\n",
              "    <tr>\n",
              "      <th>2020-05-31</th>\n",
              "      <td>-1.243</td>\n",
              "      <td>4410.0</td>\n",
              "      <td>NaN</td>\n",
              "      <td>NaN</td>\n",
              "      <td>NaN</td>\n",
              "      <td>-1.112</td>\n",
              "    </tr>\n",
              "    <tr>\n",
              "      <th>2020-06-30</th>\n",
              "      <td>-0.835</td>\n",
              "      <td>5779.0</td>\n",
              "      <td>NaN</td>\n",
              "      <td>NaN</td>\n",
              "      <td>NaN</td>\n",
              "      <td>-0.730</td>\n",
              "    </tr>\n",
              "    <tr>\n",
              "      <th>2020-07-31</th>\n",
              "      <td>-0.675</td>\n",
              "      <td>6368.0</td>\n",
              "      <td>NaN</td>\n",
              "      <td>NaN</td>\n",
              "      <td>NaN</td>\n",
              "      <td>-0.580</td>\n",
              "    </tr>\n",
              "    <tr>\n",
              "      <th>2020-08-31</th>\n",
              "      <td>-0.732</td>\n",
              "      <td>6172.0</td>\n",
              "      <td>NaN</td>\n",
              "      <td>NaN</td>\n",
              "      <td>NaN</td>\n",
              "      <td>-0.633</td>\n",
              "    </tr>\n",
              "    <tr>\n",
              "      <th>2020-09-30</th>\n",
              "      <td>-0.666</td>\n",
              "      <td>6824.0</td>\n",
              "      <td>NaN</td>\n",
              "      <td>NaN</td>\n",
              "      <td>NaN</td>\n",
              "      <td>-0.572</td>\n",
              "    </tr>\n",
              "    <tr>\n",
              "      <th>2020-10-31</th>\n",
              "      <td>-0.875</td>\n",
              "      <td>6030.0</td>\n",
              "      <td>NaN</td>\n",
              "      <td>NaN</td>\n",
              "      <td>NaN</td>\n",
              "      <td>-0.767</td>\n",
              "    </tr>\n",
              "    <tr>\n",
              "      <th>2020-11-30</th>\n",
              "      <td>-0.863</td>\n",
              "      <td>6066.0</td>\n",
              "      <td>NaN</td>\n",
              "      <td>NaN</td>\n",
              "      <td>NaN</td>\n",
              "      <td>-0.756</td>\n",
              "    </tr>\n",
              "    <tr>\n",
              "      <th>2020-12-31</th>\n",
              "      <td>-0.907</td>\n",
              "      <td>5766.0</td>\n",
              "      <td>NaN</td>\n",
              "      <td>NaN</td>\n",
              "      <td>NaN</td>\n",
              "      <td>-0.797</td>\n",
              "    </tr>\n",
              "    <tr>\n",
              "      <th>2021-01-31</th>\n",
              "      <td>-0.956</td>\n",
              "      <td>5586.0</td>\n",
              "      <td>NaN</td>\n",
              "      <td>NaN</td>\n",
              "      <td>NaN</td>\n",
              "      <td>NaN</td>\n",
              "    </tr>\n",
              "    <tr>\n",
              "      <th>2021-02-28</th>\n",
              "      <td>-1.209</td>\n",
              "      <td>4635.0</td>\n",
              "      <td>NaN</td>\n",
              "      <td>NaN</td>\n",
              "      <td>NaN</td>\n",
              "      <td>NaN</td>\n",
              "    </tr>\n",
              "    <tr>\n",
              "      <th>2021-03-31</th>\n",
              "      <td>-1.295</td>\n",
              "      <td>4222.0</td>\n",
              "      <td>NaN</td>\n",
              "      <td>NaN</td>\n",
              "      <td>NaN</td>\n",
              "      <td>NaN</td>\n",
              "    </tr>\n",
              "    <tr>\n",
              "      <th>2021-04-30</th>\n",
              "      <td>-1.261</td>\n",
              "      <td>4352.0</td>\n",
              "      <td>NaN</td>\n",
              "      <td>NaN</td>\n",
              "      <td>NaN</td>\n",
              "      <td>NaN</td>\n",
              "    </tr>\n",
              "    <tr>\n",
              "      <th>2021-05-31</th>\n",
              "      <td>-1.098</td>\n",
              "      <td>4949.0</td>\n",
              "      <td>NaN</td>\n",
              "      <td>NaN</td>\n",
              "      <td>NaN</td>\n",
              "      <td>NaN</td>\n",
              "    </tr>\n",
              "    <tr>\n",
              "      <th>2021-06-30</th>\n",
              "      <td>-0.936</td>\n",
              "      <td>5546.0</td>\n",
              "      <td>NaN</td>\n",
              "      <td>NaN</td>\n",
              "      <td>NaN</td>\n",
              "      <td>NaN</td>\n",
              "    </tr>\n",
              "    <tr>\n",
              "      <th>2021-07-31</th>\n",
              "      <td>-0.690</td>\n",
              "      <td>6512.0</td>\n",
              "      <td>NaN</td>\n",
              "      <td>NaN</td>\n",
              "      <td>NaN</td>\n",
              "      <td>NaN</td>\n",
              "    </tr>\n",
              "    <tr>\n",
              "      <th>2021-08-31</th>\n",
              "      <td>-0.649</td>\n",
              "      <td>NaN</td>\n",
              "      <td>NaN</td>\n",
              "      <td>NaN</td>\n",
              "      <td>NaN</td>\n",
              "      <td>NaN</td>\n",
              "    </tr>\n",
              "  </tbody>\n",
              "</table>\n",
              "</div>"
            ],
            "text/plain": [
              "            Value     Mcap  Scaled_2017  Scaled_2018  Scaled_2019  Scaled_2020\n",
              "Date                                                                          \n",
              "2017-07-31  1.369  10788.0        1.644        1.328        1.282        1.335\n",
              "2017-08-31  1.466  11137.0        1.723        1.403        1.362        1.426\n",
              "2017-09-30  1.624  11533.0        1.852        1.525        1.491        1.574\n",
              "2017-10-31  2.559  15107.0        2.613        2.245        2.258        2.450\n",
              "2017-11-30  2.252  14209.0        2.363        2.009        2.006        2.162\n",
              "2017-12-31  2.211  14183.0        2.330        1.977        1.973        2.124\n",
              "2018-01-31  2.205  14404.0          NaN        1.972        1.968        2.118\n",
              "2018-02-28  1.722  13002.0          NaN        1.600        1.572        1.666\n",
              "2018-03-31  0.852  10234.0          NaN        0.929        0.858        0.851\n",
              "2018-04-30  1.044  10569.0          NaN        1.077        1.016        1.030\n",
              "2018-05-31  1.733  12565.0          NaN        1.609        1.581        1.676\n",
              "2018-06-30  0.178   7957.0          NaN        0.410        0.306        0.219\n",
              "2018-07-31  0.317   8120.0          NaN        0.517        0.420        0.349\n",
              "2018-08-31  0.624   9040.0          NaN        0.754        0.672        0.637\n",
              "2018-09-30  0.169   7762.0          NaN        0.403        0.298        0.211\n",
              "2018-10-31  0.142   8146.0          NaN        0.382        0.276        0.185\n",
              "2018-11-30 -0.202   7005.0          NaN        0.117       -0.006       -0.137\n",
              "2018-12-31 -0.258   6638.0          NaN        0.074       -0.052       -0.189\n",
              "2019-01-31  0.148   7855.0          NaN          NaN        0.281        0.191\n",
              "2019-02-28  0.288   8297.0          NaN          NaN        0.396        0.322\n",
              "2019-03-31  0.168   7955.0          NaN          NaN        0.298        0.210\n",
              "2019-04-30 -0.074   7842.0          NaN          NaN        0.099       -0.017\n",
              "2019-05-31  0.090   8370.0          NaN          NaN        0.234        0.137\n",
              "2019-06-30 -0.234   7289.0          NaN          NaN       -0.032       -0.167\n",
              "2019-07-31 -0.970   5204.0          NaN          NaN       -0.635       -0.856\n",
              "2019-08-31 -1.025   5017.0          NaN          NaN       -0.680       -0.908\n",
              "2019-09-30 -0.864   5114.0          NaN          NaN       -0.548       -0.757\n",
              "2019-10-31 -0.808   5326.0          NaN          NaN       -0.503       -0.705\n",
              "2019-11-30 -0.953   4831.0          NaN          NaN       -0.621       -0.840\n",
              "2019-12-31 -0.568   6714.0          NaN          NaN       -0.306       -0.480\n",
              "2020-01-31 -0.704   6219.0          NaN          NaN          NaN       -0.607\n",
              "2020-02-29 -0.802   5901.0          NaN          NaN          NaN       -0.699\n",
              "2020-03-31 -1.580   3208.0          NaN          NaN          NaN       -1.428\n",
              "2020-04-30 -1.214   4510.0          NaN          NaN          NaN       -1.085\n",
              "2020-05-31 -1.243   4410.0          NaN          NaN          NaN       -1.112\n",
              "2020-06-30 -0.835   5779.0          NaN          NaN          NaN       -0.730\n",
              "2020-07-31 -0.675   6368.0          NaN          NaN          NaN       -0.580\n",
              "2020-08-31 -0.732   6172.0          NaN          NaN          NaN       -0.633\n",
              "2020-09-30 -0.666   6824.0          NaN          NaN          NaN       -0.572\n",
              "2020-10-31 -0.875   6030.0          NaN          NaN          NaN       -0.767\n",
              "2020-11-30 -0.863   6066.0          NaN          NaN          NaN       -0.756\n",
              "2020-12-31 -0.907   5766.0          NaN          NaN          NaN       -0.797\n",
              "2021-01-31 -0.956   5586.0          NaN          NaN          NaN          NaN\n",
              "2021-02-28 -1.209   4635.0          NaN          NaN          NaN          NaN\n",
              "2021-03-31 -1.295   4222.0          NaN          NaN          NaN          NaN\n",
              "2021-04-30 -1.261   4352.0          NaN          NaN          NaN          NaN\n",
              "2021-05-31 -1.098   4949.0          NaN          NaN          NaN          NaN\n",
              "2021-06-30 -0.936   5546.0          NaN          NaN          NaN          NaN\n",
              "2021-07-31 -0.690   6512.0          NaN          NaN          NaN          NaN\n",
              "2021-08-31 -0.649      NaN          NaN          NaN          NaN          NaN"
            ]
          },
          "metadata": {
            "tags": []
          },
          "execution_count": 34
        }
      ]
    },
    {
      "cell_type": "code",
      "metadata": {
        "id": "YHe9JpsvyiS-",
        "colab": {
          "base_uri": "https://localhost:8080/",
          "height": 493
        },
        "outputId": "64df4bbc-b365-4b6f-a765-1b62cc45a8c7"
      },
      "source": [
        "plt.figure(figsize=(15,8))\n",
        "df_M_combined['Value'].plot()\n",
        "#df_M_combined['Scaled_2010'].plot()\n",
        "#df_M_combined['Scaled_2014'].plot()\n",
        "df_M_combined['Scaled_2017'].plot()\n",
        "df_M_combined['Scaled_2018'].plot()\n",
        "df_M_combined['Scaled_2019'].plot()\n",
        "df_M_combined['Scaled_2020'].plot()\n",
        "\n",
        "plt.legend()\n",
        "plt.show()\n"
      ],
      "execution_count": 37,
      "outputs": [
        {
          "output_type": "display_data",
          "data": {
            "image/png": "[encoded data removed]",
            "text/plain": [
              "<Figure size 1080x576 with 1 Axes>"
            ]
          },
          "metadata": {
            "tags": []
          }
        }
      ]
    },
    {
      "cell_type": "code",
      "metadata": {
        "id": "E1hAFGCnqHgj"
      },
      "source": [
        "df_M_combined['S_value']['2015-12':].plot()\n",
        "#df_M_combined['Scaled_2014'].plot()"
      ],
      "execution_count": null,
      "outputs": []
    },
    {
      "cell_type": "code",
      "metadata": {
        "id": "rDpu_PtTql42"
      },
      "source": [
        "df_M_combined['Scaled_2014'].plot()"
      ],
      "execution_count": null,
      "outputs": []
    },
    {
      "cell_type": "markdown",
      "metadata": {
        "id": "aJ9wm_esa4fp"
      },
      "source": [
        "## Include correlation with MCap too.\n"
      ]
    },
    {
      "cell_type": "code",
      "metadata": {
        "id": "lX5Ye7fKe51l",
        "colab": {
          "base_uri": "https://localhost:8080/",
          "height": 110
        },
        "outputId": "30fdd591-d7f5-472e-bdbd-7df18147e0a8"
      },
      "source": [
        "df_m.corr()"
      ],
      "execution_count": 39,
      "outputs": [
        {
          "output_type": "execute_result",
          "data": {
            "text/html": [
              "<div>\n",
              "<style scoped>\n",
              "    .dataframe tbody tr th:only-of-type {\n",
              "        vertical-align: middle;\n",
              "    }\n",
              "\n",
              "    .dataframe tbody tr th {\n",
              "        vertical-align: top;\n",
              "    }\n",
              "\n",
              "    .dataframe thead th {\n",
              "        text-align: right;\n",
              "    }\n",
              "</style>\n",
              "<table border=\"1\" class=\"dataframe\">\n",
              "  <thead>\n",
              "    <tr style=\"text-align: right;\">\n",
              "      <th></th>\n",
              "      <th>Value</th>\n",
              "      <th>Mcap</th>\n",
              "    </tr>\n",
              "  </thead>\n",
              "  <tbody>\n",
              "    <tr>\n",
              "      <th>Value</th>\n",
              "      <td>1.000000</td>\n",
              "      <td>0.918685</td>\n",
              "    </tr>\n",
              "    <tr>\n",
              "      <th>Mcap</th>\n",
              "      <td>0.918685</td>\n",
              "      <td>1.000000</td>\n",
              "    </tr>\n",
              "  </tbody>\n",
              "</table>\n",
              "</div>"
            ],
            "text/plain": [
              "          Value      Mcap\n",
              "Value  1.000000  0.918685\n",
              "Mcap   0.918685  1.000000"
            ]
          },
          "metadata": {
            "tags": []
          },
          "execution_count": 39
        }
      ]
    },
    {
      "cell_type": "code",
      "metadata": {
        "id": "T31hCe7Q5rPU"
      },
      "source": [
        ""
      ],
      "execution_count": null,
      "outputs": []
    }
  ]
}